{
 "cells": [
  {
   "cell_type": "markdown",
   "metadata": {},
   "source": [
    "### This notebook is an exemplar which demonstrates transferring files between a Box folder and Savio scratch to run OCR on images using Tesseract (inside a Singularity container)\n",
    "\n",
    "( tested with boxsdk (2.0.0a2) on python 3.5 kernel)\n",
    "pip install -Iv boxsdk==2.0.0a2 "
   ]
  },
  {
   "cell_type": "markdown",
   "metadata": {},
   "source": [
    "\n",
    "_This software is available under the terms of the Educational Community License, Version 2.0 (ECL 2.0). This software is Copyright 2016 The Regents of the University of California, Berkeley (\"Berkeley\")._\n",
    "\n",
    "The text of the ECL license is reproduced below.\n",
    "\n",
    "Educational Community License, Version 2.0\n",
    "*************************************\n",
    "Copyright 2016 The Regents of the University of California, Berkeley (\"Berkeley\")\n",
    "\n",
    "Educational Community License, Version 2.0, April 2007\n",
    "\n",
    "The Educational Community License version 2.0 (\"ECL\") consists of the\n",
    "Apache 2.0 license, modified to change the scope of the patent grant in\n",
    "section 3 to be specific to the needs of the education communities using\n",
    "this license. The original Apache 2.0 license can be found at:[http://www.apache.org/licenses/LICENSE-2.0]"
   ]
  },
  {
   "cell_type": "markdown",
   "metadata": {},
   "source": [
    "### Notebook configuration section\n",
    "Set of target and source directories, script file names and other used as parameters in processing below."
   ]
  },
  {
   "cell_type": "code",
   "execution_count": null,
   "metadata": {
    "collapsed": false
   },
   "outputs": [],
   "source": [
    "runFolder = '/global/home/users/mmanning/'\n",
    "\n",
    "tesseractimage = '/global/scratch/mmanning/tesseract2.img'\n",
    "tesseractdatadir = '/opt/tessdata/'\n",
    "pdfnamelist = []\n",
    "\n",
    "boxProjectFolder = 'TesseractNotebook'\n",
    "scratchDataDirectory = '/global/scratch/mmanning/tesseractnotebook/'\n",
    "tesseractScratchDataDirectory = '/scratch/'\n",
    "\n",
    "SINGULARITYCMD = 'singularity exec -B /global/scratch/mmanning/tesseractnotebook:/scratch  /global/scratch/mmanning/tesseract2.img'"
   ]
  },
  {
   "cell_type": "markdown",
   "metadata": {},
   "source": [
    "### Box Authorization"
   ]
  },
  {
   "cell_type": "markdown",
   "metadata": {},
   "source": [
    "function to store the oauth2 refresh token in a local file. This can be modified to use a keychain or other as required."
   ]
  },
  {
   "cell_type": "code",
   "execution_count": null,
   "metadata": {
    "collapsed": true
   },
   "outputs": [],
   "source": [
    "def store_tokens(access_token, refresh_token):\n",
    "    \n",
    "    \"\"\"Callback for storing refresh tokens. (For now we ignore access tokens).\"\"\"\n",
    "    with open('apptoken.cfg', 'w') as f:\n",
    "     f.write(refresh_token.strip())"
   ]
  },
  {
   "cell_type": "markdown",
   "metadata": {},
   "source": [
    "Oauth2 information is read from a local file with three lines, one line per parameter. \n",
    "The client id and client secret are defined in the Box application created for this notebook.  Create the application at the Box Developers site: https://berkeley.app.box.com/developers/services/edit/\n",
    "\n",
    "The redirect uri can be any site that requires validation. Run the bootstrap notebook to create initial \n",
    "tokens that are then continually refreshed"
   ]
  },
  {
   "cell_type": "code",
   "execution_count": null,
   "metadata": {
    "collapsed": true
   },
   "outputs": [],
   "source": [
    "import os\n",
    "\n",
    "CLIENT_ID = None\n",
    "CLIENT_SECRET = None\n",
    "REDIRECT_URI = None\n",
    "os.chdir('/global/home/users/mmanning')\n",
    "# Read app info from text file\n",
    "with open('app.cfg', 'r') as app_cfg:\n",
    "    CLIENT_ID = app_cfg.readline()\n",
    "    CLIENT_SECRET = app_cfg.readline()\n",
    "    REDIRECT_URI = app_cfg.readline()"
   ]
  },
  {
   "cell_type": "markdown",
   "metadata": {},
   "source": [
    "The refresh token is read from a local file. This token was created by running the bootstrap notebook which requires the user to validate with CalNet Authentication Service credentials, then stores the returned auth and refresh tokens in the same config files."
   ]
  },
  {
   "cell_type": "code",
   "execution_count": null,
   "metadata": {
    "collapsed": true
   },
   "outputs": [],
   "source": [
    "REFRESH_TOKEN = None\n",
    "\n",
    "# Read app info from text file\n",
    "with open('apptoken.cfg', 'r') as apptoken_cfg:\n",
    "    REFRESH_TOKEN = apptoken_cfg.readline()"
   ]
  },
  {
   "cell_type": "markdown",
   "metadata": {},
   "source": [
    "__Perform autentication__ \n",
    "then create globus client\n",
    "Verify client is working by retrieving the name of the users root folder in Box"
   ]
  },
  {
   "cell_type": "code",
   "execution_count": null,
   "metadata": {
    "collapsed": false
   },
   "outputs": [],
   "source": [
    "from boxsdk import OAuth2\n",
    "from boxsdk import Client\n",
    "\n",
    "# Do OAuth2 authorization.\n",
    "oauth = OAuth2(\n",
    "    client_id=CLIENT_ID.strip(),\n",
    "    client_secret=CLIENT_SECRET.strip(),\n",
    "    refresh_token=REFRESH_TOKEN.strip(),\n",
    "    store_tokens=store_tokens\n",
    ")\n",
    "\n",
    "client = Client(oauth)\n",
    "\n",
    "root_folder = client.folder(folder_id='0').get()\n",
    "print (\"folder name: \", root_folder['name'] )\n",
    "\n",
    "items = client.folder(folder_id='0').get_items(limit=100, offset=0)\n",
    "#print (\"items: \", items )"
   ]
  },
  {
   "cell_type": "markdown",
   "metadata": {},
   "source": [
    "### Utility functions"
   ]
  },
  {
   "cell_type": "markdown",
   "metadata": {},
   "source": [
    "__function to find folder id be folder name.__\n",
    "Current SDK does not have a 'find by name' function so musst loop thru all folders and look for match."
   ]
  },
  {
   "cell_type": "code",
   "execution_count": null,
   "metadata": {
    "collapsed": true
   },
   "outputs": [],
   "source": [
    "def find_folder_id(folder_name):\n",
    "    folderlist = client.search(query=folder_name, result_type='folder', limit=10, offset=0)\n",
    "    \n",
    "    if len(folderlist) == 0 or len(folderlist) > 1:\n",
    "        print('folder not found: ', folder_name)\n",
    "        return 0\n",
    "    else:\n",
    "        return folderlist[0]['id']"
   ]
  },
  {
   "cell_type": "markdown",
   "metadata": {},
   "source": [
    "### Retrieve the pdfs from the Box folder.\n",
    "currently the Box SDK does not have an option for finding a folder by name so if you are looking for a specific folder then you would need to loop thru all the items in the list below and do a name match. Once you find the folder and retrieve the id, you can save that id for subsequent runs. Another option is to get the id from the url in the web client, but approah below is more flexible for now."
   ]
  },
  {
   "cell_type": "code",
   "execution_count": null,
   "metadata": {
    "collapsed": false
   },
   "outputs": [],
   "source": [
    "import os\n",
    "import shutil \n",
    "\n",
    "print ('current working directory: ', os.getcwd())\n",
    "os.chdir(scratchDataDirectory)\n",
    "\n",
    "# test folder contents\n",
    "items = client.folder(folder_id='0').get_items(limit=20, offset=0)\n",
    "if type(items) is list:\n",
    "    print ('number of files in top folder: ', len(items) )\n",
    "    \n",
    "    targetfolderId = ''\n",
    "    for item in items:\n",
    "        if item['type'] == 'folder':\n",
    "            print('folder name: ', item['name'])\n",
    "            if item['name'] == boxProjectFolder:\n",
    "                targetfolderId = item['id']\n",
    "                print('targetfolderId: ', targetfolderId)\n",
    "        \n",
    "    if targetfolderId is not None:\n",
    "        tgtitems = client.folder(folder_id=targetfolderId).get_items(limit=200, offset=0)\n",
    "        if type(tgtitems) is list:\n",
    "            print ('number of files in target folder: ', len(tgtitems) ) \n",
    "        \n",
    "        # download all pdf files\n",
    "        for tgtitem in tgtitems:\n",
    "            if  not tgtitem['type'] == 'folder' and tgtitem['name'].endswith('.pdf'):\n",
    "                print('downloading: ', tgtitem['name'])\n",
    "                #pdfcontent = client.file(file_id=tgtitem['id']).content()\n",
    "                #newfile = open(scratchDataDirectory + tgtitem['name'], 'wb')\n",
    "                #newfile.write(pdfcontent)\n",
    "                #newfile.close()"
   ]
  },
  {
   "cell_type": "markdown",
   "metadata": {},
   "source": [
    "__clean up filenames to reduce issues__"
   ]
  },
  {
   "cell_type": "code",
   "execution_count": null,
   "metadata": {
    "collapsed": false
   },
   "outputs": [],
   "source": [
    "!for f in *\\ *; do mv \"$f\" \"${f//[^A-Za-z0-9._-]/_}\"; done"
   ]
  },
  {
   "cell_type": "markdown",
   "metadata": {},
   "source": [
    "### Convert all pdf files in working directory to images"
   ]
  },
  {
   "cell_type": "code",
   "execution_count": null,
   "metadata": {
    "collapsed": false
   },
   "outputs": [],
   "source": [
    "\n",
    "def runGhostscript(pdfFile):\n",
    "    print(\"filename: \", pdfFile)\n",
    "    if filename.endswith(\".pdf\") : \n",
    "        name, extension = os.path.splitext(pdfFile)\n",
    "        \n",
    "        # Ghostscript executable is inside the container.\n",
    "        # TEMPLATE: gs -dBATCH -dNOPAUSE -dQUIET -sDEVICE=png16m -sOutputFile=/scratch/test/output/test-%d.png -r300 /scratch/test/germanocr.pdf\n",
    "        GHOSTSCRIPTCMD = 'gs -dBATCH -dNOPAUSE -dQUIET -sDEVICE=png16m -sOutputFile={}{}-%d.png -r300 {}{}'\n",
    "        gcmd = GHOSTSCRIPTCMD.format(tesseractScratchDataDirectory, name, tesseractScratchDataDirectory,pdfFile )\n",
    "\n",
    "        # \n",
    "        # convert pdf to png\n",
    "        #\n",
    "        print(\"singularity cmd: \", SINGULARITYCMD)\n",
    "        print(\"gs cmd: \", gcmd)\n",
    "        #result = subprocess.call(GHOSTSCRIPTCMD)\n",
    "        result = !$SINGULARITYCMD $gcmd\n",
    "        print(\"gs result: \", result)"
   ]
  },
  {
   "cell_type": "code",
   "execution_count": null,
   "metadata": {
    "collapsed": false
   },
   "outputs": [],
   "source": [
    "pdffileList = []\n",
    "for filename in os.listdir(scratchDataDirectory):\n",
    "    print(\"filename: \", filename)\n",
    "    if filename.endswith(\".pdf\") : \n",
    "        pdffileList.append(filename)\n",
    "        \n",
    "        name, extension = os.path.splitext(filename)\n",
    "        pdfnamelist.append(name)\n",
    "        \n",
    "print(\"pdffileList: \", pdffileList)\n",
    "print(\"filenameList: \", pdfnamelist )\n",
    "\n",
    "\n",
    "#\n",
    "# multiprocess the pdf to png work work\n",
    "#\n",
    "#pool0 = Pool(20)\n",
    "#pool0.map(runGhostscript, pdffileList)\n",
    "#pool0.close()\n",
    "#pool0.join()"
   ]
  },
  {
   "cell_type": "markdown",
   "metadata": {},
   "source": [
    "### Run tesseract on all image files in the working directory"
   ]
  },
  {
   "cell_type": "code",
   "execution_count": null,
   "metadata": {
    "collapsed": false
   },
   "outputs": [],
   "source": [
    "def runTesseract(imagefile):\n",
    "    print(\"imagefile : \", imagefile)\n",
    "    \n",
    "    # template: tesseract --tessdata-dir /opt/tessdata /scratch/germanocr_Page_01.png  germanout  -l deu\n",
    "    TCMD = 'tesseract --tessdata-dir /opt/tessdata {}{} {}{}  -l eng'\n",
    "    #\n",
    "    # ocr the png\n",
    "    # \n",
    "    basename, ext = os.path.splitext(imagefile)\n",
    "    tcmd = TCMD.format(tesseractScratchDataDirectory, imagefile, tesseractScratchDataDirectory,basename )\n",
    "    print(\"tesseract cmd: \", tcmd)\n",
    "    #print(\"singularity cmd: \", SINGULARITYCMD)\n",
    "\n",
    "    result = !$SINGULARITYCMD $tcmd\n",
    "    print(\"tesseract result: \", result)\n",
    "    TCMD = 'tesseract --tessdata-dir /opt/tessdata {}{} {}{}  -l eng' \n"
   ]
  },
  {
   "cell_type": "code",
   "execution_count": null,
   "metadata": {
    "collapsed": false
   },
   "outputs": [],
   "source": [
    "from multiprocessing import Pool\n",
    "\n",
    "imageList = []\n",
    "for imagename in os.listdir(scratchDataDirectory):\n",
    "    if imagename.endswith(\".png\"):\n",
    "        imageList.append(imagename)\n",
    "\n",
    "#\n",
    "# multiprocess the ocr work\n",
    "#\n",
    "#pool = Pool()\n",
    "#pool.map(runTesseract, imageList)\n",
    "#pool.close()\n",
    "#pool.join()"
   ]
  },
  {
   "cell_type": "markdown",
   "metadata": {},
   "source": [
    "### Merge text files and upload to Box"
   ]
  },
  {
   "cell_type": "code",
   "execution_count": null,
   "metadata": {
    "collapsed": true
   },
   "outputs": [],
   "source": [
    "import re\n",
    "\n",
    "def natural_sort_key(s, _nsre=re.compile('([0-9]+)')):\n",
    "    return [int(text) if text.isdigit() else text.lower()\n",
    "            for text in re.split(_nsre, s)]  "
   ]
  },
  {
   "cell_type": "code",
   "execution_count": null,
   "metadata": {
    "collapsed": false
   },
   "outputs": [],
   "source": [
    "print(\"pdfnamelist: \", pdfnamelist ) \n",
    "\n",
    "for name in pdfnamelist:\n",
    "    mergeList = []\n",
    "    for filename in os.listdir(scratchDataDirectory):\n",
    "        #print(\"filename: \", filename)\n",
    "        if filename.endswith(\".txt\") and filename.startswith(name): \n",
    "            mergeList.append(filename)\n",
    "    #print(mergeList)\n",
    "\n",
    "    sortedList = sorted(mergeList, key = natural_sort_key)\n",
    "    #print(sortedList)\n",
    "\n",
    "    alltextfilename = ''.join([scratchDataDirectory,name,'ALL.txt'])\n",
    "    with open(alltextfilename, 'w', encoding=\"utf-8\") as outfile:\n",
    "        for fname in sortedList:\n",
    "            with open(''.join([scratchDataDirectory,fname]), encoding=\"utf-8\" ) as infile:\n",
    "                for line in infile:\n",
    "                    outfile.write(line)\n",
    "                    \n",
    "    upload_folder = client.folder(folder_id=targetfolderId).get()\n",
    "    # upload the complete text file\n",
    "    textfileinbox = upload_folder.upload( alltextfilename)  \n",
    "    print (\"text file id: \", textfileinbox['id'] )\n",
    "    "
   ]
  },
  {
   "cell_type": "code",
   "execution_count": null,
   "metadata": {
    "collapsed": true
   },
   "outputs": [],
   "source": []
  }
 ],
 "metadata": {
  "kernelspec": {
   "display_name": "py35",
   "language": "python",
   "name": "py35"
  },
  "language_info": {
   "codemirror_mode": {
    "name": "ipython",
    "version": 3
   },
   "file_extension": ".py",
   "mimetype": "text/x-python",
   "name": "python",
   "nbconvert_exporter": "python",
   "pygments_lexer": "ipython3",
   "version": "3.5.2"
  }
 },
 "nbformat": 4,
 "nbformat_minor": 1
}
