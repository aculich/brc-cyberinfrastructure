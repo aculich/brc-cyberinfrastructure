{
 "cells": [
  {
   "cell_type": "code",
   "execution_count": 1,
   "metadata": {
    "collapsed": false
   },
   "outputs": [],
   "source": [
    "\n",
    "import httplib2\n",
    "import os\n",
    "\n",
    "from apiclient import discovery\n",
    "from oauth2client import client\n",
    "from oauth2client import tools\n",
    "from oauth2client.file import Storage\n"
   ]
  },
  {
   "cell_type": "code",
   "execution_count": 2,
   "metadata": {
    "collapsed": false
   },
   "outputs": [],
   "source": [
    "import argparse\n",
    "parser = argparse.ArgumentParser(parents=[tools.argparser])\n",
    "parser.add_argument('-f', help=argparse.SUPPRESS)\n",
    "\n",
    "flags = parser.parse_known_args()[0]\n",
    "flags.noauth_local_webserver = True"
   ]
  },
  {
   "cell_type": "code",
   "execution_count": 3,
   "metadata": {
    "collapsed": true
   },
   "outputs": [],
   "source": [
    "# If modifying these scopes, delete your previously saved credentials\n",
    "# at ~/.credentials/drive-python-quickstart.json\n",
    "SCOPES = 'https://www.googleapis.com/auth/drive.metadata.readonly'\n",
    "CLIENT_SECRET_FILE = 'client_secret.json'\n",
    "APPLICATION_NAME = 'gDriveConnect'"
   ]
  },
  {
   "cell_type": "code",
   "execution_count": 4,
   "metadata": {
    "collapsed": true
   },
   "outputs": [],
   "source": [
    "def get_credentials():\n",
    "    \"\"\"Gets valid user credentials from storage.\n",
    "\n",
    "    If nothing has been stored, or if the stored credentials are invalid,\n",
    "    the OAuth2 flow is completed to obtain the new credentials.\n",
    "\n",
    "    Returns:\n",
    "        Credentials, the obtained credential.\n",
    "    \"\"\"\n",
    "    home_dir = os.path.expanduser('~')\n",
    "    credential_dir = os.path.join(home_dir, '.credentials')\n",
    "    if not os.path.exists(credential_dir):\n",
    "        os.makedirs(credential_dir)\n",
    "    credential_path = os.path.join(credential_dir,\n",
    "                                   'gDriveConnect.json')\n",
    "\n",
    "    store = Storage(credential_path)\n",
    "    credentials = store.get()\n",
    "    if not credentials or credentials.invalid:\n",
    "        flow = client.flow_from_clientsecrets(CLIENT_SECRET_FILE, SCOPES)\n",
    "        flow.user_agent = APPLICATION_NAME\n",
    "        if flags:\n",
    "            credentials = tools.run_flow(flow, store, flags)\n",
    "        else: # Needed only for compatibility with Python 2.6\n",
    "            credentials = tools.run(flow, store)\n",
    "        print('Storing credentials to ' + credential_path)\n",
    "    return credentials"
   ]
  },
  {
   "cell_type": "code",
   "execution_count": 5,
   "metadata": {
    "collapsed": false
   },
   "outputs": [
    {
     "name": "stdout",
     "output_type": "stream",
     "text": [
      "Files:\n",
      "BRC User Account Request Form  (1wHoRNe74CqxOvDXDVjbfwnSh66cX5UmVkmvyQQIwCPM)\n",
      "Ebeling, E. - Altbabylonische Briefe der Louvre-Sammlung aus Larsa (MAOG 15 1942).pdf (0B0SPxF8dXcvVNnloWEw1Q1VfdlU)\n",
      "BRC User Account Requests (1ePS01JUm1BMMQSrBJuXZ9mO8lkRah2YWJTIiPHk5eWY)\n",
      "Leslau_1966_Ethiopians speak Chaha.pdf (0B30KweltiOGYYVE5MUFTX1BiZG8)\n",
      "Splittable DoFn proposal (1AQmx-T9XjSi1PNoEp5_L-lT0j7BkgTbmQnc6uFEMI4c)\n",
      "Kelly Rowland - researcher story - June 2016 (1doNl6omnvjfPo2YJBYzo0OMTSEFZiSmhXBdh7UYbliU)\n",
      "Research IT Onboarding Checklist - Emilia Malachowski (1gBlZc3yoatydsfQho2zPp89r02ULkUynFyaCyLxnLro)\n",
      "Singularity documentation for Research IT website - DRAFT - March 2017 (1LjlyGdCuqqFbAE38Q3BeSUNOoEDQrZs-t0oSoflCVHU)\n",
      "Proposed publishing calendar - Q3 FY16-17 (1tJspR5i8h75J2UzJRJZXRjofl8jqg1vFY2wfOl6Oesw)\n",
      "Adam Anderson article (1ZXkv4hLeENCLSp_QM-dYm9LJGGApxeCUPveeF1rDbEY)\n"
     ]
    }
   ],
   "source": [
    "\n",
    "\n",
    "def main():\n",
    "    \"\"\"Shows basic usage of the Google Drive API.\n",
    "\n",
    "    Creates a Google Drive API service object and outputs the names and IDs\n",
    "    for up to 10 files.\n",
    "    \"\"\"\n",
    "    credentials = get_credentials()\n",
    "    http = credentials.authorize(httplib2.Http())\n",
    "    service = discovery.build('drive', 'v3', http=http)\n",
    "\n",
    "    results = service.files().list(\n",
    "        pageSize=10,fields=\"nextPageToken, files(id, name)\").execute()\n",
    "    items = results.get('files', [])\n",
    "    if not items:\n",
    "        print('No files found.')\n",
    "    else:\n",
    "        print('Files:')\n",
    "        for item in items:\n",
    "            print('{0} ({1})'.format(item['name'], item['id']))\n",
    "\n",
    "if __name__ == '__main__':\n",
    "    main()"
   ]
  },
  {
   "cell_type": "code",
   "execution_count": null,
   "metadata": {
    "collapsed": true
   },
   "outputs": [],
   "source": []
  }
 ],
 "metadata": {
  "kernelspec": {
   "display_name": "py35",
   "language": "python",
   "name": "py35"
  },
  "language_info": {
   "codemirror_mode": {
    "name": "ipython",
    "version": 3
   },
   "file_extension": ".py",
   "mimetype": "text/x-python",
   "name": "python",
   "nbconvert_exporter": "python",
   "pygments_lexer": "ipython3",
   "version": "3.5.2"
  }
 },
 "nbformat": 4,
 "nbformat_minor": 1
}
