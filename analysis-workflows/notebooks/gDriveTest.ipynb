{
 "cells": [
  {
   "cell_type": "code",
   "execution_count": 1,
   "metadata": {
    "collapsed": false
   },
   "outputs": [],
   "source": [
    "import httplib2\n",
    "import os\n",
    "from time import sleep\n",
    "\n",
    "from apiclient import discovery\n",
    "from oauth2client import client\n",
    "from oauth2client import tools\n",
    "from oauth2client.file import Storage\n",
    "\n",
    "import logging\n",
    "logging.basicConfig(filename='example.log',level=logging.DEBUG)\n",
    "\n",
    "files_list = []\n",
    "folders_list = []"
   ]
  },
  {
   "cell_type": "code",
   "execution_count": 2,
   "metadata": {
    "collapsed": false
   },
   "outputs": [
    {
     "name": "stdout",
     "output_type": "stream",
     "text": [
      "credential_path: /global/home/users/mmanning/.credentials/gDriveConnect.json\n"
     ]
    }
   ],
   "source": [
    "\n",
    "home_dir = os.path.expanduser('~')\n",
    "credential_dir = os.path.join(home_dir, '.credentials')\n",
    "if not os.path.exists(credential_dir):\n",
    "    os.makedirs(credential_dir)\n",
    "credential_path = os.path.join(credential_dir, 'gDriveConnect.json')\n",
    "\n",
    "print('credential_path:', credential_path)"
   ]
  },
  {
   "cell_type": "code",
   "execution_count": 3,
   "metadata": {
    "collapsed": true
   },
   "outputs": [],
   "source": [
    "SCOPES = 'https://www.googleapis.com/auth/drive.metadata.readonly'\n",
    "CLIENT_SECRET_FILE = 'client_secret.json'\n",
    "APPLICATION_NAME = 'gDriveConnect'"
   ]
  },
  {
   "cell_type": "code",
   "execution_count": 4,
   "metadata": {
    "collapsed": true
   },
   "outputs": [],
   "source": [
    "def get_credentials():\n",
    "    flow = client.flow_from_clientsecrets(CLIENT_SECRET_FILE, SCOPES)\n",
    "    flow.user_agent = APPLICATION_NAME\n",
    "    if flags:\n",
    "        credentials = tools.run_flow(flow, store, flags)\n",
    "    else: # Needed only for compatibility with Python 2.6\n",
    "        credentials = tools.run(flow, store)\n",
    "    print('Storing credentials to ' + credential_path)\n",
    "    return credentials"
   ]
  },
  {
   "cell_type": "code",
   "execution_count": 5,
   "metadata": {
    "collapsed": false
   },
   "outputs": [],
   "source": [
    "def process_subfolders(folder_name, folder_id):\n",
    "    result = []\n",
    "\n",
    "    param = {}\n",
    "    template = \"'{}' in parents and mimeType='application/vnd.google-apps.folder'\"\n",
    "    query = template.format(str(folder_id))\n",
    "    param['pageSize'] = 1000\n",
    "    param['q'] = query\n",
    "    \n",
    "    page_token = None\n",
    "    while True:\n",
    "        try:\n",
    "\n",
    "            if page_token:\n",
    "                param['pageToken'] = page_token\n",
    "            \n",
    "            sleep(0.25) # Time in seconds.\n",
    "            folders = service.files().list(**param).execute()\n",
    "\n",
    "            #print('folders in this folder:', len(folders['files']) )\n",
    "            result.extend(folders['files'])\n",
    "            page_token = folders.get('nextPageToken')\n",
    "            if not page_token:\n",
    "                break\n",
    "        #except Exception as inst :\n",
    "        except    errors.HttpError as error :\n",
    "          print('An error occurred:', error.args)\n",
    "          break\n",
    "\n",
    "    print('process_subfolders result size:', len(result) )\n",
    "    #print('process_subfolders result:', result )\n",
    "\n",
    "    for folder in result:\n",
    "        folders_list.append( (folder_name, folder_id, folder['name'], folder['id'])) \n",
    "        \n",
    "        if ( folder_id == folder['id'] ):\n",
    "            print('ERROR !!!!!!!!!!!!!!!!!!!!!!!!!!!!', folder['name'],)\n",
    "        \n",
    "        \n",
    "        add_pdf_files(folder['name'], folder['id'])\n",
    "        \n",
    "        process_subfolders(folder['name'], folder['id'])\n"
   ]
  },
  {
   "cell_type": "code",
   "execution_count": 6,
   "metadata": {
    "collapsed": false
   },
   "outputs": [],
   "source": [
    "def add_pdf_files(folder_name, folder_id):\n",
    "    param = {}\n",
    "    template = \"'{}' in parents and mimeType='application/pdf'\"\n",
    "    query = template.format(str(folder_id))\n",
    "    #print('query', query)\n",
    "    \n",
    "    #param['q'] = \"'0B9Ibqa26YXiRNmk2WS0tNmhjejg' in parents and mimeType='application/vnd.google-apps.folder'\"\n",
    "    param['q'] = query\n",
    "    param['pageSize'] = 1000\n",
    "    \n",
    "    result = []\n",
    "    page_token = None\n",
    "    while True:\n",
    "        #print('add_pdf_files: still true')\n",
    "        try:\n",
    "\n",
    "            if page_token:\n",
    "                param['pageToken'] = page_token\n",
    "                \n",
    "            sleep(0.25) # Time in seconds.\n",
    "            files = service.files().list(**param).execute()\n",
    "            print('files:', len(files['files']) )\n",
    "\n",
    "            result.extend(files['files'])\n",
    "            page_token = files.get('nextPageToken')\n",
    "            #print('files  nextPageToken:', files.get('nextPageToken') )\n",
    "            if not page_token:\n",
    "                break\n",
    "        #except Exception as inst :\n",
    "        except    errors.HttpError as error :\n",
    "          print('An error occurred:', error.args)\n",
    "          break\n",
    "    \n",
    "    for item in result:\n",
    "        files_list.append( (folder_name, folder_id, item['name'], item['id'])) \n",
    "        #print('{0} ({1})'.format(item['name'], item['id']))\n",
    "\n",
    "    print('files_list:', len(files_list) )\n"
   ]
  },
  {
   "cell_type": "code",
   "execution_count": 7,
   "metadata": {
    "collapsed": false
   },
   "outputs": [
    {
     "name": "stdout",
     "output_type": "stream",
     "text": [
      "flags: Namespace(auth_host_name='localhost', auth_host_port=[8080, 8090], f='/global/home/users/mmanning/.local/share/jupyter/runtime/kernel-e3647962-faf4-4430-8fdd-40a986cac85c.json', logging_level='ERROR', noauth_local_webserver=True)\n"
     ]
    }
   ],
   "source": [
    "import argparse\n",
    "import logging\n",
    "\n",
    "parser = argparse.ArgumentParser(parents=[tools.argparser])\n",
    "parser.add_argument('-f', help=argparse.SUPPRESS)\n",
    "#parser.add_argument('--auth_host_name')\n",
    "#parser.add_argument('--noauth_local_webserver', action='store_true', default=True, help='Do not run a local web server.')\n",
    "#flags = argparse.ArgumentParser(parents=[parent]).parse_args()\n",
    "flags = parser.parse_known_args()[0]\n",
    "flags.noauth_local_webserver = True\n",
    "\n",
    "#flags = parser.parse_args()\n",
    "print('flags:', flags)\n",
    "logging.basicConfig(level='WARNING')"
   ]
  },
  {
   "cell_type": "code",
   "execution_count": 8,
   "metadata": {
    "collapsed": false
   },
   "outputs": [
    {
     "name": "stdout",
     "output_type": "stream",
     "text": [
      "credential_path: /global/home/users/mmanning/.credentials/gDriveConnect.json\n",
      "\n",
      "Go to the following link in your browser:\n",
      "\n",
      "    https://accounts.google.com/o/oauth2/auth?redirect_uri=urn%3Aietf%3Awg%3Aoauth%3A2.0%3Aoob&client_id=231667401550-d66jcj0dsafrvt6mu05grksevti1mcqh.apps.googleusercontent.com&scope=https%3A%2F%2Fwww.googleapis.com%2Fauth%2Fdrive.metadata.readonly&access_type=offline&response_type=code\n",
      "\n",
      "Enter verification code: 4/3FdZrIufNJc_MBirSHfL_qAzn0_y2Z0qSNeH3_DqqBk\n",
      "Authentication successful.\n",
      "Storing credentials to /global/home/users/mmanning/.credentials/gDriveConnect.json\n",
      "credentials: <oauth2client.client.OAuth2Credentials object at 0x2b48d0225b70>\n"
     ]
    }
   ],
   "source": [
    "store = Storage(credential_path)\n",
    "print('credential_path:', credential_path)\n",
    "credentials = get_credentials()\n",
    "print('credentials:', credentials)\n",
    "#http = credentials.authorize(httplib2.Http())\n",
    "#service = discovery.build('drive', 'v3', http=http)"
   ]
  },
  {
   "cell_type": "code",
   "execution_count": 9,
   "metadata": {
    "collapsed": false
   },
   "outputs": [
    {
     "name": "stdout",
     "output_type": "stream",
     "text": [
      "credential_path: /global/home/users/mmanning/.credentials/gDriveConnect.json\n"
     ]
    }
   ],
   "source": [
    "print('credential_path:', credential_path)\n",
    "http = credentials.authorize(httplib2.Http())\n",
    "service = discovery.build('drive', 'v3', http=http)"
   ]
  },
  {
   "cell_type": "code",
   "execution_count": null,
   "metadata": {
    "collapsed": false
   },
   "outputs": [
    {
     "name": "stdout",
     "output_type": "stream",
     "text": [
      "files: 0\n",
      "files_list: 2646\n",
      "files: 441\n",
      "files_list: 3087\n",
      "process_subfolders result size: 4\n",
      "files: 0\n",
      "files_list: 3087\n",
      "process_subfolders result size: 2\n",
      "files: 1\n",
      "files_list: 3088\n",
      "process_subfolders result size: 26\n",
      "files: 1000\n",
      "files: 218\n",
      "files_list: 4306\n",
      "process_subfolders result size: 0\n",
      "files: 652\n",
      "files_list: 4958\n",
      "process_subfolders result size: 0\n",
      "files: 90\n",
      "files_list: 5048\n",
      "process_subfolders result size: 0\n",
      "files: 409\n",
      "files_list: 5457\n",
      "process_subfolders result size: 0\n",
      "files: 771\n",
      "files_list: 6228\n",
      "process_subfolders result size: 0\n",
      "files: 602\n",
      "files_list: 6830\n",
      "process_subfolders result size: 0\n",
      "files: 300\n",
      "files_list: 7130\n",
      "process_subfolders result size: 0\n",
      "files: 753\n",
      "files_list: 7883\n",
      "process_subfolders result size: 0\n",
      "files: 928\n",
      "files_list: 8811\n",
      "process_subfolders result size: 0\n",
      "files: 685\n",
      "files_list: 9496\n",
      "process_subfolders result size: 0\n",
      "files: 851\n",
      "files_list: 10347\n",
      "process_subfolders result size: 0\n",
      "files: 948\n",
      "files_list: 11295\n",
      "process_subfolders result size: 0\n",
      "files: 1000\n",
      "files: 304\n",
      "files_list: 12599\n",
      "process_subfolders result size: 0\n",
      "files: 566\n",
      "files_list: 13165\n",
      "process_subfolders result size: 0\n",
      "files: 154\n",
      "files_list: 13319\n",
      "process_subfolders result size: 0\n",
      "files: 563\n",
      "files_list: 13882\n",
      "process_subfolders result size: 0\n",
      "files: 974\n",
      "files_list: 14856\n",
      "process_subfolders result size: 0\n",
      "files: 539\n",
      "files_list: 15395\n",
      "process_subfolders result size: 0\n",
      "files: 329\n",
      "files_list: 15724\n",
      "process_subfolders result size: 0\n",
      "files: 80\n",
      "files_list: 15804\n",
      "process_subfolders result size: 0\n",
      "files: 292\n",
      "files_list: 16096\n",
      "process_subfolders result size: 0\n",
      "files: 251\n",
      "files_list: 16347\n",
      "process_subfolders result size: 0\n",
      "files: 91\n",
      "files_list: 16438\n",
      "process_subfolders result size: 0\n",
      "files: 357\n",
      "files_list: 16795\n",
      "process_subfolders result size: 0\n",
      "files: 24\n",
      "files_list: 16819\n",
      "process_subfolders result size: 0\n",
      "files: 47\n",
      "files_list: 16866\n",
      "process_subfolders result size: 0\n",
      "files: 0\n",
      "files_list: 16866\n",
      "process_subfolders result size: 26\n",
      "files: 1000\n",
      "files: 75\n",
      "files_list: 17941\n",
      "process_subfolders result size: 1\n",
      "files: 456\n",
      "files_list: 18397\n",
      "process_subfolders result size: 0\n",
      "files: 1000\n",
      "files: 590\n",
      "files_list: 19987\n",
      "process_subfolders result size: 1\n",
      "files: 1000\n",
      "files: 1000\n",
      "files: 838\n",
      "files_list: 22825\n",
      "process_subfolders result size: 0\n",
      "files: 1000\n",
      "files: 288\n",
      "files_list: 24113\n",
      "process_subfolders result size: 0\n",
      "files: 192\n",
      "files_list: 24305\n",
      "process_subfolders result size: 0\n",
      "files: 751\n",
      "files_list: 25056\n",
      "process_subfolders result size: 0\n",
      "files: 1000\n",
      "files: 73\n",
      "files_list: 26129\n",
      "process_subfolders result size: 0\n",
      "files: 467\n",
      "files_list: 26596\n",
      "process_subfolders result size: 0\n",
      "files: 712\n",
      "files_list: 27308\n",
      "process_subfolders result size: 0\n",
      "files: 1000\n",
      "files: 284\n",
      "files_list: 28592\n",
      "process_subfolders result size: 0\n",
      "files: 373\n",
      "files_list: 28965\n",
      "process_subfolders result size: 0\n",
      "files: 891\n",
      "files_list: 29856\n",
      "process_subfolders result size: 0\n",
      "files: 87\n",
      "files_list: 29943\n"
     ]
    }
   ],
   "source": [
    "# https://developers.google.com/drive/v2/reference/files/list\n",
    "\n",
    "# ane.pdf.share (0B9Ibqa26YXiReTZaVm9OWmNxSlk)\n",
    "# To be sorted... (0B9Ibqa26YXiRNmk2WS0tNmhjejg)\n",
    "# Delete Uploads (to free up space) (0ByFFNduW4doJODEzOThmNWQtNjI2Ni00MTEyLTg0NDUtMDA4MmM1Mzg1NDM0)\n",
    "\n",
    "# first get the pdfs in these top level folders\n",
    "add_pdf_files('ane.pdf.share', '0B9Ibqa26YXiReTZaVm9OWmNxSlk') \n",
    "add_pdf_files('To be sorted...', '0B9Ibqa26YXiRNmk2WS0tNmhjejg') \n",
    "\n",
    "# then recurse thru the subfolders\n",
    "process_subfolders('ane.pdf.share', '0B9Ibqa26YXiReTZaVm9OWmNxSlk') \n",
    "process_subfolders('To be sorted...', '0B9Ibqa26YXiRNmk2WS0tNmhjejg') \n",
    "\n",
    "print('files_list_final:', len(files_list) )\n",
    "print('folder_list_final:', len(folders_list) )\n",
    "\n",
    "with open('allfiles.txt', 'w', encoding=\"utf-8\") as outfile:\n",
    "    for file in files_list:\n",
    "        outfile.write( ''.join([ file[0],';', file[1],';', file[2],';', file[3], '\\n' ]) ) \n",
    "outfile.close()\n",
    "\n",
    "with open('allfolders.txt', 'w', encoding=\"utf-8\") as outfile2:\n",
    "    for folder in folders_list:\n",
    "        outfile2.write( ''.join([ folder[0],';', folder[1],';', folder[2],';', folder[3], '\\n' ]) ) \n",
    "outfile2.close()\n"
   ]
  },
  {
   "cell_type": "code",
   "execution_count": null,
   "metadata": {
    "collapsed": true
   },
   "outputs": [],
   "source": []
  }
 ],
 "metadata": {
  "kernelspec": {
   "display_name": "py35",
   "language": "python",
   "name": "py35"
  },
  "language_info": {
   "codemirror_mode": {
    "name": "ipython",
    "version": 3
   },
   "file_extension": ".py",
   "mimetype": "text/x-python",
   "name": "python",
   "nbconvert_exporter": "python",
   "pygments_lexer": "ipython3",
   "version": "3.5.2"
  }
 },
 "nbformat": 4,
 "nbformat_minor": 1
}
