{
 "cells": [
  {
   "cell_type": "markdown",
   "metadata": {
    "heading_collapsed": true
   },
   "source": [
    "### This notebook is an exemplar which demonstrates transferring files between a Box folder and Savio scratch while running interative processing on images using Photoscan (inside a Singularity container)\n",
    "\n",
    "( tested with boxsdk (2.0.0a2) on python 3.5 kernel)\n",
    "pip install -Iv boxsdk==2.0.0a2 "
   ]
  },
  {
   "cell_type": "markdown",
   "metadata": {
    "hidden": true
   },
   "source": [
    "\n",
    "This software is available under the terms of the Educational Community License, Version 2.0 (ECL 2.0). This software is Copyright 2016 The Regents of the University of California, Berkeley (\"Berkeley\").\n",
    "\n",
    "The text of the ECL license is reproduced below.\n",
    "\n",
    "Educational Community License, Version 2.0\n",
    "*************************************\n",
    "Copyright 2016 The Regents of the University of California, Berkeley (\"Berkeley\")\n",
    "\n",
    "Educational Community License, Version 2.0, April 2007\n",
    "\n",
    "The Educational Community License version 2.0 (\"ECL\") consists of the\n",
    "Apache 2.0 license, modified to change the scope of the patent grant in\n",
    "section 3 to be specific to the needs of the education communities using\n",
    "this license. The original Apache 2.0 license can be found at:[http://www.apache.org/licenses/LICENSE-2.0]"
   ]
  },
  {
   "cell_type": "markdown",
   "metadata": {},
   "source": [
    "### Notebook configuration section\n",
    "Set of target and source directories, script file names and other used as parameters in processing below."
   ]
  },
  {
   "cell_type": "code",
   "execution_count": 2,
   "metadata": {
    "collapsed": false,
    "scrolled": true
   },
   "outputs": [],
   "source": [
    "runFolder = '/global/home/users/mmanning/'\n",
    "realprojectFile = 'actestproject.psx'\n",
    "projectFile = 'actestproject.psz'\n",
    "projectfileid = ''\n",
    "objFile = 'model.obj'\n",
    "orthoFile = 'model.tiff'\n",
    "singularitymountfolder = '/scratch/'\n",
    "\n",
    "boxProjectFolder = 'actest2'\n",
    "scratchImageDataDirectory = '/global/scratch/mmanning/actest/'\n",
    "\n",
    "execScript = '/global/home/users/mmanning/actest/execscript.sh'\n",
    "commandScript = '/global/home/users/mmanning/actest/commandscript.sh'\n",
    "\n",
    "singularityContainerPath = '/global/scratch/mmanning/photoscan13.img'\n",
    "SCP = '/global/scratch/mmanning/photoscan13.img'\n"
   ]
  },
  {
   "cell_type": "markdown",
   "metadata": {},
   "source": [
    "### Box Authorization\n",
    "function to store the oauth2 refresh token in a local file. This can be modified to use a keychain or other as required."
   ]
  },
  {
   "cell_type": "code",
   "execution_count": 2,
   "metadata": {
    "collapsed": true,
    "scrolled": true
   },
   "outputs": [],
   "source": [
    "def store_tokens(access_token, refresh_token):\n",
    "    \n",
    "    \"\"\"Callback for storing refresh tokens. (For now we ignore access tokens).\"\"\"\n",
    "    with open('apptoken.cfg', 'w') as f:\n",
    "     f.write(refresh_token.strip())"
   ]
  },
  {
   "cell_type": "markdown",
   "metadata": {},
   "source": [
    "Oauth2 information is read from a local file with three lines, one line per parameter. \n",
    "The client id and client secret are defined in the Box application created for this notebook.  Create the application at the Box Developers site: https://berkeley.app.box.com/developers/services/edit/\n",
    "\n",
    "The redirect uri can be any site that requires validation. Run the bootstrap notebook to create initial \n",
    "tokens that are then continually refreshed."
   ]
  },
  {
   "cell_type": "code",
   "execution_count": 3,
   "metadata": {
    "collapsed": false,
    "scrolled": true
   },
   "outputs": [],
   "source": [
    "import os\n",
    "\n",
    "CLIENT_ID = None\n",
    "CLIENT_SECRET = None\n",
    "REDIRECT_URI = None\n",
    "os.chdir('/global/home/users/mmanning')\n",
    "# Read app info from text file\n",
    "with open('app.cfg', 'r') as app_cfg:\n",
    "    CLIENT_ID = app_cfg.readline()\n",
    "    CLIENT_SECRET = app_cfg.readline()\n",
    "    REDIRECT_URI = app_cfg.readline()\n"
   ]
  },
  {
   "cell_type": "markdown",
   "metadata": {},
   "source": [
    "The refresh token is read from a local file.\n",
    "This token was created by running the bootstrap notebook which requires the user to validate\n",
    "with CalNet Authentication Service credentials, then stores the returned auth and refresh tokens \n",
    "in the same config files."
   ]
  },
  {
   "cell_type": "code",
   "execution_count": 4,
   "metadata": {
    "collapsed": true,
    "scrolled": true
   },
   "outputs": [],
   "source": [
    "REFRESH_TOKEN = None\n",
    "\n",
    "# Read app info from text file\n",
    "with open('apptoken.cfg', 'r') as apptoken_cfg:\n",
    "    REFRESH_TOKEN = apptoken_cfg.readline()"
   ]
  },
  {
   "cell_type": "markdown",
   "metadata": {},
   "source": [
    "__Perform autentication__ then create globus client\n",
    "Verify client is working by retrieving the name of the users root folder in Box"
   ]
  },
  {
   "cell_type": "code",
   "execution_count": 5,
   "metadata": {
    "collapsed": false,
    "scrolled": true
   },
   "outputs": [
    {
     "name": "stdout",
     "output_type": "stream",
     "text": [
      "folder name:  All Files\n",
      "items:  [<Box Folder - 16164064453 (401 gen 24 feb)>, <Box Folder - 13162986076 (actest)>, <Box Folder - 16461352722 (actest2)>, <Box Folder - 10920271405 (backupTest)>, <Box Folder - 12403779220 (cista Santa ISa)>, <Box Folder - 2998090751 (Connected Corridors Data)>, <Box Folder - 11943857315 (sdktest)>, <Box Folder - 11890577116 (TesseractExperiment)>, <Box Folder - 15846133956 (TesseractNotebook)>, <Box Folder - 12222643248 (test for Photoscan)>, <Box File - 92279466943 (.DS_Store)>, <Box File - 99364874757 (CNIP38 copy.pdf)>, <Box File - 99487811156 (LargeTestFile)>, <Box File - 91827878075 (Marine_CSV_sample.csv)>, <Box File - 97204968760 (moveNewToBox.sh)>, <Box File - 97209763161 (old1moveNewToBox.sh)>, <Box File - 98091014544 (Thumbs.db)>]\n"
     ]
    }
   ],
   "source": [
    "from boxsdk import OAuth2\n",
    "from boxsdk import Client\n",
    "\n",
    "# Do OAuth2 authorization.\n",
    "oauth = OAuth2(\n",
    "    client_id=CLIENT_ID.strip(),\n",
    "    client_secret=CLIENT_SECRET.strip(),\n",
    "    refresh_token=REFRESH_TOKEN.strip(),\n",
    "    store_tokens=store_tokens\n",
    ")\n",
    "\n",
    "client = Client(oauth)\n",
    "\n",
    "root_folder = client.folder(folder_id='0').get()\n",
    "print (\"folder name: \", root_folder['name'] )\n",
    "\n",
    "items = client.folder(folder_id='0').get_items(limit=100, offset=0)\n",
    "#print (\"items: \", items )\n",
    "\n"
   ]
  },
  {
   "cell_type": "markdown",
   "metadata": {},
   "source": [
    "### Utility functions"
   ]
  },
  {
   "cell_type": "markdown",
   "metadata": {},
   "source": [
    "__function to find folder id be folder name.__\n",
    "Current SDK does not have a 'find by name' function so must loop thru all folders and look for match."
   ]
  },
  {
   "cell_type": "code",
   "execution_count": 6,
   "metadata": {
    "collapsed": false,
    "scrolled": true
   },
   "outputs": [],
   "source": [
    "def find_folder_id(folder_name):\n",
    "    print ('find_folder_id folder_name: ', folder_name)\n",
    "    folderlist = client.search(query=folder_name, result_type='folder', limit=100, offset=0)\n",
    "    \n",
    "    print ('find_folder_id folderlist: ', folderlist)\n",
    "    \n",
    "    if len(folderlist) == 0:\n",
    "        print('folder not found: ', folder_name)\n",
    "        return 0\n",
    "    else:\n",
    "        for fldr in folderlist:\n",
    "            if fldr['name'] == folder_name :\n",
    "                return fldr['id']\n",
    "            \n",
    "        return 0"
   ]
  },
  {
   "cell_type": "markdown",
   "metadata": {},
   "source": [
    "__Create command scripts template.__\n",
    "Write out a execute file that includes the license install as the first step each time to enable any HPC node.\n",
    "This is a temporary workaround until release 1.3 is installed on Savio and a license server is configured.\n",
    "execscript - contains the license install as the first command and the command script as the second command."
   ]
  },
  {
   "cell_type": "code",
   "execution_count": 7,
   "metadata": {
    "collapsed": false,
    "scrolled": true
   },
   "outputs": [
    {
     "name": "stdout",
     "output_type": "stream",
     "text": [
      " exec script output:  /opt/photoscan-pro/photoscan.sh --activate TGN25-21RGK-UM9NG-UK49O-V55ZO\n",
      "/opt/photoscan-pro/photoscan.sh -r /global/home/users/mmanning/actest/commandscript.sh\n",
      "\n"
     ]
    }
   ],
   "source": [
    "import os, stat\n",
    "\n",
    "execScriptTemplate = '/opt/photoscan-pro/photoscan.sh --activate TGN25-21RGK-UM9NG-UK49O-V55ZO\\n\\\n",
    "/opt/photoscan-pro/photoscan.sh -r /global/home/users/mmanning/actest/commandscript.sh\\n'\n",
    "\n",
    "print (' exec script output: ', execScriptTemplate )\n",
    "\n",
    "with open(execScript, 'w') as f:\n",
    "    f.write(execScriptTemplate)\n",
    "    \n",
    "os.chmod(execScript,  stat.S_IRWXU)    "
   ]
  },
  {
   "cell_type": "markdown",
   "metadata": {},
   "source": [
    "__Update the project file in the Box folder.__ \n",
    "Multiple times in the workflow we need to move the project file back to Box for manual editing on the desktop \n",
    "then retrieve the updated the file and continue the workflow. This utility funcation pushes the project \n",
    "file into the working directory on Savio."
   ]
  },
  {
   "cell_type": "code",
   "execution_count": 8,
   "metadata": {
    "collapsed": true,
    "scrolled": true
   },
   "outputs": [],
   "source": [
    "import os\n",
    "import shutil \n",
    "def update_project_file_in_box():\n",
    "    projectfileid = 0\n",
    "    newFolderId = find_folder_id(boxProjectFolder)\n",
    "    \n",
    "    projectfilelist = client.search(query=projectFile, result_type='file', limit=10, \n",
    "                                offset=0, ancestor_folders=[client.folder(folder_id=newFolderId)],\n",
    "                                file_extensions=['psz'] )    \n",
    "    print (\"project file list: \", projectfilelist  )\n",
    "    if len(projectfilelist) == 0 or len(projectfilelist) > 1: \n",
    "        print (\"project file not found. \" )\n",
    "        return\n",
    "    else:\n",
    "        projectfileid = projectfilelist[0]['id']\n",
    "        print (\"project file id: \", projectpsz['id'] )\n",
    "    \n",
    "    update_file = client.file(file_id=projectfileid).get()\n",
    "\n",
    "    # upload a new version of the project file\n",
    "    print ('begin project file update.' )\n",
    "    pszfile = update_file.update_contents(runFolder + projectFile)  \n",
    "    print ('update psz result: ', pszfile )"
   ]
  },
  {
   "cell_type": "markdown",
   "metadata": {},
   "source": [
    "__Retrieve the project file from the Box folder.__ \n",
    "Multiple times in the workflow we need to move the project file back to Box for manual editing on the desktop \n",
    "then retrieve the updated the file and continue the workflow. This utility funcation pulls the updated project \n",
    "file into the working directory on Savio."
   ]
  },
  {
   "cell_type": "code",
   "execution_count": 9,
   "metadata": {
    "collapsed": false,
    "scrolled": true
   },
   "outputs": [],
   "source": [
    "\n",
    "import os\n",
    "import shutil \n",
    "def retrieve_project_file():\n",
    "    print ('current working directory: ', os.getcwd())\n",
    "    #os.chdir(runFolder)\n",
    "\n",
    "    newFolderId = find_folder_id(boxProjectFolder)\n",
    "    tgtitems = client.folder(folder_id=newFolderId).get_items(limit=200, offset=0)\n",
    "\n",
    "    # download the project file\n",
    "    for tgtitem in tgtitems:\n",
    "        if  not tgtitem['type'] == 'folder' and tgtitem['name'].endswith('.psz'):\n",
    "            print('downloading: ', tgtitem['name'])\n",
    "            imagecontent = client.file(file_id=tgtitem['id']).content()\n",
    "            newfile = open(runFolder + tgtitem['name'], 'wb')\n",
    "            newfile.write(imagecontent)\n",
    "            newfile.close()\n",
    "            print('download complete.')"
   ]
  },
  {
   "cell_type": "markdown",
   "metadata": {
    "collapsed": true
   },
   "source": [
    "### Retrieve the images from the Box folder.\n",
    "currently the Box SDK does not have an option for finding a folder by name so if you are looking for a specific folder then you would need to loop thru all the items in the list below and do a name match. Once you find the folder and retrieve the id, you can save that id for subsequent runs. Another option is to get the id from the url in the web client, but approah below is more flexible for now. "
   ]
  },
  {
   "cell_type": "code",
   "execution_count": 22,
   "metadata": {
    "collapsed": false,
    "scrolled": true
   },
   "outputs": [
    {
     "name": "stdout",
     "output_type": "stream",
     "text": [
      "current working directory:  /global/home/users/mmanning\n",
      "number of files in top folder:  16\n",
      "folder name:  401 gen 24 feb\n",
      "folder name:  actest\n",
      "folder name:  backupTest\n",
      "folder name:  cista Santa ISa\n",
      "folder name:  Connected Corridors Data\n",
      "folder name:  sdktest\n",
      "folder name:  TesseractExperiment\n",
      "folder name:  TesseractNotebook\n",
      "folder name:  test for Photoscan\n",
      "targetfolderId:  12222643248\n",
      "number of files in target folder:  40\n",
      "dowmnloading:  IMG_5183.JPG\n",
      "dowmnloading:  IMG_5184.JPG\n",
      "dowmnloading:  IMG_5185.JPG\n",
      "dowmnloading:  IMG_5186.JPG\n",
      "dowmnloading:  IMG_5187.JPG\n",
      "dowmnloading:  IMG_5188.JPG\n",
      "dowmnloading:  IMG_5189.JPG\n",
      "dowmnloading:  IMG_5190.JPG\n",
      "dowmnloading:  IMG_5191.JPG\n",
      "dowmnloading:  IMG_5192.JPG\n",
      "dowmnloading:  IMG_5193.JPG\n",
      "dowmnloading:  IMG_5194.JPG\n",
      "dowmnloading:  IMG_5195.JPG\n",
      "dowmnloading:  IMG_5196.JPG\n",
      "dowmnloading:  IMG_5197.JPG\n",
      "dowmnloading:  IMG_5198.JPG\n",
      "dowmnloading:  IMG_5199.JPG\n",
      "dowmnloading:  IMG_5200.JPG\n",
      "dowmnloading:  IMG_5201.JPG\n",
      "dowmnloading:  IMG_5204.JPG\n",
      "dowmnloading:  IMG_5205.JPG\n",
      "dowmnloading:  IMG_5206.JPG\n",
      "dowmnloading:  IMG_5207.JPG\n",
      "dowmnloading:  IMG_5208.JPG\n",
      "dowmnloading:  IMG_5209.JPG\n",
      "dowmnloading:  IMG_5210.JPG\n",
      "dowmnloading:  IMG_5211.JPG\n",
      "dowmnloading:  IMG_5212.JPG\n",
      "dowmnloading:  IMG_5213.JPG\n",
      "dowmnloading:  IMG_5214.JPG\n",
      "dowmnloading:  IMG_5215.JPG\n",
      "dowmnloading:  IMG_5216.JPG\n",
      "dowmnloading:  IMG_5217.JPG\n",
      "dowmnloading:  IMG_5218.JPG\n",
      "dowmnloading:  IMG_5219.JPG\n"
     ]
    }
   ],
   "source": [
    "import os\n",
    "import shutil \n",
    "\n",
    "print ('current working directory: ', os.getcwd())\n",
    "os.chdir(scratchImageDataDirectory)\n",
    "\n",
    "# test folder contents\n",
    "items = client.folder(folder_id='0').get_items(limit=20, offset=0)\n",
    "if type(items) is list:\n",
    "    print ('number of files in top folder: ', len(items) )\n",
    "    \n",
    "    targetfolderId = ''\n",
    "    for item in items:\n",
    "        if item['type'] == 'folder':\n",
    "            print('folder name: ', item['name'])\n",
    "            if item['name'] == 'test for Photoscan':\n",
    "                targetfolderId = item['id']\n",
    "                print('targetfolderId: ', targetfolderId)\n",
    "        \n",
    "    if targetfolderId is not None:\n",
    "        tgtitems = client.folder(folder_id=targetfolderId).get_items(limit=200, offset=0)\n",
    "        if type(tgtitems) is list:\n",
    "            print ('number of files in target folder: ', len(tgtitems) ) \n",
    "        \n",
    "        # download all image files\n",
    "        for tgtitem in tgtitems:\n",
    "            if  not tgtitem['type'] == 'folder' and tgtitem['name'].endswith('.JPG'):\n",
    "                print('dowmnloading: ', tgtitem['name'])\n",
    "                imagecontent = client.file(file_id=tgtitem['id']).content()\n",
    "                newfile = open(scratchImageDataDirectory + tgtitem['name'], 'wb')\n",
    "                newfile.write(imagecontent)\n",
    "                newfile.close()"
   ]
  },
  {
   "cell_type": "markdown",
   "metadata": {},
   "source": [
    "### Load the image set\n",
    "run the first photoscan step: add the files\n",
    "this cell created the script that will be executed by photoshop by writes the necessary commands into a text file.\n",
    "mod the text in the step1Template string below as required."
   ]
  },
  {
   "cell_type": "markdown",
   "metadata": {
    "collapsed": false
   },
   "source": [
    "clear docs about what needs to be set, can params be highlighted?\n"
   ]
  },
  {
   "cell_type": "code",
   "execution_count": 10,
   "metadata": {
    "collapsed": false,
    "scrolled": true
   },
   "outputs": [],
   "source": [
    "import os, stat\n",
    "\n",
    "files = [ singularitymountfolder + f for f in os.listdir(scratchImageDataDirectory) ] \n",
    "\n",
    "template = '#!/usr/bin/env python3 \\n\\\n",
    "import PhotoScan \\n\\\n",
    "import time \\n\\\n",
    "doc = PhotoScan.app.document \\n\\\n",
    "chunk = PhotoScan.app.document.addChunk() \\n\\\n",
    "chunk.addPhotos( {} ) \\n\\\n",
    "doc.save(path=\\\"{}\\\", chunks = [doc.chunk])\\n '\n",
    "\n",
    "output = template.format(str(files), runFolder + projectFile)\n",
    "\n",
    "with open(commandScript, 'w') as f:  \n",
    "    f.write(output)\n",
    "\n",
    "os.chmod(commandScript,  stat.S_IRWXU)"
   ]
  },
  {
   "cell_type": "markdown",
   "metadata": {},
   "source": [
    "#### Execute the image load"
   ]
  },
  {
   "cell_type": "code",
   "execution_count": 11,
   "metadata": {
    "collapsed": false,
    "scrolled": true
   },
   "outputs": [
    {
     "name": "stdout",
     "output_type": "stream",
     "text": [
      " image load output:  ['Activation successful', 'AddPhotos', 'SaveProject', 'saved project in 0.034856 sec', 'srun: error: n0009.savio1: task 0: Exited with exit code 1', 'srun: Terminating job step 1064919.0']\n"
     ]
    }
   ],
   "source": [
    "    \n",
    "out = !srun  --time=00:30:00 -A ac_scsguest --qos=savio_normal  --partition=savio  \\\n",
    "        singularity exec -B  /global/scratch/mmanning/actest/:/scratch  \\\n",
    "        $singularityContainerPath  $execScript   \n",
    "    \n",
    "print (' image load output: ', out ) \n"
   ]
  },
  {
   "cell_type": "markdown",
   "metadata": {},
   "source": [
    "__Create a new folder in the base directory and upload the project (.psz) file in the current folder.__\n",
    "If the folder for the project does not exisit, the folder is created.\n",
    "If the folder already exists and contains a project file of the same name, the project file created in the previous step is NOT uploaded."
   ]
  },
  {
   "cell_type": "code",
   "execution_count": 12,
   "metadata": {
    "collapsed": false,
    "scrolled": false
   },
   "outputs": [
    {
     "name": "stdout",
     "output_type": "stream",
     "text": [
      "find_folder_id folder_name:  actest2\n",
      "find_folder_id folderlist:  []\n",
      "folder not found:  actest2\n",
      "folder created\n",
      "folder id:  16567270680\n",
      "project file id:  122511901070\n",
      "projectfileid :  <Box File - 122511901070 (actestproject.psz)>\n"
     ]
    }
   ],
   "source": [
    "from boxsdk.exception import BoxAPIException\n",
    "\n",
    "newFolderId = find_folder_id(boxProjectFolder)\n",
    "\n",
    "if newFolderId == 0:\n",
    "    newFolder = client.folder(folder_id='0').create_subfolder(boxProjectFolder)\n",
    "    newFolderId = newFolder['id']\n",
    "    print (\"folder created\" )\n",
    "else: \n",
    "    print (\"folder exists\" )\n",
    "\n",
    "print (\"folder id: \", newFolderId )\n",
    "\n",
    "upload_folder = client.folder(folder_id=newFolderId).get()\n",
    "\n",
    "\n",
    "# check if project file already exists in that folder\n",
    "projectfilelist = client.search(query=projectFile, result_type='file', limit=10, \n",
    "                                offset=0, ancestor_folders=[client.folder(folder_id=newFolderId)],\n",
    "                                file_extensions=['psz'] )    \n",
    "if len(projectfilelist) == 0 :\n",
    "     # upload the project file\n",
    "    projectpsz = upload_folder.upload(runFolder + projectFile)  \n",
    "    print (\"project file id: \", projectpsz['id'] )\n",
    "else:\n",
    "    print (\"project file already exists\")\n",
    "    projectpsz = projectfilelist[0]['id']\n",
    "    \n",
    "projectfileid = projectpsz\n",
    "print (\"projectfileid : \", projectpsz )"
   ]
  },
  {
   "cell_type": "markdown",
   "metadata": {},
   "source": [
    "#### <span style=\"color:red\">OFFLINE STEP:</span> User masks images in the project (psz) file locally using Photoscan on desktop."
   ]
  },
  {
   "cell_type": "markdown",
   "metadata": {},
   "source": [
    "### Build the dense cloud\n",
    "__Retrieve the project file (psz) from Box as it may have been updated.__"
   ]
  },
  {
   "cell_type": "code",
   "execution_count": 13,
   "metadata": {
    "collapsed": false,
    "scrolled": false
   },
   "outputs": [
    {
     "name": "stdout",
     "output_type": "stream",
     "text": [
      "current working directory:  /global/home/users/mmanning\n",
      "find_folder_id folder_name:  actest2\n",
      "find_folder_id folderlist:  []\n",
      "folder not found:  actest2\n"
     ]
    }
   ],
   "source": [
    "retrieve_project_file()"
   ]
  },
  {
   "cell_type": "markdown",
   "metadata": {},
   "source": [
    "Create the script for the second step: dense cloud build\n",
    "this cell created the script that will be executed by photoshop by writes the necessary commands into a text file.\n",
    "mod the text in the step2Template string below as required.\n",
    "\n",
    "Options for PhotoScan.FilterMode: Depth filtering mode in [NoFiltering, MildFiltering, ModerateFiltering, AggressiveFiltering]\n",
    "\n",
    "Options for PhotoScan.Quality: Dense point cloud quality in [UltraQuality, HighQuality, MediumQuality, LowQuality, LowestQuality]"
   ]
  },
  {
   "cell_type": "code",
   "execution_count": 14,
   "metadata": {
    "collapsed": false,
    "scrolled": true
   },
   "outputs": [],
   "source": [
    "import os, stat\n",
    "\n",
    "template = '#!/usr/bin/env python3 \\n\\\n",
    "import PhotoScan \\n\\\n",
    "import time \\n\\\n",
    "print( \"start time: \", time.time()) \\n\\\n",
    "doc = PhotoScan.app.document \\n\\\n",
    "doc.open(\\\"{}\\\") \\n\\\n",
    "chunk = doc.chunk \\n\\\n",
    "chunk.matchPhotos(accuracy=PhotoScan.HighAccuracy, preselection=PhotoScan.GenericPreselection) \\n\\\n",
    "chunk.alignCameras(adaptive_fitting=True) \\n\\\n",
    "chunk.buildDenseCloud(quality=PhotoScan.MediumQuality,  filter=PhotoScan.ModerateFiltering  ) \\n\\\n",
    "doc.save() \\n\\\n",
    "chunk = doc.chunk \\n\\\n",
    "print( \"stop time: \", time.time()) \\n'\n",
    "\n",
    "output = template.format(projectFile)\n",
    "\n",
    "with open(commandScript, 'w') as f:  \n",
    "    f.write(output)\n"
   ]
  },
  {
   "cell_type": "markdown",
   "metadata": {},
   "source": [
    "#### Execute the dense cloud build.\n",
    "savio_normal: 18.43333 minutes\n",
    "\n",
    "savio_normal 11Jan: 15.65 mins/38 images"
   ]
  },
  {
   "cell_type": "code",
   "execution_count": 15,
   "metadata": {
    "collapsed": false,
    "scrolled": true
   },
   "outputs": [
    {
     "name": "stdout",
     "output_type": "stream",
     "text": [
      " step 2 output:  ['Activation successful', 'start time:  1484287848.026246', 'LoadProject', 'loaded project in 0.018586 sec', 'MatchPhotos: accuracy = High, pair preselection = Generic, keypoint limit = 40000, tiepoint limit = 4000', 'photo 1: 39792 points', 'photo 2: 39861 points', 'photo 3: 39941 points', 'photo 4: 39931 points', 'photo 5: 39968 points', 'photo 6: 39943 points', 'photo 7: 39800 points', 'photo 8: 39999 points', 'photo 9: 39921 points', 'photo 10: 39812 points', 'photo 11: 39825 points', 'photo 12: 39948 points', 'photo 13: 39903 points', 'photo 14: 39990 points', 'photo 15: 39998 points', 'photo 16: 39853 points', 'photo 17: 39991 points', 'photo 18: 39861 points', 'photo 19: 39865 points', 'photo 20: 39841 points', 'photo 21: 39963 points', 'photo 22: 39783 points', 'photo 23: 39837 points', 'photo 24: 39787 points', 'photo 25: 39869 points', 'photo 26: 39847 points', 'photo 27: 39821 points', 'photo 28: 39974 points', 'photo 29: 39955 points', 'photo 30: 39850 points', 'photo 31: 39956 points', 'photo 32: 39940 points', 'photo 33: 39801 points', 'photo 34: 39807 points', 'photo 35: 39794 points', 'points detected in 28.5274 sec', '102047 matches found in 2.98772 sec', 'matches combined in 0.010731 sec', 'matches filtered in 0.430029 sec', '381 of 437 pairs selected in 0.000109 sec', '1306394 matches found in 44.1739 sec', 'matches combined in 0.163184 sec', 'matches filtered in 3.29502 sec', 'setting point indices... 137020 done in 0.028636 sec', 'generated 137020 tie points, 3.35234 average projections', 'removed 7746 multiple indices', 'removed 82 tracks', 'finished matching in 79.6719 sec', 'selected 35089 tracks out of 136938 in 0.018781 sec', 'AlignCameras: adaptive fitting = 1', 'processing block: 35 photos', 'pair 19 and 20: 3461 robust from 3465', 'adding photos 19 and 20 (3461 robust)', 'adding 3463 points, 1 far (8.064 threshold), 0 inaccurate, 1 invisible, 0 weak', 'adjusting: xxxx 0.439824 -> 0.43343', 'adding 2 points, 1 far (8.064 threshold), 0 inaccurate, 1 invisible, 0 weak', 'optimized in 0.065339 seconds', 'adding camera 22 (3 of 35), 1252 of 1262 used', 'adding camera 21 (4 of 35), 1184 of 1186 used', 'adding camera 10 (5 of 35), 1067 of 1096 used', 'adding camera 9 (6 of 35), 927 of 951 used', 'adding camera 11 (7 of 35), 790 of 797 used', 'adding camera 23 (8 of 35), 775 of 861 used', 'adding camera 5 (9 of 35), 712 of 722 used', 'adding camera 14 (10 of 35), 686 of 694 used', 'adding camera 30 (11 of 35), 678 of 727 used', 'adding camera 3 (12 of 35), 655 of 688 used', 'adding camera 2 (13 of 35), 645 of 677 used', 'adding camera 29 (14 of 35), 630 of 692 used', 'adding 11652 points, 156 far (8.064 threshold), 0 inaccurate, 1 invisible, 0 weak', 'adjusting: xxxxxxx 1.10588 -> 0.767553', 'adding 172 points, 63 far (8.064 threshold), 0 inaccurate, 1 invisible, 0 weak', 'adjusting: xxxxxxxxx 0.812419 -> 0.25024', 'adding 120 points, 5 far (8.064 threshold), 1 inaccurate, 5 invisible, 0 weak', 'adjusting: xxxxxx 0.261015 -> 0.258171', 'adding 11 points, 5 far (8.064 threshold), 1 inaccurate, 5 invisible, 0 weak', 'optimized in 2.52734 seconds', 'adding camera 4 (15 of 35), 3608 of 3625 used', 'adding camera 6 (16 of 35), 2778 of 2804 used', 'adding camera 12 (17 of 35), 2715 of 2746 used', 'adding camera 15 (18 of 35), 2654 of 2665 used', 'adding camera 7 (19 of 35), 2568 of 2602 used', 'adding camera 32 (20 of 35), 2434 of 2444 used', 'adding camera 16 (21 of 35), 2393 of 2406 used', 'adding camera 8 (22 of 35), 2318 of 2355 used', 'adding camera 1 (23 of 35), 2271 of 2284 used', 'adding camera 13 (24 of 35), 2247 of 2282 used', 'adding camera 31 (25 of 35), 2224 of 2229 used', 'adding camera 0 (26 of 35), 2203 of 2210 used', 'adding camera 18 (27 of 35), 1925 of 1940 used', 'adding camera 28 (28 of 35), 1861 of 1870 used', 'adding 11831 points, 90 far (8.064 threshold), 2 inaccurate, 16 invisible, 0 weak', 'adjusting: xxxxx 0.422914 -> 0.292129', 'adding 61 points, 9 far (8.064 threshold), 2 inaccurate, 15 invisible, 0 weak', 'adjusting: xxxxxxx 0.293543 -> 0.291091', 'adding 26 points, 9 far (8.064 threshold), 2 inaccurate, 15 invisible, 0 weak', 'optimized in 1.64793 seconds', 'adding camera 17 (29 of 35), 2596 of 2604 used', 'adding camera 33 (30 of 35), 2158 of 2184 used', 'adding camera 34 (31 of 35), 2145 of 2159 used', 'adding camera 27 (32 of 35), 1366 of 1387 used', 'adding 3765 points, 49 far (8.064 threshold), 20 inaccurate, 14 invisible, 0 weak', 'adjusting: xxxxxx 0.322032 -> 0.293988', 'adding 61 points, 13 far (8.064 threshold), 19 inaccurate, 14 invisible, 0 weak', 'adjusting: xxxx 0.292301 -> 0.292295', 'adding 46 points, 11 far (8.064 threshold), 19 inaccurate, 14 invisible, 0 weak', 'adjusting: xxxxx 0.29437 -> 0.294283', 'adding 44 points, 13 far (8.064 threshold), 19 inaccurate, 14 invisible, 0 weak', 'optimized in 2.22432 seconds', 'adding camera 24 (33 of 35), 1195 of 1200 used', 'adding camera 25 (34 of 35), 1023 of 1026 used', 'adding camera 26 (35 of 35), 801 of 804 used', 'adding 4227 points, 18 far (8.064 threshold), 19 inaccurate, 15 invisible, 0 weak', 'adjusting: xxxxxx 0.300403 -> 0.291241', 'adding 46 points, 13 far (8.064 threshold), 19 inaccurate, 16 invisible, 0 weak', 'optimized in 0.912116 seconds', '3 sigma filtering...', 'adjusting: xxxxx 0.289409 -> 0.289407', 'point variance: 0.332521 threshold: 0.997562', 'adding 21 points, 889 far (0.997562 threshold), 17 inaccurate, 2 invisible, 0 weak', 'adjusting: xxxxxx 0.227715 -> 0.222913', 'point variance: 0.254271 threshold: 0.762813', 'adding 439 points, 1408 far (0.762813 threshold), 17 inaccurate, 0 invisible, 0 weak', 'adjusting: xxxxx 0.209392 -> 0.208741', 'point variance: 0.236407 threshold: 0.70922', 'adding 1186 points, 1669 far (0.70922 threshold), 17 inaccurate, 0 invisible, 0 weak', 'adjusting: xxxxx 0.203819 -> 0.203605', 'point variance: 0.229696 threshold: 0.689089', 'adding 1563 points, 1769 far (0.689089 threshold), 17 inaccurate, 0 invisible, 0 weak', 'adjusting: xxxxx 0.201559 -> 0.201474', 'point variance: 0.226908 threshold: 0.680723', 'adding 1721 points, 1807 far (0.680723 threshold), 17 inaccurate, 0 invisible, 0 weak', 'optimized in 3.86079 seconds', 'f 3812.56, cx 14.1771, cy -26.5326, k1 -0.034047, k2 0.00408807, k3 0', 'finished sfm in 11.7823 seconds', 'coordinates applied in 0 sec', 'BuildDenseCloud: quality = Medium, depth filtering = Moderate', 'initializing...', 'selected 35 cameras from 35 in 0.561339 sec', 'loaded photos in 1.66862 seconds', '[CPU] estimating 870x794x160 disparity using 870x794x8u tiles, offset -7', 'timings: rectify: 0.043788 disparity: 0.636886 borders: 0.014715 filter: 0.033666 fill: 0', '[CPU] estimating 780x1137x160 disparity using 780x1137x8u tiles, offset -68', 'timings: rectify: 0.020195 disparity: 0.783259 borders: 0.014219 filter: 0.030819 fill: 0', '[CPU] estimating 843x1182x192 disparity using 843x1182x8u tiles, offset -87', 'timings: rectify: 0.022801 disparity: 1.02929 borders: 0.014749 filter: 0.02905 fill: 0', '[CPU] estimating 402x1315x192 disparity using 402x1315x8u tiles, offset -65', 'timings: rectify: 0.012506 disparity: 0.522971 borders: 0.011046 filter: 0.019332 fill: 0', '[CPU] estimating 785x833x128 disparity using 785x833x8u tiles, offset -18', 'timings: rectify: 0.024127 disparity: 0.486382 borders: 0.02235 filter: 0.025613 fill: 0', '[CPU] estimating 604x903x160 disparity using 604x903x8u tiles, offset -62', 'timings: rectify: 0.02293 disparity: 0.4828 borders: 0.009328 filter: 0.023118 fill: 0', '[CPU] estimating 829x1515x128 disparity using 829x1515x8u tiles, offset -48', 'timings: rectify: 0.040989 disparity: 0.906924 borders: 0.025897 filter: 0.045537 fill: 0', '[CPU] estimating 1061x1136x160 disparity using 1061x1136x8u tiles, offset -13', 'timings: rectify: 0.028139 disparity: 1.01264 borders: 0.022448 filter: 0.042718 fill: 0', '[CPU] estimating 1072x5988x128 disparity using 1072x998x8u tiles, offset -42', 'timings: rectify: 0.14891 disparity: 4.58403 borders: 0.123886 filter: 0.206982 fill: 0', '[CPU] estimating 966x963x160 disparity using 966x963x8u tiles, offset -33', 'timings: rectify: 0.021424 disparity: 0.775909 borders: 0.016579 filter: 0.036958 fill: 0', '[CPU] estimating 589x2028x160 disparity using 589x1014x8u tiles, offset -8', 'timings: rectify: 0.028936 disparity: 1.0099 borders: 0.018561 filter: 0.042009 fill: 0', '[CPU] estimating 553x4332x160 disparity using 553x1083x8u tiles, offset -51', 'timings: rectify: 0.077949 disparity: 2.06461 borders: 0.043218 filter: 0.074233 fill: 1e-06', '[CPU] estimating 655x962x224 disparity using 655x962x8u tiles, offset -133', 'timings: rectify: 0.01451 disparity: 0.722297 borders: 0.008989 filter: 0.022195 fill: 0', '[CPU] estimating 272x770x128 disparity using 272x770x8u tiles, offset -51', 'timings: rectify: 0.009847 disparity: 0.152869 borders: 0.004854 filter: 0.007496 fill: 0', '[CPU] estimating 378x763x128 disparity using 378x763x8u tiles, offset -60', 'timings: rectify: 0.007344 disparity: 0.207555 borders: 0.005755 filter: 0.009122 fill: 0', '[CPU] estimating 391x884x128 disparity using 391x884x8u tiles, offset -32', 'timings: rectify: 0.012065 disparity: 0.248473 borders: 0.008596 filter: 0.009873 fill: 0', '[CPU] estimating 811x1014x128 disparity using 811x1014x8u tiles, offset -26', 'timings: rectify: 0.02899 disparity: 0.593 borders: 0.013788 filter: 0.03091 fill: 0', '[CPU] estimating 1009x1281x96 disparity using 1009x1281x8u tiles, offset 0', 'timings: rectify: 0.040864 disparity: 0.755421 borders: 0.025367 filter: 0.051059 fill: 0', '[CPU] estimating 634x845x128 disparity using 634x845x8u tiles, offset 0', 'timings: rectify: 0.012129 disparity: 0.366548 borders: 0.010464 filter: 0.020276 fill: 0', '[CPU] estimating 947x2171x96 disparity using 947x1086x8u tiles, offset 0', 'timings: rectify: 0.047984 disparity: 1.15701 borders: 0.042812 filter: 0.06399 fill: 0', '[CPU] estimating 359x760x128 disparity using 359x760x8u tiles, offset -80', 'timings: rectify: 0.012044 disparity: 0.193423 borders: 0.005385 filter: 0.007465 fill: 0', '[CPU] estimating 716x834x128 disparity using 716x834x8u tiles, offset -41', 'timings: rectify: 0.013254 disparity: 0.413615 borders: 0.012113 filter: 0.020895 fill: 0', '[CPU] estimating 642x945x128 disparity using 642x945x8u tiles, offset -17', 'timings: rectify: 0.021659 disparity: 0.45319 borders: 0.012185 filter: 0.024815 fill: 0', '[CPU] estimating 914x939x128 disparity using 914x939x8u tiles, offset -19', 'timings: rectify: 0.028013 disparity: 0.599558 borders: 0.017543 filter: 0.032983 fill: 0', '[CPU] estimating 819x1058x128 disparity using 819x1058x8u tiles, offset -52', 'timings: rectify: 0.019873 disparity: 0.646357 borders: 0.014272 filter: 0.0296 fill: 0', '[CPU] estimating 462x1434x160 disparity using 462x1434x8u tiles, offset -26', 'timings: rectify: 0.016131 disparity: 0.579234 borders: 0.010094 filter: 0.022634 fill: 0', '[CPU] estimating 506x1001x256 disparity using 506x1001x8u tiles, offset -8', 'timings: rectify: 0.017158 disparity: 0.713867 borders: 0.007098 filter: 0.013931 fill: 0', '[CPU] estimating 402x3613x128 disparity using 402x904x8u tiles, offset -10', 'timings: rectify: 0.051672 disparity: 1.03249 borders: 0.022546 filter: 0.049381 fill: 0', '[CPU] estimating 408x2471x128 disparity using 408x1236x8u tiles, offset -11', 'timings: rectify: 0.026037 disparity: 0.713751 borders: 0.015541 filter: 0.042874 fill: 0', '[CPU] estimating 471x473x96 disparity using 471x473x8u tiles, offset -38', 'timings: rectify: 0.006904 disparity: 0.112499 borders: 0.005641 filter: 0.00695 fill: 0', '[CPU] estimating 709x1305x128 disparity using 709x1305x8u tiles, offset -88', 'timings: rectify: 0.021646 disparity: 0.652577 borders: 0.006013 filter: 0.027857 fill: 0', '[CPU] estimating 504x1076x96 disparity using 504x1076x8u tiles, offset -47', 'timings: rectify: 0.012797 disparity: 0.296592 borders: 0.009107 filter: 0.0187 fill: 0', '[CPU] estimating 539x472x96 disparity using 539x472x8u tiles, offset -36', 'timings: rectify: 0.007498 disparity: 0.128285 borders: 0.007084 filter: 0.00763 fill: 1e-06', '[CPU] estimating 579x1262x128 disparity using 579x1262x8u tiles, offset -113', 'timings: rectify: 0.026829 disparity: 0.529526 borders: 0.009065 filter: 0.017782 fill: 0', '[CPU] estimating 931x876x128 disparity using 931x876x8u tiles, offset -110', 'timings: rectify: 0.018654 disparity: 0.56411 borders: 0.014169 filter: 0.032789 fill: 0', '[CPU] estimating 905x1170x128 disparity using 905x1170x8u tiles, offset -76', 'timings: rectify: 0.034426 disparity: 0.767075 borders: 0.01806 filter: 0.047227 fill: 0', '[CPU] estimating 417x890x160 disparity using 417x890x8u tiles, offset -47', 'timings: rectify: 0.010936 disparity: 0.313522 borders: 0.004574 filter: 0.010137 fill: 0', '[CPU] estimating 281x1049x160 disparity using 281x1049x8u tiles, offset -78', 'timings: rectify: 0.00668 disparity: 0.256497 borders: 0.00472 filter: 0.009198 fill: 0', '[CPU] estimating 459x921x160 disparity using 459x921x8u tiles, offset -45', 'timings: rectify: 0.00981 disparity: 0.352796 borders: 0.007108 filter: 0.013598 fill: 0', '[CPU] estimating 934x1001x128 disparity using 934x1001x8u tiles, offset -53', 'timings: rectify: 0.020841 disparity: 0.647993 borders: 0.019354 filter: 0.030841 fill: 0', '[CPU] estimating 826x825x160 disparity using 826x825x8u tiles, offset 0', 'timings: rectify: 0.025022 disparity: 0.59276 borders: 0.015826 filter: 0.027949 fill: 0', '[CPU] estimating 650x832x128 disparity using 650x832x8u tiles, offset 0', 'timings: rectify: 0.019973 disparity: 0.378174 borders: 0.015749 filter: 0.021042 fill: 0', '[CPU] estimating 341x894x128 disparity using 341x894x8u tiles, offset -39', 'timings: rectify: 0.006993 disparity: 0.208655 borders: 0.007017 filter: 0.011938 fill: 0', '[CPU] estimating 688x1410x128 disparity using 688x1410x8u tiles, offset -4', 'timings: rectify: 0.022428 disparity: 0.718224 borders: 0.021891 filter: 0.037116 fill: 0', '[CPU] estimating 672x4380x128 disparity using 672x1095x8u tiles, offset -41', 'timings: rectify: 0.090134 disparity: 2.09296 borders: 0.063772 filter: 0.093516 fill: 0', '[CPU] estimating 1042x1262x160 disparity using 1042x1262x8u tiles, offset 0', 'timings: rectify: 0.03022 disparity: 1.10203 borders: 0.027653 filter: 0.046161 fill: 0', '[CPU] estimating 634x845x128 disparity using 634x845x8u tiles, offset -9', 'timings: rectify: 0.012201 disparity: 0.369291 borders: 0.010443 filter: 0.018667 fill: 0', '[CPU] estimating 824x919x128 disparity using 824x919x8u tiles, offset -69', 'timings: rectify: 0.016623 disparity: 0.519267 borders: 0.015876 filter: 0.026186 fill: 0', '[CPU] estimating 548x4611x160 disparity using 548x923x8u tiles, offset -31', 'timings: rectify: 0.076814 disparity: 2.14107 borders: 0.03587 filter: 0.070982 fill: 0', '[CPU] estimating 470x2084x160 disparity using 470x1042x8u tiles, offset -3', 'timings: rectify: 0.024418 disparity: 0.798022 borders: 0.011369 filter: 0.027304 fill: 0', '[CPU] estimating 451x4477x128 disparity using 451x1120x8u tiles, offset -31', 'timings: rectify: 0.066209 disparity: 1.3939 borders: 0.030693 filter: 0.06243 fill: 0', '[CPU] estimating 458x4521x128 disparity using 458x1131x8u tiles, offset -26', 'timings: rectify: 0.075492 disparity: 1.47937 borders: 0.034908 filter: 0.065396 fill: 0', '[CPU] estimating 656x1260x160 disparity using 656x1260x8u tiles, offset -43', 'timings: rectify: 0.031969 disparity: 0.733177 borders: 0.011033 filter: 0.023214 fill: 0', '[CPU] estimating 643x1168x192 disparity using 643x1168x8u tiles, offset -54', 'timings: rectify: 0.0288 disparity: 0.788274 borders: 0.011474 filter: 0.024399 fill: 0', '[CPU] estimating 746x956x192 disparity using 746x956x8u tiles, offset -59', 'timings: rectify: 0.021249 disparity: 0.73186 borders: 0.010695 filter: 0.023781 fill: 0', '[CPU] estimating 522x688x96 disparity using 522x688x8u tiles, offset -18', 'timings: rectify: 0.012052 disparity: 0.203767 borders: 0.007227 filter: 0.014516 fill: 0', '[CPU] estimating 517x899x96 disparity using 517x899x8u tiles, offset -73', 'timings: rectify: 0.020776 disparity: 0.270883 borders: 0.00898 filter: 0.018567 fill: 0', '[CPU] estimating 639x1167x128 disparity using 639x1167x8u tiles, offset -100', 'timings: rectify: 0.018066 disparity: 0.527468 borders: 0.013916 filter: 0.030569 fill: 0', '[CPU] estimating 1073x5988x128 disparity using 1073x998x8u tiles, offset -42', 'timings: rectify: 0.147851 disparity: 4.46274 borders: 0.1236 filter: 0.193811 fill: 0', '[CPU] estimating 804x821x160 disparity using 804x821x8u tiles, offset -46', 'timings: rectify: 0.015009 disparity: 0.57936 borders: 0.012195 filter: 0.02694 fill: 0', '[CPU] estimating 761x907x160 disparity using 761x907x8u tiles, offset -46', 'timings: rectify: 0.022839 disparity: 0.576666 borders: 0.009648 filter: 0.026034 fill: 0', '[CPU] estimating 511x1077x192 disparity using 511x1077x8u tiles, offset -75', 'timings: rectify: 0.012367 disparity: 0.575476 borders: 0.009751 filter: 0.019413 fill: 0', '[CPU] estimating 272x995x192 disparity using 272x995x8u tiles, offset -82', 'timings: rectify: 0.011428 disparity: 0.294784 borders: 0.005796 filter: 0.010457 fill: 0', '[CPU] estimating 884x1274x160 disparity using 884x1274x8u tiles, offset 0', 'timings: rectify: 0.025476 disparity: 0.933687 borders: 0.026102 filter: 0.043242 fill: 0', '[CPU] estimating 347x723x160 disparity using 347x723x8u tiles, offset -71', 'timings: rectify: 0.011105 disparity: 0.218979 borders: 0.006082 filter: 0.009352 fill: 1e-06', '[CPU] estimating 984x1087x192 disparity using 984x1087x8u tiles, offset -72', 'timings: rectify: 0.024073 disparity: 1.05443 borders: 0.016039 filter: 0.034228 fill: 0', '[CPU] estimating 961x924x192 disparity using 961x924x8u tiles, offset -35', 'timings: rectify: 0.028499 disparity: 0.91855 borders: 0.017038 filter: 0.032558 fill: 0', '[CPU] estimating 822x877x160 disparity using 822x877x8u tiles, offset -1', 'timings: rectify: 0.016374 disparity: 0.659552 borders: 0.013813 filter: 0.028785 fill: 0', '[CPU] estimating 488x4256x128 disparity using 488x1064x8u tiles, offset -9', 'timings: rectify: 0.05954 disparity: 1.44829 borders: 0.034926 filter: 0.063685 fill: 0', '[CPU] estimating 627x795x128 disparity using 627x795x8u tiles, offset -63', 'timings: rectify: 0.021512 disparity: 0.347215 borders: 0.006997 filter: 0.017168 fill: 0', '[CPU] estimating 843x1182x192 disparity using 843x1182x8u tiles, offset -1', 'timings: rectify: 0.03383 disparity: 0.995271 borders: 0.014521 filter: 0.033925 fill: 0', '[CPU] estimating 894x880x160 disparity using 894x880x8u tiles, offset -10', 'timings: rectify: 0.017148 disparity: 0.660187 borders: 0.015511 filter: 0.026652 fill: 0', '[CPU] estimating 1007x968x128 disparity using 1007x968x8u tiles, offset -1', 'timings: rectify: 0.031246 disparity: 0.697519 borders: 0.021377 filter: 0.03702 fill: 0', '[CPU] estimating 1012x1768x160 disparity using 1012x884x8u tiles, offset 0', 'timings: rectify: 0.058772 disparity: 1.49598 borders: 0.035634 filter: 0.054898 fill: 0', '[CPU] estimating 636x1125x160 disparity using 636x1125x8u tiles, offset -24', 'timings: rectify: 0.016389 disparity: 0.604442 borders: 0.012148 filter: 0.019912 fill: 0', '[CPU] estimating 378x1034x160 disparity using 378x1034x8u tiles, offset -48', 'timings: rectify: 0.014526 disparity: 0.340727 borders: 0.0055 filter: 0.012109 fill: 0', '[CPU] estimating 282x1049x160 disparity using 282x1049x8u tiles, offset -45', 'timings: rectify: 0.006715 disparity: 0.242882 borders: 0.006497 filter: 0.011248 fill: 0', '[CPU] estimating 431x872x128 disparity using 431x872x8u tiles, offset -20', 'timings: rectify: 0.00855 disparity: 0.260371 borders: 0.006789 filter: 0.01207 fill: 0', '[CPU] estimating 912x1053x96 disparity using 912x1053x8u tiles, offset 0', 'timings: rectify: 0.021695 disparity: 0.533389 borders: 0.019869 filter: 0.031266 fill: 1e-06', '[CPU] estimating 821x933x128 disparity using 821x933x8u tiles, offset 0', 'timings: rectify: 0.017593 disparity: 0.563666 borders: 0.01864 filter: 0.028068 fill: 0', '[CPU] estimating 401x909x160 disparity using 401x909x8u tiles, offset -33', 'timings: rectify: 0.008216 disparity: 0.31303 borders: 0.006807 filter: 0.011448 fill: 0', '[CPU] estimating 283x996x160 disparity using 283x996x8u tiles, offset -30', 'timings: rectify: 0.0065 disparity: 0.249635 borders: 0.004964 filter: 0.008501 fill: 0', '[CPU] estimating 378x763x128 disparity using 378x763x8u tiles, offset -49', 'timings: rectify: 0.006725 disparity: 0.196859 borders: 0.006982 filter: 0.008693 fill: 0', '[CPU] estimating 671x1047x160 disparity using 671x1047x8u tiles, offset -35', 'timings: rectify: 0.016402 disparity: 0.591812 borders: 0.013108 filter: 0.026241 fill: 0', '[CPU] estimating 974x1111x128 disparity using 974x1111x8u tiles, offset 0', 'timings: rectify: 0.02479 disparity: 0.758487 borders: 0.023137 filter: 0.040364 fill: 0', '[CPU] estimating 799x748x160 disparity using 799x748x8u tiles, offset -14', 'timings: rectify: 0.013383 disparity: 0.502113 borders: 0.011175 filter: 0.020242 fill: 0', '[CPU] estimating 512x1077x192 disparity using 512x1077x8u tiles, offset -17', 'timings: rectify: 0.012739 disparity: 0.603909 borders: 0.009326 filter: 0.020592 fill: 0', '[CPU] estimating 820x816x160 disparity using 820x816x8u tiles, offset -37', 'timings: rectify: 0.017465 disparity: 0.579735 borders: 0.012801 filter: 0.028781 fill: 0', '[CPU] estimating 656x2980x160 disparity using 656x994x8u tiles, offset 0', 'timings: rectify: 0.071448 disparity: 1.75256 borders: 0.028447 filter: 0.05234 fill: 0', '[CPU] estimating 537x3935x160 disparity using 537x984x8u tiles, offset -18', 'timings: rectify: 0.053371 disparity: 1.81146 borders: 0.033377 filter: 0.063492 fill: 0', '[CPU] estimating 578x1825x160 disparity using 578x913x8u tiles, offset -34', 'timings: rectify: 0.032924 disparity: 0.917187 borders: 0.013684 filter: 0.032402 fill: 0', '[CPU] estimating 565x1887x160 disparity using 565x944x8u tiles, offset 0', 'timings: rectify: 0.039658 disparity: 0.928886 borders: 0.013384 filter: 0.031643 fill: 0', '[CPU] estimating 827x989x160 disparity using 827x989x8u tiles, offset -63', 'timings: rectify: 0.018963 disparity: 0.683951 borders: 0.012161 filter: 0.027312 fill: 0', '[CPU] estimating 660x901x160 disparity using 660x901x8u tiles, offset -56', 'timings: rectify: 0.021139 disparity: 0.510126 borders: 0.009866 filter: 0.01923 fill: 0', '[CPU] estimating 561x864x128 disparity using 561x864x8u tiles, offset -46', 'timings: rectify: 0.011297 disparity: 0.339578 borders: 0.007336 filter: 0.014384 fill: 0', '[CPU] estimating 616x703x160 disparity using 616x703x8u tiles, offset -68', 'timings: rectify: 0.011585 disparity: 0.35986 borders: 0.005568 filter: 0.014609 fill: 0', '[CPU] estimating 957x888x480 disparity using 957x888x8u tiles, offset -57', 'timings: rectify: 0.018261 disparity: 2.05448 borders: 0.014268 filter: 0.028597 fill: 0', '[CPU] estimating 796x1019x192 disparity using 796x1019x8u tiles, offset -45', 'timings: rectify: 0.018691 disparity: 0.799034 borders: 0.013667 filter: 0.024385 fill: 0', '[CPU] estimating 940x1247x384 disparity using 940x1247x8u tiles, offset -84', 'timings: rectify: 0.02605 disparity: 2.34275 borders: 0.015886 filter: 0.03613 fill: 0', '[CPU] estimating 844x1104x160 disparity using 844x1104x8u tiles, offset -54', 'timings: rectify: 0.021895 disparity: 0.816941 borders: 0.013454 filter: 0.031526 fill: 0', '[CPU] estimating 777x1115x160 disparity using 777x1115x8u tiles, offset -39', 'timings: rectify: 0.020294 disparity: 0.715743 borders: 0.010514 filter: 0.024404 fill: 1e-06', '[CPU] estimating 863x1233x192 disparity using 863x1233x8u tiles, offset -18', 'timings: rectify: 0.039739 disparity: 1.13321 borders: 0.012357 filter: 0.034414 fill: 0', '[CPU] estimating 675x1076x160 disparity using 675x1076x8u tiles, offset -46', 'timings: rectify: 0.028004 disparity: 0.64314 borders: 0.012273 filter: 0.024497 fill: 0', '[CPU] estimating 645x998x192 disparity using 645x998x8u tiles, offset -76', 'timings: rectify: 0.015231 disparity: 0.641131 borders: 0.010649 filter: 0.023448 fill: 0', '[CPU] estimating 829x1515x128 disparity using 829x1515x8u tiles, offset -32', 'timings: rectify: 0.030147 disparity: 0.923158 borders: 0.02766 filter: 0.044784 fill: 0', '[CPU] estimating 1128x1221x160 disparity using 1128x1221x8u tiles, offset -50', 'timings: rectify: 0.031407 disparity: 1.1375 borders: 0.029589 filter: 0.046718 fill: 0', '[CPU] estimating 1059x1179x128 disparity using 1059x1179x8u tiles, offset -12', 'timings: rectify: 0.045192 disparity: 0.932712 borders: 0.019739 filter: 0.033876 fill: 0', '[CPU] estimating 974x1111x128 disparity using 974x1111x8u tiles, offset 0', 'timings: rectify: 0.032133 disparity: 0.781451 borders: 0.023876 filter: 0.038296 fill: 0', '[CPU] estimating 572x1243x160 disparity using 572x1243x8u tiles, offset -41', 'timings: rectify: 0.016653 disparity: 0.595667 borders: 0.012666 filter: 0.025708 fill: 0', '[CPU] estimating 196x1004x160 disparity using 196x1004x8u tiles, offset -61', 'timings: rectify: 0.005655 disparity: 0.11539 borders: 0.005366 filter: 0.006997 fill: 0', '[CPU] estimating 821x4815x128 disparity using 821x963x8u tiles, offset -52', 'timings: rectify: 0.097748 disparity: 2.80555 borders: 0.079391 filter: 0.120919 fill: 0', '[CPU] estimating 808x1006x160 disparity using 808x1006x8u tiles, offset -42', 'timings: rectify: 0.029384 disparity: 0.726404 borders: 0.014101 filter: 0.029899 fill: 0', '[CPU] estimating 265x1021x192 disparity using 265x1021x8u tiles, offset -56', 'timings: rectify: 0.00607 disparity: 0.261328 borders: 0.006726 filter: 0.011105 fill: 0', '[CPU] estimating 941x945x128 disparity using 941x945x8u tiles, offset 0', 'timings: rectify: 0.024352 disparity: 0.630292 borders: 0.017146 filter: 0.034653 fill: 1e-06', '[CPU] estimating 984x1087x192 disparity using 984x1087x8u tiles, offset 0', 'timings: rectify: 0.024692 disparity: 1.07753 borders: 0.015871 filter: 0.033388 fill: 0', '[CPU] estimating 1067x1163x128 disparity using 1067x1163x8u tiles, offset 0', 'timings: rectify: 0.028186 disparity: 0.860279 borders: 0.026286 filter: 0.045777 fill: 0', '[CPU] estimating 446x3982x160 disparity using 446x996x8u tiles, offset -32', 'timings: rectify: 0.052623 disparity: 1.57569 borders: 0.028622 filter: 0.053638 fill: 0', '[CPU] estimating 418x4069x128 disparity using 418x1018x8u tiles, offset -32', 'timings: rectify: 0.060617 disparity: 1.21585 borders: 0.034162 filter: 0.057412 fill: 0', '[CPU] estimating 429x930x192 disparity using 429x930x8u tiles, offset -59', 'timings: rectify: 0.015623 disparity: 0.409606 borders: 0.00681 filter: 0.011181 fill: 0', '[CPU] estimating 745x1029x448 disparity using 745x1029x8u tiles, offset -145', 'timings: rectify: 0.016395 disparity: 1.8178 borders: 0.011292 filter: 0.023734 fill: 0', '[CPU] estimating 731x1104x192 disparity using 731x1104x8u tiles, offset -107', 'timings: rectify: 0.030122 disparity: 0.82853 borders: 0.015877 filter: 0.028411 fill: 0', '[CPU] estimating 828x1169x256 disparity using 828x1169x8u tiles, offset -116', 'timings: rectify: 0.036411 disparity: 1.29622 borders: 0.014339 filter: 0.028961 fill: 0', '[CPU] estimating 869x794x160 disparity using 869x794x8u tiles, offset -24', 'timings: rectify: 0.025883 disparity: 0.604476 borders: 0.013466 filter: 0.025627 fill: 0', '[CPU] estimating 766x1136x160 disparity using 766x1136x8u tiles, offset -55', 'timings: rectify: 0.020115 disparity: 0.72867 borders: 0.015966 filter: 0.032371 fill: 0', '[CPU] estimating 893x880x160 disparity using 893x880x8u tiles, offset -100', 'timings: rectify: 0.02768 disparity: 0.694112 borders: 0.014589 filter: 0.02735 fill: 0', '[CPU] estimating 691x1191x192 disparity using 691x1191x8u tiles, offset -45', 'timings: rectify: 0.019222 disparity: 0.872087 borders: 0.014492 filter: 0.028196 fill: 0', '[CPU] estimating 349x936x160 disparity using 349x936x8u tiles, offset -55', 'timings: rectify: 0.007393 disparity: 0.273115 borders: 0.004309 filter: 0.008687 fill: 0', '[CPU] estimating 1038x1005x128 disparity using 1038x1005x8u tiles, offset 0', 'timings: rectify: 0.023217 disparity: 0.752045 borders: 0.022103 filter: 0.035998 fill: 0', '[CPU] estimating 753x777x160 disparity using 753x777x8u tiles, offset -79', 'timings: rectify: 0.019133 disparity: 0.488466 borders: 0.00948 filter: 0.01829 fill: 0', '[CPU] estimating 389x916x160 disparity using 389x916x8u tiles, offset -67', 'timings: rectify: 0.016356 disparity: 0.314146 borders: 0.00557 filter: 0.013279 fill: 0', '[CPU] estimating 1129x1221x160 disparity using 1129x1221x8u tiles, offset -3', 'timings: rectify: 0.031563 disparity: 1.15497 borders: 0.028822 filter: 0.046247 fill: 0', '[CPU] estimating 885x1303x128 disparity using 885x1303x8u tiles, offset 0', 'timings: rectify: 0.037007 disparity: 0.811863 borders: 0.023871 filter: 0.042921 fill: 0', '[CPU] estimating 804x821x160 disparity using 804x821x8u tiles, offset 0', 'timings: rectify: 0.021456 disparity: 0.570589 borders: 0.013498 filter: 0.024797 fill: 0', '[CPU] estimating 932x1238x96 disparity using 932x1238x8u tiles, offset -4', 'timings: rectify: 0.025841 disparity: 0.678258 borders: 0.02366 filter: 0.038755 fill: 0', '[CPU] estimating 622x1604x160 disparity using 622x802x8u tiles, offset -33', 'timings: rectify: 0.024558 disparity: 0.851127 borders: 0.01563 filter: 0.036362 fill: 1e-06', '[CPU] estimating 618x4507x160 disparity using 618x1127x8u tiles, offset -11', 'timings: rectify: 0.067948 disparity: 2.37785 borders: 0.04103 filter: 0.078704 fill: 0', '[CPU] estimating 418x988x160 disparity using 418x988x8u tiles, offset -118', 'timings: rectify: 0.0179 disparity: 0.338363 borders: 0.008612 filter: 0.01251 fill: 0', '[CPU] estimating 756x980x256 disparity using 756x980x8u tiles, offset -157', 'timings: rectify: 0.016887 disparity: 0.964486 borders: 0.010586 filter: 0.026222 fill: 0', '[CPU] estimating 780x863x192 disparity using 780x863x8u tiles, offset -84', 'timings: rectify: 0.015739 disparity: 0.693919 borders: 0.012193 filter: 0.026965 fill: 0', '[CPU] estimating 738x775x256 disparity using 738x775x8u tiles, offset -108', 'timings: rectify: 0.020035 disparity: 0.760818 borders: 0.009426 filter: 0.020565 fill: 0', '[CPU] estimating 275x1040x128 disparity using 275x1040x8u tiles, offset -48', 'timings: rectify: 0.009434 disparity: 0.216115 borders: 0.008066 filter: 0.008763 fill: 0', '[CPU] estimating 377x1034x160 disparity using 377x1034x8u tiles, offset -62', 'timings: rectify: 0.011916 disparity: 0.332071 borders: 0.005776 filter: 0.013565 fill: 0', '[CPU] estimating 352x1034x160 disparity using 352x1034x8u tiles, offset -60', 'timings: rectify: 0.014519 disparity: 0.297594 borders: 0.007559 filter: 0.010618 fill: 0', '[CPU] estimating 703x1081x96 disparity using 703x1081x8u tiles, offset 0', 'timings: rectify: 0.017623 disparity: 0.420281 borders: 0.014556 filter: 0.031352 fill: 0', '[CPU] estimating 826x825x160 disparity using 826x825x8u tiles, offset -8', 'timings: rectify: 0.015507 disparity: 0.562997 borders: 0.014931 filter: 0.024016 fill: 0', '[CPU] estimating 1001x902x96 disparity using 1001x902x8u tiles, offset 0', 'timings: rectify: 0.02057 disparity: 0.523743 borders: 0.019115 filter: 0.030135 fill: 0', '[CPU] estimating 353x1022x128 disparity using 353x1022x8u tiles, offset -50', 'timings: rectify: 0.008321 disparity: 0.249491 borders: 0.012345 filter: 0.014799 fill: 0', '[CPU] estimating 906x1047x160 disparity using 906x1047x8u tiles, offset -24', 'timings: rectify: 0.025564 disparity: 0.79232 borders: 0.020404 filter: 0.037839 fill: 0', '[CPU] estimating 821x1777x128 disparity using 821x889x8u tiles, offset 0', 'timings: rectify: 0.034173 disparity: 1.05915 borders: 0.028886 filter: 0.05359 fill: 0', '[CPU] estimating 863x1887x96 disparity using 863x944x8u tiles, offset 0', 'timings: rectify: 0.043474 disparity: 0.92527 borders: 0.033372 filter: 0.053249 fill: 0', '[CPU] estimating 1009x1281x96 disparity using 1009x1281x8u tiles, offset 0', 'timings: rectify: 0.041486 disparity: 0.711597 borders: 0.027149 filter: 0.044489 fill: 0', '[CPU] estimating 633x1070x96 disparity using 633x1070x8u tiles, offset 0', 'timings: rectify: 0.015225 disparity: 0.381907 borders: 0.011857 filter: 0.021413 fill: 0', '[CPU] estimating 464x4178x160 disparity using 464x1045x8u tiles, offset -3', 'timings: rectify: 0.048855 disparity: 1.60378 borders: 0.025508 filter: 0.057635 fill: 0', '[CPU] estimating 388x1359x128 disparity using 388x1359x8u tiles, offset -3', 'timings: rectify: 0.013145 disparity: 0.366897 borders: 0.008122 filter: 0.017801 fill: 0', '[CPU] estimating 362x4034x128 disparity using 362x1009x8u tiles, offset -33', 'timings: rectify: 0.037058 disparity: 1.02195 borders: 0.020367 filter: 0.047404 fill: 0', '[CPU] estimating 361x3908x128 disparity using 361x977x8u tiles, offset -32', 'timings: rectify: 0.036098 disparity: 0.985924 borders: 0.01981 filter: 0.040954 fill: 0', '[CPU] estimating 674x998x128 disparity using 674x998x8u tiles, offset -9', 'timings: rectify: 0.026109 disparity: 0.486051 borders: 0.010478 filter: 0.024575 fill: 0', '[CPU] estimating 646x924x128 disparity using 646x924x8u tiles, offset -42', 'timings: rectify: 0.014295 disparity: 0.408997 borders: 0.006655 filter: 0.018009 fill: 0', '[CPU] estimating 563x1378x128 disparity using 563x1378x8u tiles, offset -42', 'timings: rectify: 0.029407 disparity: 0.56809 borders: 0.014191 filter: 0.028167 fill: 0', '[CPU] estimating 647x925x128 disparity using 647x925x8u tiles, offset -33', 'timings: rectify: 0.018335 disparity: 0.410558 borders: 0.011059 filter: 0.023032 fill: 0', '[CPU] estimating 590x1154x96 disparity using 590x1154x8u tiles, offset -29', 'timings: rectify: 0.026483 disparity: 0.372016 borders: 0.009784 filter: 0.022241 fill: 0', '[CPU] estimating 688x1358x128 disparity using 688x1358x8u tiles, offset -66', 'timings: rectify: 0.021411 disparity: 0.648079 borders: 0.016806 filter: 0.02866 fill: 0', '[CPU] estimating 744x1383x128 disparity using 744x1383x8u tiles, offset -36', 'timings: rectify: 0.034109 disparity: 0.736857 borders: 0.020752 filter: 0.037793 fill: 0', '[CPU] estimating 296x890x128 disparity using 296x890x8u tiles, offset -42', 'timings: rectify: 0.009521 disparity: 0.180286 borders: 0.006408 filter: 0.007436 fill: 0', '[CPU] estimating 430x872x128 disparity using 430x872x8u tiles, offset -47', 'timings: rectify: 0.011522 disparity: 0.261828 borders: 0.005738 filter: 0.011434 fill: 0', '[CPU] estimating 483x863x128 disparity using 483x863x8u tiles, offset -26', 'timings: rectify: 0.009236 disparity: 0.297292 borders: 0.007285 filter: 0.011791 fill: 1e-06', '[CPU] estimating 961x1038x128 disparity using 961x1038x8u tiles, offset 0', 'timings: rectify: 0.022017 disparity: 0.695383 borders: 0.016114 filter: 0.034875 fill: 0', '[CPU] estimating 1001x902x96 disparity using 1001x902x8u tiles, offset 0', 'timings: rectify: 0.029125 disparity: 0.507681 borders: 0.019226 filter: 0.035944 fill: 0', '[CPU] estimating 649x832x128 disparity using 649x832x8u tiles, offset -8', 'timings: rectify: 0.023372 disparity: 0.388391 borders: 0.010598 filter: 0.017194 fill: 0', '[CPU] estimating 419x905x128 disparity using 419x905x8u tiles, offset -44', 'timings: rectify: 0.013607 disparity: 0.267337 borders: 0.005454 filter: 0.013766 fill: 0', '[CPU] estimating 787x1032x128 disparity using 787x1032x8u tiles, offset -31', 'timings: rectify: 0.018436 disparity: 0.566124 borders: 0.015932 filter: 0.029529 fill: 0', '[CPU] estimating 716x1138x128 disparity using 716x1138x8u tiles, offset 0', 'timings: rectify: 0.025714 disparity: 0.577649 borders: 0.016914 filter: 0.030959 fill: 0', '[CPU] estimating 1048x1380x128 disparity using 1048x1380x8u tiles, offset -1', 'timings: rectify: 0.051946 disparity: 1.05388 borders: 0.028866 filter: 0.046985 fill: 0', '[CPU] estimating 947x2171x96 disparity using 947x1086x8u tiles, offset -41', 'timings: rectify: 0.0668 disparity: 1.17304 borders: 0.044145 filter: 0.065401 fill: 0', '[CPU] estimating 976x1090x128 disparity using 976x1090x8u tiles, offset -7', 'timings: rectify: 0.024218 disparity: 0.76569 borders: 0.01898 filter: 0.034844 fill: 0', '[CPU] estimating 385x2482x128 disparity using 385x1241x8u tiles, offset -7', 'timings: rectify: 0.037841 disparity: 0.675444 borders: 0.013164 filter: 0.027914 fill: 0', '[CPU] estimating 484x1351x224 disparity using 484x1351x8u tiles, offset -1', 'timings: rectify: 0.022006 disparity: 0.780249 borders: 0.007698 filter: 0.019421 fill: 0', '[CPU] estimating 429x4592x128 disparity using 429x1148x8u tiles, offset -17', 'timings: rectify: 0.066613 disparity: 1.40978 borders: 0.026905 filter: 0.055047 fill: 0', '[CPU] estimating 426x4562x128 disparity using 426x1141x8u tiles, offset -3', 'timings: rectify: 0.048949 disparity: 1.38058 borders: 0.02648 filter: 0.050634 fill: 0', '[CPU] estimating 569x552x128 disparity using 569x552x8u tiles, offset -6', 'timings: rectify: 0.0078 disparity: 0.212835 borders: 0.006068 filter: 0.012384 fill: 1e-06', '[CPU] estimating 534x1157x96 disparity using 534x1157x8u tiles, offset -32', 'timings: rectify: 0.017091 disparity: 0.35134 borders: 0.011431 filter: 0.023251 fill: 0', '[CPU] estimating 594x730x128 disparity using 594x730x8u tiles, offset -19', 'timings: rectify: 0.013838 disparity: 0.315795 borders: 0.008239 filter: 0.01811 fill: 0', '[CPU] estimating 418x1212x96 disparity using 418x1212x8u tiles, offset -65', 'timings: rectify: 0.012379 disparity: 0.278915 borders: 0.009928 filter: 0.017987 fill: 0', '[CPU] estimating 735x1306x128 disparity using 735x1306x8u tiles, offset -42', 'timings: rectify: 0.02227 disparity: 0.702397 borders: 0.01711 filter: 0.031723 fill: 0', '[CPU] estimating 800x1333x128 disparity using 800x1333x8u tiles, offset -12', 'timings: rectify: 0.024516 disparity: 0.762175 borders: 0.02132 filter: 0.039148 fill: 0', '[CPU] estimating 1062x1136x160 disparity using 1062x1136x8u tiles, offset -10', 'timings: rectify: 0.04443 disparity: 1.06785 borders: 0.022601 filter: 0.038634 fill: 0', '[CPU] estimating 885x1303x128 disparity using 885x1303x8u tiles, offset -75', 'timings: rectify: 0.038249 disparity: 0.82535 borders: 0.020812 filter: 0.04128 fill: 0', '[CPU] estimating 940x1127x128 disparity using 940x1127x8u tiles, offset -38', 'timings: rectify: 0.024413 disparity: 0.742138 borders: 0.019239 filter: 0.034366 fill: 0', '[CPU] estimating 798x748x160 disparity using 798x748x8u tiles, offset -23', 'timings: rectify: 0.013816 disparity: 0.529903 borders: 0.011981 filter: 0.023607 fill: 0', '[CPU] estimating 812x1098x160 disparity using 812x1098x8u tiles, offset 0', 'timings: rectify: 0.033861 disparity: 0.798342 borders: 0.015586 filter: 0.027478 fill: 1e-06', '[CPU] estimating 348x855x128 disparity using 348x855x8u tiles, offset -36', 'timings: rectify: 0.014622 disparity: 0.21027 borders: 0.005807 filter: 0.008068 fill: 0', '[CPU] estimating 804x1053x128 disparity using 804x1053x8u tiles, offset -16', 'timings: rectify: 0.030499 disparity: 0.609595 borders: 0.016837 filter: 0.030798 fill: 0', '[CPU] estimating 722x869x160 disparity using 722x869x8u tiles, offset -70', 'timings: rectify: 0.014121 disparity: 0.517558 borders: 0.012361 filter: 0.024561 fill: 0', '[CPU] estimating 376x856x192 disparity using 376x856x8u tiles, offset -60', 'timings: rectify: 0.012323 disparity: 0.341852 borders: 0.010267 filter: 0.012741 fill: 0', '[CPU] estimating 941x945x128 disparity using 941x945x8u tiles, offset 0', 'timings: rectify: 0.030647 disparity: 0.626544 borders: 0.019089 filter: 0.034851 fill: 0', '[CPU] estimating 961x924x192 disparity using 961x924x8u tiles, offset 0', 'timings: rectify: 0.031133 disparity: 0.897491 borders: 0.017576 filter: 0.027834 fill: 0', '[CPU] estimating 866x1417x128 disparity using 866x1417x8u tiles, offset -9', 'timings: rectify: 0.02784 disparity: 0.845097 borders: 0.024572 filter: 0.044222 fill: 1e-06', '[CPU] estimating 522x4287x160 disparity using 522x1072x8u tiles, offset -32', 'timings: rectify: 0.055233 disparity: 1.86832 borders: 0.034728 filter: 0.066148 fill: 0', '[CPU] estimating 463x3966x128 disparity using 463x992x8u tiles, offset -16', 'timings: rectify: 0.045683 disparity: 1.29025 borders: 0.028358 filter: 0.056804 fill: 0', '[CPU] estimating 408x904x192 disparity using 408x904x8u tiles, offset -122', 'timings: rectify: 0.010706 disparity: 0.363577 borders: 0.008131 filter: 0.01176 fill: 0', '[CPU] estimating 748x1036x256 disparity using 748x1036x8u tiles, offset -166', 'timings: rectify: 0.025072 disparity: 1.01425 borders: 0.011052 filter: 0.029921 fill: 0', '[CPU] estimating 734x771x256 disparity using 734x771x8u tiles, offset -138', 'timings: rectify: 0.0129 disparity: 0.7224 borders: 0.010325 filter: 0.018856 fill: 0', '[CPU] estimating 786x1092x192 disparity using 786x1092x8u tiles, offset -73', 'timings: rectify: 0.031585 disparity: 0.856324 borders: 0.015251 filter: 0.027508 fill: 0', '[CPU] estimating 768x1004x256 disparity using 768x1004x8u tiles, offset -96', 'timings: rectify: 0.018185 disparity: 1.05092 borders: 0.012765 filter: 0.024541 fill: 0', '[CPU] estimating 726x747x224 disparity using 726x747x8u tiles, offset -127', 'timings: rectify: 0.012401 disparity: 0.618542 borders: 0.008775 filter: 0.022456 fill: 0', '[CPU] estimating 967x963x160 disparity using 967x963x8u tiles, offset -28', 'timings: rectify: 0.026002 disparity: 0.781431 borders: 0.017577 filter: 0.034722 fill: 0', '[CPU] estimating 932x1238x96 disparity using 932x1238x8u tiles, offset -96', 'timings: rectify: 0.025815 disparity: 0.635483 borders: 0.021431 filter: 0.039235 fill: 0', '[CPU] estimating 715x1099x128 disparity using 715x1099x8u tiles, offset -40', 'timings: rectify: 0.018082 disparity: 0.545425 borders: 0.013387 filter: 0.026701 fill: 0', '[CPU] estimating 819x816x160 disparity using 819x816x8u tiles, offset -84', 'timings: rectify: 0.018047 disparity: 0.600877 borders: 0.011326 filter: 0.019747 fill: 0', '[CPU] estimating 599x1114x160 disparity using 599x1114x8u tiles, offset -31', 'timings: rectify: 0.015366 disparity: 0.566534 borders: 0.009695 filter: 0.026301 fill: 0', '[CPU] estimating 949x1024x128 disparity using 949x1024x8u tiles, offset 0', 'timings: rectify: 0.032651 disparity: 0.694105 borders: 0.017516 filter: 0.037337 fill: 0', '[CPU] estimating 653x779x160 disparity using 653x779x8u tiles, offset -94', 'timings: rectify: 0.022593 disparity: 0.445072 borders: 0.008287 filter: 0.017722 fill: 0', '[CPU] estimating 1067x1163x128 disparity using 1067x1163x8u tiles, offset 0', 'timings: rectify: 0.038794 disparity: 0.905072 borders: 0.024586 filter: 0.043285 fill: 0', '[CPU] estimating 866x1417x128 disparity using 866x1417x8u tiles, offset 0', 'timings: rectify: 0.04537 disparity: 0.869754 borders: 0.026574 filter: 0.043663 fill: 0', '[CPU] estimating 822x877x160 disparity using 822x877x8u tiles, offset 0', 'timings: rectify: 0.026747 disparity: 0.652956 borders: 0.013286 filter: 0.026509 fill: 0', '[CPU] estimating 599x3489x160 disparity using 599x1163x8u tiles, offset -5', 'timings: rectify: 0.067871 disparity: 1.82887 borders: 0.034872 filter: 0.059082 fill: 0', '[CPU] estimating 483x3859x128 disparity using 483x965x8u tiles, offset -26', 'timings: rectify: 0.059261 disparity: 1.3471 borders: 0.034476 filter: 0.059591 fill: 1e-06', '[CPU] estimating 717x950x224 disparity using 717x950x8u tiles, offset -113', 'timings: rectify: 0.015595 disparity: 0.792041 borders: 0.009199 filter: 0.027317 fill: 0', '[CPU] estimating 476x1509x160 disparity using 476x1509x8u tiles, offset -56', 'timings: rectify: 0.019617 disparity: 0.599835 borders: 0.010296 filter: 0.025644 fill: 0', '[CPU] estimating 578x1825x160 disparity using 578x913x8u tiles, offset -53', 'timings: rectify: 0.026058 disparity: 0.929396 borders: 0.014213 filter: 0.034969 fill: 0', '[CPU] estimating 468x2207x160 disparity using 468x1104x8u tiles, offset -18', 'timings: rectify: 0.037917 disparity: 0.920091 borders: 0.014103 filter: 0.036974 fill: 0', '[CPU] estimating 453x4504x128 disparity using 453x1126x8u tiles, offset -22', 'timings: rectify: 0.062522 disparity: 1.42465 borders: 0.032117 filter: 0.066992 fill: 0', '[CPU] estimating 361x4034x128 disparity using 361x1009x8u tiles, offset -33', 'timings: rectify: 0.045169 disparity: 1.02234 borders: 0.024514 filter: 0.051312 fill: 1e-06', '[CPU] estimating 451x4477x128 disparity using 451x1120x8u tiles, offset -31', 'timings: rectify: 0.070981 disparity: 1.44108 borders: 0.037366 filter: 0.074394 fill: 0', '[CPU] estimating 428x4592x128 disparity using 428x1148x8u tiles, offset -17', 'timings: rectify: 0.049456 disparity: 1.39241 borders: 0.029189 filter: 0.060085 fill: 0', '[CPU] estimating 729x1702x192 disparity using 729x851x8u tiles, offset -71', 'timings: rectify: 0.041558 disparity: 1.31292 borders: 0.016785 filter: 0.036346 fill: 0', '[CPU] estimating 709x2368x160 disparity using 709x1184x8u tiles, offset -19', 'timings: rectify: 0.056415 disparity: 1.40743 borders: 0.03078 filter: 0.053779 fill: 0', '[CPU] estimating 681x4003x128 disparity using 681x1001x8u tiles, offset -15', 'timings: rectify: 0.065305 disparity: 1.93051 borders: 0.04738 filter: 0.08716 fill: 0', '[CPU] estimating 417x3834x128 disparity using 417x959x8u tiles, offset -28', 'timings: rectify: 0.047361 disparity: 1.15544 borders: 0.030038 filter: 0.054588 fill: 0', '[CPU] estimating 402x3613x128 disparity using 402x904x8u tiles, offset -10', 'timings: rectify: 0.052507 disparity: 1.03228 borders: 0.021478 filter: 0.043592 fill: 0', '[CPU] estimating 414x3880x128 disparity using 414x970x8u tiles, offset -19', 'timings: rectify: 0.057823 disparity: 1.13116 borders: 0.029697 filter: 0.057106 fill: 1e-06', '[CPU] estimating 803x842x128 disparity using 803x842x8u tiles, offset 0', 'timings: rectify: 0.020821 disparity: 0.468918 borders: 0.014271 filter: 0.028451 fill: 0', '[CPU] estimating 650x797x128 disparity using 650x797x8u tiles, offset -25', 'timings: rectify: 0.027021 disparity: 0.378221 borders: 0.010196 filter: 0.019782 fill: 0', '[CPU] estimating 1197x1081x96 disparity using 1197x1081x8u tiles, offset -90', 'timings: rectify: 0.033227 disparity: 0.701517 borders: 0.028355 filter: 0.045479 fill: 1e-06', '[CPU] estimating 736x886x160 disparity using 736x886x8u tiles, offset -79', 'timings: rectify: 0.014792 disparity: 0.533899 borders: 0.011318 filter: 0.024905 fill: 0', '[CPU] estimating 681x1011x128 disparity using 681x1011x8u tiles, offset -29', 'timings: rectify: 0.016156 disparity: 0.479048 borders: 0.011478 filter: 0.023088 fill: 0', '[CPU] estimating 840x1299x160 disparity using 840x1299x8u tiles, offset 0', 'timings: rectify: 0.024858 disparity: 0.904685 borders: 0.021005 filter: 0.034583 fill: 0', '[CPU] estimating 842x1162x160 disparity using 842x1162x8u tiles, offset -42', 'timings: rectify: 0.031978 disparity: 0.838006 borders: 0.016268 filter: 0.033439 fill: 1e-06', '[CPU] estimating 723x988x128 disparity using 723x988x8u tiles, offset -29', 'timings: rectify: 0.026664 disparity: 0.519672 borders: 0.012351 filter: 0.026369 fill: 0', '[CPU] estimating 806x1179x128 disparity using 806x1179x8u tiles, offset -16', 'timings: rectify: 0.028494 disparity: 0.674283 borders: 0.016948 filter: 0.034647 fill: 0', '[CPU] estimating 526x1336x128 disparity using 526x1336x8u tiles, offset -40', 'timings: rectify: 0.016948 disparity: 0.520206 borders: 0.013399 filter: 0.022902 fill: 0', '[CPU] estimating 567x1375x128 disparity using 567x1375x8u tiles, offset -72', 'timings: rectify: 0.018477 disparity: 0.544169 borders: 0.015795 filter: 0.028643 fill: 0', '[CPU] estimating 349x936x160 disparity using 349x936x8u tiles, offset -19', 'timings: rectify: 0.01365 disparity: 0.286265 borders: 0.006171 filter: 0.009272 fill: 0', '[CPU] estimating 592x1119x160 disparity using 592x1119x8u tiles, offset -45', 'timings: rectify: 0.014874 disparity: 0.553673 borders: 0.010751 filter: 0.02158 fill: 0', '[CPU] estimating 635x1125x160 disparity using 635x1125x8u tiles, offset -27', 'timings: rectify: 0.023755 disparity: 0.619166 borders: 0.016398 filter: 0.025008 fill: 0', '[CPU] estimating 619x1104x128 disparity using 619x1104x8u tiles, offset -2', 'timings: rectify: 0.029346 disparity: 0.483996 borders: 0.012443 filter: 0.024971 fill: 0', '[CPU] estimating 703x1081x96 disparity using 703x1081x8u tiles, offset 0', 'timings: rectify: 0.017578 disparity: 0.444043 borders: 0.017176 filter: 0.026932 fill: 0', '[CPU] estimating 934x1001x128 disparity using 934x1001x8u tiles, offset -58', 'timings: rectify: 0.030673 disparity: 0.66057 borders: 0.019603 filter: 0.034672 fill: 0', '[CPU] estimating 961x1038x128 disparity using 961x1038x8u tiles, offset 0', 'timings: rectify: 0.026801 disparity: 0.699865 borders: 0.015864 filter: 0.035616 fill: 0', '[CPU] estimating 577x1185x160 disparity using 577x1185x8u tiles, offset -43', 'timings: rectify: 0.015724 disparity: 0.574198 borders: 0.013191 filter: 0.025265 fill: 1e-06', '[CPU] estimating 1035x1378x128 disparity using 1035x1378x8u tiles, offset -17', 'timings: rectify: 0.049904 disparity: 0.998958 borders: 0.031847 filter: 0.049359 fill: 0', '[CPU] estimating 960x1366x128 disparity using 960x1366x8u tiles, offset 0', 'timings: rectify: 0.04048 disparity: 0.921669 borders: 0.027954 filter: 0.04224 fill: 0', '[CPU] estimating 512x1214x128 disparity using 512x1214x8u tiles, offset -40', 'timings: rectify: 0.020313 disparity: 0.470085 borders: 0.015595 filter: 0.02549 fill: 1e-06', '[CPU] estimating 812x1014x128 disparity using 812x1014x8u tiles, offset -9', 'timings: rectify: 0.018411 disparity: 0.57925 borders: 0.014563 filter: 0.026299 fill: 0', '[CPU] estimating 1234x1439x96 disparity using 1234x1439x8u tiles, offset -68', 'timings: rectify: 0.058561 disparity: 0.996498 borders: 0.038585 filter: 0.05812 fill: 0', '[CPU] estimating 195x1004x160 disparity using 195x1004x8u tiles, offset -64', 'timings: rectify: 0.004318 disparity: 0.186959 borders: 0.005718 filter: 0.006128 fill: 0', '[CPU] estimating 348x855x128 disparity using 348x855x8u tiles, offset -19', 'timings: rectify: 0.01828 disparity: 0.213019 borders: 0.005617 filter: 0.0093 fill: 0', '[CPU] estimating 377x3475x128 disparity using 377x1159x8u tiles, offset -35', 'timings: rectify: 0.050896 disparity: 0.953708 borders: 0.022221 filter: 0.044151 fill: 0', '[CPU] estimating 510x2292x160 disparity using 510x1146x8u tiles, offset -21', 'timings: rectify: 0.043876 disparity: 0.985619 borders: 0.01519 filter: 0.037345 fill: 0', '[CPU] estimating 453x4504x128 disparity using 453x1126x8u tiles, offset -22', 'timings: rectify: 0.051165 disparity: 1.41719 borders: 0.02704 filter: 0.058393 fill: 0', '[CPU] estimating 441x4399x128 disparity using 441x1100x8u tiles, offset -25', 'timings: rectify: 0.065434 disparity: 1.40117 borders: 0.027867 filter: 0.061007 fill: 0', '[CPU] estimating 533x1313x128 disparity using 533x1313x8u tiles, offset -68', 'timings: rectify: 0.024276 disparity: 0.504781 borders: 0.013574 filter: 0.03015 fill: 0', '[CPU] estimating 938x1170x544 disparity using 938x1170x8u tiles, offset -72', 'timings: rectify: 0.027907 disparity: 3.15573 borders: 0.014507 filter: 0.040988 fill: 0', '[CPU] estimating 884x1141x544 disparity using 884x1141x8u tiles, offset -90', 'timings: rectify: 0.021542 disparity: 2.83141 borders: 0.012636 filter: 0.035426 fill: 0', '[CPU] estimating 899x1147x544 disparity using 899x1147x8u tiles, offset -81', 'timings: rectify: 0.036183 disparity: 2.92194 borders: 0.011447 filter: 0.038374 fill: 0', '[CPU] estimating 871x1124x672 disparity using 871x1124x8u tiles, offset -123', 'timings: rectify: 0.021507 disparity: 3.28984 borders: 0.01004 filter: 0.034871 fill: 0', '[CPU] estimating 542x1154x128 disparity using 542x1154x8u tiles, offset -42', 'timings: rectify: 0.022533 disparity: 0.430246 borders: 0.009603 filter: 0.02043 fill: 0', '[CPU] estimating 538x1275x128 disparity using 538x1275x8u tiles, offset -47', 'timings: rectify: 0.015706 disparity: 0.47605 borders: 0.013109 filter: 0.030513 fill: 0', '[CPU] estimating 688x1218x128 disparity using 688x1218x8u tiles, offset -26', 'timings: rectify: 0.023603 disparity: 0.610479 borders: 0.014615 filter: 0.030957 fill: 0', '[CPU] estimating 654x1008x160 disparity using 654x1008x8u tiles, offset -38', 'timings: rectify: 0.015249 disparity: 0.544684 borders: 0.009875 filter: 0.02428 fill: 0', '[CPU] estimating 588x1348x128 disparity using 588x1348x8u tiles, offset -40', 'timings: rectify: 0.026091 disparity: 0.583768 borders: 0.014013 filter: 0.029041 fill: 0', '[CPU] estimating 631x1133x128 disparity using 631x1133x8u tiles, offset -39', 'timings: rectify: 0.022306 disparity: 0.529151 borders: 0.013582 filter: 0.022535 fill: 0', '[CPU] estimating 705x1080x128 disparity using 705x1080x8u tiles, offset -21', 'timings: rectify: 0.032722 disparity: 0.535227 borders: 0.014702 filter: 0.029577 fill: 0', '[CPU] estimating 547x989x352 disparity using 547x989x8u tiles, offset -326', 'timings: rectify: 0.012703 disparity: 0.993276 borders: 0.006526 filter: 0.015567 fill: 0', '[CPU] estimating 616x703x160 disparity using 616x703x8u tiles, offset -56', 'timings: rectify: 0.010379 disparity: 0.365346 borders: 0.005998 filter: 0.01404 fill: 0', '[CPU] estimating 659x1036x352 disparity using 659x1036x8u tiles, offset -246', 'timings: rectify: 0.014954 disparity: 1.25603 borders: 0.005759 filter: 0.019926 fill: 0', '[CPU] estimating 900x1147x544 disparity using 900x1147x8u tiles, offset -401', 'timings: rectify: 0.036827 disparity: 3.01386 borders: 0.009129 filter: 0.035303 fill: 0', '[CPU] estimating 587x697x128 disparity using 587x697x8u tiles, offset -41', 'timings: rectify: 0.016227 disparity: 0.297364 borders: 0.011752 filter: 0.011302 fill: 0', '[CPU] estimating 892x736x384 disparity using 892x736x8u tiles, offset -266', 'timings: rectify: 0.025853 disparity: 1.36456 borders: 0.008499 filter: 0.020783 fill: 0', '[CPU] estimating 584x852x256 disparity using 584x852x8u tiles, offset -112', 'timings: rectify: 0.01647 disparity: 0.662297 borders: 0.009979 filter: 0.020845 fill: 0', '[CPU] estimating 830x1142x512 disparity using 830x1142x8u tiles, offset -394', 'timings: rectify: 0.034327 disparity: 2.52248 borders: 0.00958 filter: 0.033743 fill: 0', '[CPU] estimating 1000x1830x96 disparity using 1000x915x8u tiles, offset 0', 'timings: rectify: 0.051258 disparity: 1.00443 borders: 0.038729 filter: 0.060707 fill: 0', '[CPU] estimating 875x836x96 disparity using 875x836x8u tiles, offset 0', 'timings: rectify: 0.030436 disparity: 0.41421 borders: 0.016114 filter: 0.025336 fill: 0', '[CPU] estimating 967x1227x160 disparity using 967x1227x8u tiles, offset 0', 'timings: rectify: 0.04336 disparity: 1.02964 borders: 0.020513 filter: 0.042891 fill: 0', '[CPU] estimating 417x988x160 disparity using 417x988x8u tiles, offset -114', 'timings: rectify: 0.010228 disparity: 0.364671 borders: 0.009899 filter: 0.014107 fill: 0', '[CPU] estimating 483x1081x256 disparity using 483x1081x8u tiles, offset -145', 'timings: rectify: 0.011826 disparity: 0.699477 borders: 0.011173 filter: 0.026798 fill: 0', '[CPU] estimating 660x901x160 disparity using 660x901x8u tiles, offset -50', 'timings: rectify: 0.013732 disparity: 0.501412 borders: 0.009683 filter: 0.019592 fill: 0', '[CPU] estimating 809x1193x416 disparity using 809x1193x8u tiles, offset -338', 'timings: rectify: 0.021411 disparity: 2.05596 borders: 0.009561 filter: 0.031327 fill: 0', '[CPU] estimating 938x1170x544 disparity using 938x1170x8u tiles, offset -386', 'timings: rectify: 0.025699 disparity: 3.08155 borders: 0.010963 filter: 0.036897 fill: 0', '[CPU] estimating 629x871x128 disparity using 629x871x8u tiles, offset -88', 'timings: rectify: 0.021447 disparity: 0.399537 borders: 0.009217 filter: 0.018184 fill: 0', '[CPU] estimating 869x935x160 disparity using 869x935x8u tiles, offset -132', 'timings: rectify: 0.018257 disparity: 0.696799 borders: 0.014935 filter: 0.032226 fill: 0', '[CPU] estimating 620x974x256 disparity using 620x974x8u tiles, offset -66', 'timings: rectify: 0.021694 disparity: 0.781529 borders: 0.010022 filter: 0.022176 fill: 0', '[CPU] estimating 938x1171x512 disparity using 938x1171x8u tiles, offset -443', 'timings: rectify: 0.024452 disparity: 2.94059 borders: 0.012468 filter: 0.041239 fill: 0', '[CPU] estimating 408x904x192 disparity using 408x904x8u tiles, offset -80', 'timings: rectify: 0.010975 disparity: 0.362976 borders: 0.005718 filter: 0.012327 fill: 0', '[CPU] estimating 1191x2137x96 disparity using 1191x1069x8u tiles, offset -80', 'timings: rectify: 0.057752 disparity: 1.43473 borders: 0.05717 filter: 0.076083 fill: 0', '[CPU] estimating 1000x1830x96 disparity using 1000x915x8u tiles, offset 0', 'timings: rectify: 0.058869 disparity: 1.02194 borders: 0.038287 filter: 0.060584 fill: 0', '[CPU] estimating 1044x1440x128 disparity using 1044x1440x8u tiles, offset 0', 'timings: rectify: 0.054229 disparity: 1.04962 borders: 0.027932 filter: 0.04523 fill: 0', '[CPU] estimating 588x2028x160 disparity using 588x1014x8u tiles, offset -18', 'timings: rectify: 0.030077 disparity: 1.01707 borders: 0.019928 filter: 0.043514 fill: 0', '[CPU] estimating 622x1604x160 disparity using 622x802x8u tiles, offset -31', 'timings: rectify: 0.030895 disparity: 0.854708 borders: 0.015832 filter: 0.031074 fill: 0', '[CPU] estimating 543x4316x160 disparity using 543x1079x8u tiles, offset -5', 'timings: rectify: 0.083362 disparity: 2.00174 borders: 0.03688 filter: 0.075019 fill: 0', '[CPU] estimating 656x2980x160 disparity using 656x994x8u tiles, offset 0', 'timings: rectify: 0.048624 disparity: 1.70325 borders: 0.032686 filter: 0.056032 fill: 0', '[CPU] estimating 401x3904x128 disparity using 401x976x8u tiles, offset 0', 'timings: rectify: 0.05823 disparity: 1.12186 borders: 0.023538 filter: 0.04815 fill: 0', '[CPU] estimating 377x3475x128 disparity using 377x1159x8u tiles, offset -35', 'timings: rectify: 0.048047 disparity: 0.931464 borders: 0.027049 filter: 0.046018 fill: 0', '[CPU] estimating 463x4178x160 disparity using 463x1045x8u tiles, offset -3', 'timings: rectify: 0.048316 disparity: 1.6411 borders: 0.027039 filter: 0.061125 fill: 0', '[CPU] estimating 547x4611x160 disparity using 547x923x8u tiles, offset -31', 'timings: rectify: 0.085364 disparity: 2.15805 borders: 0.035956 filter: 0.074832 fill: 0', '[CPU] estimating 384x2482x128 disparity using 384x1241x8u tiles, offset -15', 'timings: rectify: 0.024189 disparity: 0.653886 borders: 0.015011 filter: 0.03247 fill: 0', '[CPU] estimating 703x4816x160 disparity using 703x964x8u tiles, offset -15', 'timings: rectify: 0.11739 disparity: 2.86271 borders: 0.054477 filter: 0.107766 fill: 0', '[CPU] estimating 558x3454x160 disparity using 558x1152x8u tiles, offset -30', 'timings: rectify: 0.048257 disparity: 1.64602 borders: 0.037403 filter: 0.065958 fill: 0', '[CPU] estimating 799x5295x128 disparity using 799x1059x8u tiles, offset -18', 'timings: rectify: 0.100693 disparity: 2.97422 borders: 0.070416 filter: 0.127434 fill: 0', '[CPU] estimating 526x2144x160 disparity using 526x1072x8u tiles, offset -33', 'timings: rectify: 0.030138 disparity: 0.939778 borders: 0.018966 filter: 0.037594 fill: 0', '[CPU] estimating 461x1434x160 disparity using 461x1434x8u tiles, offset -65', 'timings: rectify: 0.029874 disparity: 0.567489 borders: 0.010831 filter: 0.021544 fill: 0', '[CPU] estimating 428x3784x128 disparity using 428x946x8u tiles, offset -38', 'timings: rectify: 0.040531 disparity: 1.12805 borders: 0.02811 filter: 0.05602 fill: 0', '[CPU] estimating 446x3982x160 disparity using 446x996x8u tiles, offset -32', 'timings: rectify: 0.063382 disparity: 1.54374 borders: 0.024903 filter: 0.058486 fill: 0', '[CPU] estimating 521x4287x160 disparity using 521x1072x8u tiles, offset -32', 'timings: rectify: 0.054641 disparity: 1.85038 borders: 0.035859 filter: 0.065349 fill: 0', '[CPU] estimating 598x3489x160 disparity using 598x1163x8u tiles, offset -5', 'timings: rectify: 0.050133 disparity: 1.80619 borders: 0.035345 filter: 0.064325 fill: 0', '[CPU] estimating 989x925x128 disparity using 989x925x8u tiles, offset 0', 'timings: rectify: 0.020854 disparity: 0.632168 borders: 0.021878 filter: 0.034432 fill: 0', '[CPU] estimating 803x842x128 disparity using 803x842x8u tiles, offset -12', 'timings: rectify: 0.01661 disparity: 0.463612 borders: 0.014314 filter: 0.023287 fill: 0', '[CPU] estimating 741x837x128 disparity using 741x837x8u tiles, offset -18', 'timings: rectify: 0.013625 disparity: 0.428813 borders: 0.012695 filter: 0.020041 fill: 0', '[CPU] estimating 841x998x128 disparity using 841x998x8u tiles, offset -46', 'timings: rectify: 0.019276 disparity: 0.602855 borders: 0.014734 filter: 0.032766 fill: 0', '[CPU] estimating 814x794x192 disparity using 814x794x8u tiles, offset -58', 'timings: rectify: 0.014557 disparity: 0.674039 borders: 0.010428 filter: 0.020861 fill: 0', '[CPU] estimating 915x1139x160 disparity using 915x1139x8u tiles, offset -11', 'timings: rectify: 0.037776 disparity: 0.916874 borders: 0.016529 filter: 0.033386 fill: 0', '[CPU] estimating 845x1277x160 disparity using 845x1277x8u tiles, offset 0', 'timings: rectify: 0.025168 disparity: 0.914497 borders: 0.016981 filter: 0.035549 fill: 0', '[CPU] estimating 823x988x160 disparity using 823x988x8u tiles, offset -33', 'timings: rectify: 0.028884 disparity: 0.710283 borders: 0.014155 filter: 0.025732 fill: 1e-06', '[CPU] estimating 829x899x192 disparity using 829x899x8u tiles, offset -29', 'timings: rectify: 0.016687 disparity: 0.739723 borders: 0.011614 filter: 0.023849 fill: 1e-06', '[CPU] estimating 623x951x160 disparity using 623x951x8u tiles, offset -110', 'timings: rectify: 0.016999 disparity: 0.494137 borders: 0.010839 filter: 0.023207 fill: 0', '[CPU] estimating 739x1044x128 disparity using 739x1044x8u tiles, offset -80', 'timings: rectify: 0.017937 disparity: 0.535344 borders: 0.013644 filter: 0.026981 fill: 0', '[CPU] estimating 464x1180x160 disparity using 464x1180x8u tiles, offset -47', 'timings: rectify: 0.015272 disparity: 0.476437 borders: 0.009062 filter: 0.021096 fill: 0', '[CPU] estimating 565x1887x160 disparity using 565x944x8u tiles, offset -43', 'timings: rectify: 0.037801 disparity: 0.944962 borders: 0.014034 filter: 0.031686 fill: 0', '[CPU] estimating 469x2270x160 disparity using 469x1135x8u tiles, offset -4', 'timings: rectify: 0.036454 disparity: 0.898872 borders: 0.014383 filter: 0.032761 fill: 0', '[CPU] estimating 440x4399x128 disparity using 440x1100x8u tiles, offset -25', 'timings: rectify: 0.048829 disparity: 1.36571 borders: 0.030217 filter: 0.057903 fill: 0', '[CPU] estimating 360x3908x128 disparity using 360x977x8u tiles, offset -32', 'timings: rectify: 0.037463 disparity: 0.994523 borders: 0.026589 filter: 0.051287 fill: 0', '[CPU] estimating 458x4521x128 disparity using 458x1131x8u tiles, offset -26', 'timings: rectify: 0.052612 disparity: 1.4564 borders: 0.040598 filter: 0.075335 fill: 0', '[CPU] estimating 425x4562x128 disparity using 425x1141x8u tiles, offset -3', 'timings: rectify: 0.049478 disparity: 1.35906 borders: 0.036507 filter: 0.063937 fill: 0', '[CPU] estimating 587x1295x192 disparity using 587x1295x8u tiles, offset -91', 'timings: rectify: 0.018295 disparity: 0.746781 borders: 0.013801 filter: 0.02546 fill: 0', '[CPU] estimating 709x2653x160 disparity using 709x885x8u tiles, offset 0', 'timings: rectify: 0.06433 disparity: 1.63382 borders: 0.035651 filter: 0.058028 fill: 0', '[CPU] estimating 641x5013x128 disparity using 641x1003x8u tiles, offset -27', 'timings: rectify: 0.115027 disparity: 2.30192 borders: 0.062861 filter: 0.107117 fill: 0', '[CPU] estimating 401x3589x128 disparity using 401x898x8u tiles, offset -1', 'timings: rectify: 0.03706 disparity: 1.02601 borders: 0.026669 filter: 0.048644 fill: 0', '[CPU] estimating 407x2471x128 disparity using 407x1236x8u tiles, offset -11', 'timings: rectify: 0.025436 disparity: 0.704224 borders: 0.017256 filter: 0.036406 fill: 0', '[CPU] estimating 398x3862x128 disparity using 398x966x8u tiles, offset -20', 'timings: rectify: 0.03942 disparity: 1.09074 borders: 0.024563 filter: 0.054579 fill: 0', '[CPU] estimating 741x837x128 disparity using 741x837x8u tiles, offset 0', 'timings: rectify: 0.023983 disparity: 0.445062 borders: 0.01274 filter: 0.024198 fill: 0', '[CPU] estimating 584x795x128 disparity using 584x795x8u tiles, offset -18', 'timings: rectify: 0.010455 disparity: 0.32277 borders: 0.009136 filter: 0.020303 fill: 0', '[CPU] estimating 1197x1081x96 disparity using 1197x1081x8u tiles, offset -88', 'timings: rectify: 0.044401 disparity: 0.748809 borders: 0.028323 filter: 0.0412 fill: 0', '[CPU] estimating 720x808x160 disparity using 720x808x8u tiles, offset -67', 'timings: rectify: 0.022843 disparity: 0.496743 borders: 0.011407 filter: 0.023495 fill: 1e-06', '[CPU] estimating 571x880x128 disparity using 571x880x8u tiles, offset -69', 'timings: rectify: 0.020764 disparity: 0.361711 borders: 0.009107 filter: 0.015728 fill: 0', '[CPU] estimating 831x1221x160 disparity using 831x1221x8u tiles, offset 0', 'timings: rectify: 0.038348 disparity: 0.890134 borders: 0.015889 filter: 0.042303 fill: 0', '[CPU] estimating 781x949x160 disparity using 781x949x8u tiles, offset -41', 'timings: rectify: 0.027461 disparity: 0.61407 borders: 0.012204 filter: 0.027623 fill: 0', '[CPU] estimating 692x847x128 disparity using 692x847x8u tiles, offset -23', 'timings: rectify: 0.025266 disparity: 0.420023 borders: 0.009016 filter: 0.020011 fill: 0', '[CPU] estimating 757x1037x128 disparity using 757x1037x8u tiles, offset -41', 'timings: rectify: 0.018085 disparity: 0.542077 borders: 0.013341 filter: 0.023649 fill: 0', '[CPU] estimating 467x1339x128 disparity using 467x1339x8u tiles, offset -8', 'timings: rectify: 0.023253 disparity: 0.425337 borders: 0.012258 filter: 0.024763 fill: 0', '[CPU] estimating 574x1400x128 disparity using 574x1400x8u tiles, offset -18', 'timings: rectify: 0.032491 disparity: 0.579733 borders: 0.015309 filter: 0.026414 fill: 0', '[CPU] estimating 780x1137x160 disparity using 780x1137x8u tiles, offset -15', 'timings: rectify: 0.021871 disparity: 0.747435 borders: 0.014347 filter: 0.026241 fill: 0', '[CPU] estimating 767x1136x160 disparity using 767x1136x8u tiles, offset -30', 'timings: rectify: 0.020253 disparity: 0.758151 borders: 0.015192 filter: 0.028416 fill: 0', '[CPU] estimating 1007x968x128 disparity using 1007x968x8u tiles, offset 0', 'timings: rectify: 0.034507 disparity: 0.684855 borders: 0.019882 filter: 0.034545 fill: 0', '[CPU] estimating 1091x1582x128 disparity using 1091x791x8u tiles, offset 0', 'timings: rectify: 0.040852 disparity: 1.23034 borders: 0.034862 filter: 0.056577 fill: 0', '[CPU] estimating 593x1119x160 disparity using 593x1119x8u tiles, offset -4', 'timings: rectify: 0.015068 disparity: 0.576564 borders: 0.012652 filter: 0.023599 fill: 0', '[CPU] estimating 276x1040x128 disparity using 276x1040x8u tiles, offset -32', 'timings: rectify: 0.011156 disparity: 0.215614 borders: 0.005568 filter: 0.009058 fill: 0', '[CPU] estimating 417x890x160 disparity using 417x890x8u tiles, offset -80', 'timings: rectify: 0.008388 disparity: 0.329159 borders: 0.006908 filter: 0.012638 fill: 0', '[CPU] estimating 297x890x128 disparity using 297x890x8u tiles, offset -37', 'timings: rectify: 0.010934 disparity: 0.194775 borders: 0.004929 filter: 0.008207 fill: 0', '[CPU] estimating 1096x1257x128 disparity using 1096x1257x8u tiles, offset -8', 'timings: rectify: 0.046342 disparity: 0.982194 borders: 0.029946 filter: 0.048123 fill: 0', '[CPU] estimating 1045x1076x160 disparity using 1045x1076x8u tiles, offset -19', 'timings: rectify: 0.041329 disparity: 0.971842 borders: 0.020578 filter: 0.045432 fill: 0', '[CPU] estimating 581x913x160 disparity using 581x913x8u tiles, offset -3', 'timings: rectify: 0.017104 disparity: 0.451929 borders: 0.006993 filter: 0.018782 fill: 0', '[CPU] estimating 184x958x128 disparity using 184x958x8u tiles, offset -40', 'timings: rectify: 0.006391 disparity: 0.086606 borders: 0.004242 filter: 0.005396 fill: 1e-06', '[CPU] estimating 271x770x128 disparity using 271x770x8u tiles, offset -57', 'timings: rectify: 0.004885 disparity: 0.135043 borders: 0.005939 filter: 0.0068 fill: 1e-06', '[CPU] estimating 628x1114x160 disparity using 628x1114x8u tiles, offset -2', 'timings: rectify: 0.016137 disparity: 0.586805 borders: 0.014625 filter: 0.029897 fill: 0', '[CPU] estimating 1059x1179x128 disparity using 1059x1179x8u tiles, offset 0', 'timings: rectify: 0.028644 disparity: 0.87758 borders: 0.021425 filter: 0.042454 fill: 0', '[CPU] estimating 939x1127x128 disparity using 939x1127x8u tiles, offset -44', 'timings: rectify: 0.036051 disparity: 0.768216 borders: 0.019665 filter: 0.038356 fill: 0', '[CPU] estimating 760x907x160 disparity using 760x907x8u tiles, offset 0', 'timings: rectify: 0.022362 disparity: 0.579568 borders: 0.009892 filter: 0.021931 fill: 0', '[CPU] estimating 716x1099x128 disparity using 716x1099x8u tiles, offset -35', 'timings: rectify: 0.032168 disparity: 0.601317 borders: 0.012595 filter: 0.025853 fill: 0', '[CPU] estimating 544x4316x160 disparity using 544x1079x8u tiles, offset -5', 'timings: rectify: 0.05813 disparity: 1.98821 borders: 0.035753 filter: 0.06742 fill: 0', '[CPU] estimating 420x3532x128 disparity using 420x1178x8u tiles, offset -14', 'timings: rectify: 0.059715 disparity: 1.08593 borders: 0.02537 filter: 0.045081 fill: 1e-06', '[CPU] estimating 477x1509x160 disparity using 477x1509x8u tiles, offset -23', 'timings: rectify: 0.027595 disparity: 0.604963 borders: 0.009873 filter: 0.026832 fill: 0', '[CPU] estimating 465x1180x160 disparity using 465x1180x8u tiles, offset -21', 'timings: rectify: 0.018432 disparity: 0.472587 borders: 0.007732 filter: 0.020398 fill: 0', '[CPU] estimating 683x1077x128 disparity using 683x1077x8u tiles, offset -78', 'timings: rectify: 0.030222 disparity: 0.531226 borders: 0.011097 filter: 0.025037 fill: 0', '[CPU] estimating 484x1081x256 disparity using 484x1081x8u tiles, offset -172', 'timings: rectify: 0.011927 disparity: 0.679417 borders: 0.009541 filter: 0.017853 fill: 0', '[CPU] estimating 489x1091x352 disparity using 489x1091x8u tiles, offset -126', 'timings: rectify: 0.020557 disparity: 0.991543 borders: 0.009326 filter: 0.018429 fill: 0', '[CPU] estimating 546x989x352 disparity using 546x989x8u tiles, offset -145', 'timings: rectify: 0.011817 disparity: 0.988991 borders: 0.013243 filter: 0.020941 fill: 0', '[CPU] estimating 843x1191x576 disparity using 843x1191x8u tiles, offset -185', 'timings: rectify: 0.034961 disparity: 2.96943 borders: 0.01159 filter: 0.036889 fill: 0', '[CPU] estimating 645x1071x160 disparity using 645x1071x8u tiles, offset -35', 'timings: rectify: 0.015825 disparity: 0.581508 borders: 0.012635 filter: 0.031404 fill: 0', '[CPU] estimating 595x1029x160 disparity using 595x1029x8u tiles, offset -40', 'timings: rectify: 0.02103 disparity: 0.52522 borders: 0.009592 filter: 0.022623 fill: 0', '[CPU] estimating 588x1232x128 disparity using 588x1232x8u tiles, offset -26', 'timings: rectify: 0.025873 disparity: 0.501358 borders: 0.01196 filter: 0.020883 fill: 0', '[CPU] estimating 597x1289x192 disparity using 597x1289x8u tiles, offset -21', 'timings: rectify: 0.02679 disparity: 0.788435 borders: 0.011913 filter: 0.030192 fill: 0', '[CPU] estimating 647x947x160 disparity using 647x947x8u tiles, offset -50', 'timings: rectify: 0.024861 disparity: 0.541066 borders: 0.011303 filter: 0.023972 fill: 0', '[CPU] estimating 941x804x416 disparity using 941x804x8u tiles, offset -55', 'timings: rectify: 0.025195 disparity: 1.71266 borders: 0.012295 filter: 0.028302 fill: 0', '[CPU] estimating 932x793x480 disparity using 932x793x8u tiles, offset -78', 'timings: rectify: 0.027897 disparity: 1.81994 borders: 0.00838 filter: 0.021813 fill: 0', '[CPU] estimating 786x833x128 disparity using 786x833x8u tiles, offset -3', 'timings: rectify: 0.020065 disparity: 0.448516 borders: 0.016632 filter: 0.023881 fill: 0', '[CPU] estimating 1038x1005x128 disparity using 1038x1005x8u tiles, offset 0', 'timings: rectify: 0.033942 disparity: 0.743918 borders: 0.019423 filter: 0.037276 fill: 0', '[CPU] estimating 1096x1257x128 disparity using 1096x1257x8u tiles, offset -41', 'timings: rectify: 0.038829 disparity: 0.962644 borders: 0.028659 filter: 0.047415 fill: 0', '[CPU] estimating 912x1053x96 disparity using 912x1053x8u tiles, offset -6', 'timings: rectify: 0.021515 disparity: 0.52309 borders: 0.020308 filter: 0.032478 fill: 0', '[CPU] estimating 812x2065x128 disparity using 812x1033x8u tiles, offset -12', 'timings: rectify: 0.040478 disparity: 1.18343 borders: 0.036321 filter: 0.060224 fill: 0', '[CPU] estimating 578x1185x160 disparity using 578x1185x8u tiles, offset -17', 'timings: rectify: 0.029426 disparity: 0.56861 borders: 0.013964 filter: 0.029857 fill: 0', '[CPU] estimating 354x1022x128 disparity using 354x1022x8u tiles, offset -21', 'timings: rectify: 0.008316 disparity: 0.251354 borders: 0.012239 filter: 0.016401 fill: 0', '[CPU] estimating 341x894x128 disparity using 341x894x8u tiles, offset -43', 'timings: rectify: 0.011598 disparity: 0.21896 borders: 0.007098 filter: 0.013132 fill: 0', '[CPU] estimating 420x905x128 disparity using 420x905x8u tiles, offset -24', 'timings: rectify: 0.008805 disparity: 0.26448 borders: 0.005693 filter: 0.012143 fill: 0', '[CPU] estimating 949x938x128 disparity using 949x938x8u tiles, offset 0', 'timings: rectify: 0.019886 disparity: 0.620705 borders: 0.018836 filter: 0.02941 fill: 1e-06', '[CPU] estimating 478x802x128 disparity using 478x802x8u tiles, offset 0', 'timings: rectify: 0.012344 disparity: 0.270459 borders: 0.007002 filter: 0.012396 fill: 0', '[CPU] estimating 267x880x128 disparity using 267x880x8u tiles, offset -19', 'timings: rectify: 0.00528 disparity: 0.161997 borders: 0.004581 filter: 0.007522 fill: 0', '[CPU] estimating 359x760x128 disparity using 359x760x8u tiles, offset -53', 'timings: rectify: 0.013658 disparity: 0.191133 borders: 0.005784 filter: 0.007666 fill: 0', '[CPU] estimating 626x1054x160 disparity using 626x1054x8u tiles, offset -5', 'timings: rectify: 0.015036 disparity: 0.576621 borders: 0.013783 filter: 0.025206 fill: 0', '[CPU] estimating 820x4815x128 disparity using 820x963x8u tiles, offset -52', 'timings: rectify: 0.094584 disparity: 2.819 borders: 0.081671 filter: 0.125747 fill: 1e-06', '[CPU] estimating 805x1053x128 disparity using 805x1053x8u tiles, offset -8', 'timings: rectify: 0.019297 disparity: 0.600735 borders: 0.017051 filter: 0.034991 fill: 0', '[CPU] estimating 884x1274x160 disparity using 884x1274x8u tiles, offset 0', 'timings: rectify: 0.036975 disparity: 0.942603 borders: 0.020279 filter: 0.037315 fill: 0', '[CPU] estimating 949x1024x128 disparity using 949x1024x8u tiles, offset -26', 'timings: rectify: 0.035964 disparity: 0.711093 borders: 0.017992 filter: 0.029985 fill: 0', '[CPU] estimating 703x4816x160 disparity using 703x964x8u tiles, offset -15', 'timings: rectify: 0.08315 disparity: 2.82396 borders: 0.052866 filter: 0.097225 fill: 0', '[CPU] estimating 484x4071x128 disparity using 484x1018x8u tiles, offset -30', 'timings: rectify: 0.070579 disparity: 1.45333 borders: 0.039573 filter: 0.064009 fill: 0', '[CPU] estimating 730x1702x192 disparity using 730x851x8u tiles, offset -29', 'timings: rectify: 0.04155 disparity: 1.26937 borders: 0.018012 filter: 0.039204 fill: 0', '[CPU] estimating 588x1295x192 disparity using 588x1295x8u tiles, offset -18', 'timings: rectify: 0.028594 disparity: 0.741171 borders: 0.011349 filter: 0.030601 fill: 0', '[CPU] estimating 721x708x128 disparity using 721x708x8u tiles, offset -76', 'timings: rectify: 0.023476 disparity: 0.351502 borders: 0.007775 filter: 0.017213 fill: 0', '[CPU] estimating 628x871x128 disparity using 628x871x8u tiles, offset -67', 'timings: rectify: 0.020558 disparity: 0.389797 borders: 0.009654 filter: 0.018515 fill: 0', '[CPU] estimating 485x816x128 disparity using 485x816x8u tiles, offset -74', 'timings: rectify: 0.009076 disparity: 0.277844 borders: 0.006731 filter: 0.014848 fill: 0', '[CPU] estimating 587x697x128 disparity using 587x697x8u tiles, offset -71', 'timings: rectify: 0.009336 disparity: 0.292288 borders: 0.005899 filter: 0.01487 fill: 0', '[CPU] estimating 900x910x224 disparity using 900x910x8u tiles, offset -129', 'timings: rectify: 0.024564 disparity: 0.938921 borders: 0.013515 filter: 0.028561 fill: 0', '[CPU] estimating 901x1091x224 disparity using 901x1091x8u tiles, offset -60', 'timings: rectify: 0.035029 disparity: 1.19332 borders: 0.01684 filter: 0.037541 fill: 0', '[CPU] estimating 901x984x224 disparity using 901x984x8u tiles, offset -61', 'timings: rectify: 0.020675 disparity: 1.02113 borders: 0.012725 filter: 0.030146 fill: 0', '[CPU] estimating 826x1255x160 disparity using 826x1255x8u tiles, offset -49', 'timings: rectify: 0.035682 disparity: 0.913174 borders: 0.016158 filter: 0.035019 fill: 1e-06', '[CPU] estimating 822x1260x192 disparity using 822x1260x8u tiles, offset -36', 'timings: rectify: 0.036754 disparity: 1.06715 borders: 0.017498 filter: 0.031602 fill: 0', '[CPU] estimating 992x1008x224 disparity using 992x1008x8u tiles, offset -68', 'timings: rectify: 0.022616 disparity: 1.20118 borders: 0.018204 filter: 0.035721 fill: 0', '[CPU] estimating 948x971x192 disparity using 948x971x8u tiles, offset -93', 'timings: rectify: 0.021275 disparity: 0.91776 borders: 0.018392 filter: 0.033395 fill: 0', '[CPU] estimating 905x945x224 disparity using 905x945x8u tiles, offset -88', 'timings: rectify: 0.033112 disparity: 1.02835 borders: 0.013547 filter: 0.032916 fill: 0', '[CPU] estimating 580x913x160 disparity using 580x913x8u tiles, offset -32', 'timings: rectify: 0.015048 disparity: 0.448832 borders: 0.006836 filter: 0.013401 fill: 0', '[CPU] estimating 400x909x160 disparity using 400x909x8u tiles, offset -51', 'timings: rectify: 0.00824 disparity: 0.312323 borders: 0.008151 filter: 0.01307 fill: 1e-06', '[CPU] estimating 549x1203x160 disparity using 549x1203x8u tiles, offset 0', 'timings: rectify: 0.015506 disparity: 0.549721 borders: 0.011698 filter: 0.028895 fill: 0', '[CPU] estimating 960x1366x128 disparity using 960x1366x8u tiles, offset -60', 'timings: rectify: 0.038059 disparity: 0.90436 borders: 0.027543 filter: 0.039657 fill: 0', '[CPU] estimating 821x1777x128 disparity using 821x889x8u tiles, offset -3', 'timings: rectify: 0.048967 disparity: 1.06197 borders: 0.031749 filter: 0.050831 fill: 0', '[CPU] estimating 672x4380x128 disparity using 672x1095x8u tiles, offset -41', 'timings: rectify: 0.080291 disparity: 2.08975 borders: 0.059787 filter: 0.089355 fill: 0', '[CPU] estimating 716x1138x128 disparity using 716x1138x8u tiles, offset -20', 'timings: rectify: 0.031771 disparity: 0.574978 borders: 0.017065 filter: 0.028383 fill: 0', '[CPU] estimating 478x802x128 disparity using 478x802x8u tiles, offset -13', 'timings: rectify: 0.00862 disparity: 0.275036 borders: 0.010003 filter: 0.013024 fill: 0', '[CPU] estimating 687x844x128 disparity using 687x844x8u tiles, offset 0', 'timings: rectify: 0.012804 disparity: 0.421392 borders: 0.012514 filter: 0.022189 fill: 0', '[CPU] estimating 1002x1147x160 disparity using 1002x1147x8u tiles, offset -23', 'timings: rectify: 0.025884 disparity: 0.946408 borders: 0.025447 filter: 0.039092 fill: 0', '[CPU] estimating 641x945x128 disparity using 641x945x8u tiles, offset -27', 'timings: rectify: 0.02526 disparity: 0.448581 borders: 0.01277 filter: 0.024355 fill: 0', '[CPU] estimating 900x1293x128 disparity using 900x1293x8u tiles, offset -53', 'timings: rectify: 0.040933 disparity: 0.805269 borders: 0.02423 filter: 0.037716 fill: 0', '[CPU] estimating 800x5295x128 disparity using 800x1059x8u tiles, offset -18', 'timings: rectify: 0.121442 disparity: 2.95238 borders: 0.072172 filter: 0.125517 fill: 0', '[CPU] estimating 545x977x128 disparity using 545x977x8u tiles, offset 0', 'timings: rectify: 0.019967 disparity: 0.407069 borders: 0.008774 filter: 0.019001 fill: 0', '[CPU] estimating 682x4003x128 disparity using 682x1001x8u tiles, offset -15', 'timings: rectify: 0.080335 disparity: 1.93323 borders: 0.04724 filter: 0.082545 fill: 0', '[CPU] estimating 642x5013x128 disparity using 642x1003x8u tiles, offset -27', 'timings: rectify: 0.078119 disparity: 2.21719 borders: 0.060779 filter: 0.096459 fill: 0', '[CPU] estimating 794x994x224 disparity using 794x994x8u tiles, offset -73', 'timings: rectify: 0.026687 disparity: 0.925714 borders: 0.011075 filter: 0.026761 fill: 0', '[CPU] estimating 621x974x256 disparity using 621x974x8u tiles, offset -132', 'timings: rectify: 0.012933 disparity: 0.786116 borders: 0.010826 filter: 0.022009 fill: 0', '[CPU] estimating 553x933x256 disparity using 553x933x8u tiles, offset -106', 'timings: rectify: 0.017497 disparity: 0.67454 borders: 0.008178 filter: 0.022562 fill: 0', '[CPU] estimating 585x852x256 disparity using 585x852x8u tiles, offset -97', 'timings: rectify: 0.016638 disparity: 0.660109 borders: 0.007287 filter: 0.016821 fill: 1e-06', '[CPU] estimating 568x466x128 disparity using 568x466x8u tiles, offset -57', 'timings: rectify: 0.00625 disparity: 0.180707 borders: 0.006437 filter: 0.01084 fill: 0', '[CPU] estimating 683x986x160 disparity using 683x986x8u tiles, offset -88', 'timings: rectify: 0.015203 disparity: 0.571575 borders: 0.012344 filter: 0.02969 fill: 0', '[CPU] estimating 746x608x128 disparity using 746x608x8u tiles, offset -89', 'timings: rectify: 0.01624 disparity: 0.336916 borders: 0.007725 filter: 0.016067 fill: 0', '[CPU] estimating 658x383x128 disparity using 658x383x8u tiles, offset -9', 'timings: rectify: 0.005909 disparity: 0.170755 borders: 0.006756 filter: 0.00805 fill: 0', '[CPU] estimating 629x625x128 disparity using 629x625x8u tiles, offset -46', 'timings: rectify: 0.008966 disparity: 0.263635 borders: 0.008102 filter: 0.014185 fill: 0', '[CPU] estimating 571x734x96 disparity using 571x734x8u tiles, offset -73', 'timings: rectify: 0.009383 disparity: 0.226737 borders: 0.01599 filter: 0.015146 fill: 0', '[CPU] estimating 805x818x96 disparity using 805x818x8u tiles, offset -71', 'timings: rectify: 0.018208 disparity: 0.382648 borders: 0.01388 filter: 0.024321 fill: 0', '[CPU] estimating 738x775x256 disparity using 738x775x8u tiles, offset -96', 'timings: rectify: 0.015995 disparity: 0.744674 borders: 0.009674 filter: 0.022926 fill: 0', '[CPU] estimating 597x1289x192 disparity using 597x1289x8u tiles, offset -108', 'timings: rectify: 0.01845 disparity: 0.795577 borders: 0.012442 filter: 0.029361 fill: 0', '[CPU] estimating 777x1115x160 disparity using 777x1115x8u tiles, offset -57', 'timings: rectify: 0.020548 disparity: 0.725799 borders: 0.010177 filter: 0.027055 fill: 0', '[CPU] estimating 510x1337x160 disparity using 510x1337x8u tiles, offset -38', 'timings: rectify: 0.024055 disparity: 0.609508 borders: 0.013247 filter: 0.025339 fill: 0', '[CPU] estimating 654x1008x160 disparity using 654x1008x8u tiles, offset -45', 'timings: rectify: 0.015415 disparity: 0.550646 borders: 0.01067 filter: 0.022229 fill: 0', '[CPU] estimating 822x1260x192 disparity using 822x1260x8u tiles, offset -103', 'timings: rectify: 0.023719 disparity: 1.08347 borders: 0.014768 filter: 0.034016 fill: 1e-06', '[CPU] estimating 652x910x160 disparity using 652x910x8u tiles, offset -62', 'timings: rectify: 0.016537 disparity: 0.504608 borders: 0.009472 filter: 0.024935 fill: 0', '[CPU] estimating 657x383x128 disparity using 657x383x8u tiles, offset -17', 'timings: rectify: 0.007358 disparity: 0.166866 borders: 0.007979 filter: 0.008778 fill: 0', '[CPU] estimating 669x1083x160 disparity using 669x1083x8u tiles, offset -55', 'timings: rectify: 0.017145 disparity: 0.5965 borders: 0.011209 filter: 0.02722 fill: 0', '[CPU] estimating 828x1169x256 disparity using 828x1169x8u tiles, offset -68', 'timings: rectify: 0.033751 disparity: 1.27116 borders: 0.013283 filter: 0.027054 fill: 0', '[CPU] estimating 769x1004x256 disparity using 769x1004x8u tiles, offset -120', 'timings: rectify: 0.017885 disparity: 1.06056 borders: 0.014741 filter: 0.02652 fill: 0', '[CPU] estimating 823x988x160 disparity using 823x988x8u tiles, offset -82', 'timings: rectify: 0.023114 disparity: 0.693303 borders: 0.012391 filter: 0.027682 fill: 0', '[CPU] estimating 795x875x160 disparity using 795x875x8u tiles, offset -109', 'timings: rectify: 0.022307 disparity: 0.604042 borders: 0.010388 filter: 0.023598 fill: 1e-06', '[CPU] estimating 722x988x128 disparity using 722x988x8u tiles, offset 0', 'timings: rectify: 0.025015 disparity: 0.516181 borders: 0.009516 filter: 0.022159 fill: 0', '[CPU] estimating 692x847x128 disparity using 692x847x8u tiles, offset -11', 'timings: rectify: 0.015826 disparity: 0.405407 borders: 0.008332 filter: 0.020568 fill: 1e-06', '[CPU] estimating 734x747x128 disparity using 734x747x8u tiles, offset -104', 'timings: rectify: 0.019017 disparity: 0.399216 borders: 0.008978 filter: 0.019581 fill: 0', '[CPU] estimating 1156x1107x160 disparity using 1156x1107x8u tiles, offset -44', 'timings: rectify: 0.028095 disparity: 1.06801 borders: 0.027993 filter: 0.046534 fill: 0', '[CPU] estimating 989x987x128 disparity using 989x987x8u tiles, offset -16', 'timings: rectify: 0.02207 disparity: 0.674552 borders: 0.017754 filter: 0.037162 fill: 0', '[CPU] estimating 972x1020x128 disparity using 972x1020x8u tiles, offset -113', 'timings: rectify: 0.022303 disparity: 0.704572 borders: 0.02162 filter: 0.034662 fill: 0', '[CPU] estimating 1180x1078x160 disparity using 1180x1078x8u tiles, offset -52', 'timings: rectify: 0.039529 disparity: 1.09965 borders: 0.026679 filter: 0.045264 fill: 0', '[CPU] estimating 985x937x224 disparity using 985x937x8u tiles, offset -165', 'timings: rectify: 0.022632 disparity: 1.09604 borders: 0.011486 filter: 0.030804 fill: 0', '[CPU] estimating 897x746x192 disparity using 897x746x8u tiles, offset -48', 'timings: rectify: 0.024915 disparity: 0.67736 borders: 0.011832 filter: 0.030613 fill: 0', '[CPU] estimating 490x1091x352 disparity using 490x1091x8u tiles, offset -272', 'timings: rectify: 0.015951 disparity: 0.973927 borders: 0.006376 filter: 0.016962 fill: 0', '[CPU] estimating 561x864x128 disparity using 561x864x8u tiles, offset -52', 'timings: rectify: 0.011213 disparity: 0.337849 borders: 0.007187 filter: 0.014419 fill: 0', '[CPU] estimating 614x1181x352 disparity using 614x1181x8u tiles, offset -281', 'timings: rectify: 0.01633 disparity: 1.32978 borders: 0.00632 filter: 0.020494 fill: 0', '[CPU] estimating 884x1141x544 disparity using 884x1141x8u tiles, offset -460', 'timings: rectify: 0.023011 disparity: 2.85776 borders: 0.011469 filter: 0.038342 fill: 0', '[CPU] estimating 486x816x128 disparity using 486x816x8u tiles, offset -81', 'timings: rectify: 0.009044 disparity: 0.270991 borders: 0.007085 filter: 0.015243 fill: 0', '[CPU] estimating 885x900x384 disparity using 885x900x8u tiles, offset -293', 'timings: rectify: 0.017699 disparity: 1.56782 borders: 0.008284 filter: 0.02326 fill: 0', '[CPU] estimating 552x933x256 disparity using 552x933x8u tiles, offset -119', 'timings: rectify: 0.011415 disparity: 0.6557 borders: 0.011214 filter: 0.018558 fill: 0', '[CPU] estimating 878x1135x544 disparity using 878x1135x8u tiles, offset -443', 'timings: rectify: 0.022607 disparity: 2.78248 borders: 0.00927 filter: 0.034255 fill: 0', '[CPU] estimating 1191x2137x96 disparity using 1191x1069x8u tiles, offset -37', 'timings: rectify: 0.082764 disparity: 1.42509 borders: 0.05316 filter: 0.079772 fill: 0', '[CPU] estimating 875x836x96 disparity using 875x836x8u tiles, offset 0', 'timings: rectify: 0.016362 disparity: 0.429077 borders: 0.016407 filter: 0.024298 fill: 0', '[CPU] estimating 876x1300x128 disparity using 876x1300x8u tiles, offset 0', 'timings: rectify: 0.038986 disparity: 0.821725 borders: 0.019602 filter: 0.04456 fill: 0', '[CPU] estimating 183x958x128 disparity using 183x958x8u tiles, offset -58', 'timings: rectify: 0.005918 disparity: 0.11923 borders: 0.003089 filter: 0.005007 fill: 0', '[CPU] estimating 282x996x160 disparity using 282x996x8u tiles, offset -47', 'timings: rectify: 0.006428 disparity: 0.239168 borders: 0.004365 filter: 0.007989 fill: 0', '[CPU] estimating 190x1031x128 disparity using 190x1031x8u tiles, offset -51', 'timings: rectify: 0.004465 disparity: 0.125559 borders: 0.003398 filter: 0.005553 fill: 0', '[CPU] estimating 511x1214x128 disparity using 511x1214x8u tiles, offset -82', 'timings: rectify: 0.025118 disparity: 0.469269 borders: 0.011611 filter: 0.026217 fill: 0', '[CPU] estimating 863x1887x96 disparity using 863x944x8u tiles, offset 0', 'timings: rectify: 0.056109 disparity: 0.94822 borders: 0.037232 filter: 0.051815 fill: 0', '[CPU] estimating 1042x1262x160 disparity using 1042x1262x8u tiles, offset 0', 'timings: rectify: 0.04616 disparity: 1.14033 borders: 0.027375 filter: 0.047358 fill: 0', '[CPU] estimating 1048x1380x128 disparity using 1048x1380x8u tiles, offset 0', 'timings: rectify: 0.046766 disparity: 1.02884 borders: 0.02874 filter: 0.047473 fill: 0', '[CPU] estimating 266x880x128 disparity using 266x880x8u tiles, offset -67', 'timings: rectify: 0.005202 disparity: 0.16351 borders: 0.005496 filter: 0.007601 fill: 0', '[CPU] estimating 737x901x160 disparity using 737x901x8u tiles, offset -27', 'timings: rectify: 0.018879 disparity: 0.563752 borders: 0.011694 filter: 0.020488 fill: 0', '[CPU] estimating 1002x1147x160 disparity using 1002x1147x8u tiles, offset 0', 'timings: rectify: 0.036691 disparity: 1.00058 borders: 0.022913 filter: 0.040641 fill: 0', '[CPU] estimating 915x939x128 disparity using 915x939x8u tiles, offset -10', 'timings: rectify: 0.018805 disparity: 0.604566 borders: 0.017119 filter: 0.0301 fill: 0', '[CPU] estimating 475x1193x96 disparity using 475x1193x8u tiles, offset -46', 'timings: rectify: 0.021801 disparity: 0.34363 borders: 0.010576 filter: 0.021848 fill: 0', '[CPU] estimating 527x2146x160 disparity using 527x1073x8u tiles, offset -15', 'timings: rectify: 0.027924 disparity: 0.929102 borders: 0.019137 filter: 0.041892 fill: 0', '[CPU] estimating 470x1151x224 disparity using 470x1151x8u tiles, offset 0', 'timings: rectify: 0.024129 disparity: 0.639625 borders: 0.007506 filter: 0.020864 fill: 0', '[CPU] estimating 417x3834x128 disparity using 417x959x8u tiles, offset -28', 'timings: rectify: 0.040733 disparity: 1.17343 borders: 0.026846 filter: 0.050141 fill: 1e-06', '[CPU] estimating 402x3589x128 disparity using 402x898x8u tiles, offset -1', 'timings: rectify: 0.038618 disparity: 1.02464 borders: 0.026356 filter: 0.046306 fill: 0', '[CPU] estimating 780x600x192 disparity using 780x600x8u tiles, offset -26', 'timings: rectify: 0.010699 disparity: 0.463694 borders: 0.006866 filter: 0.016727 fill: 0', '[CPU] estimating 677x1002x128 disparity using 677x1002x8u tiles, offset -66', 'timings: rectify: 0.015559 disparity: 0.476029 borders: 0.012522 filter: 0.023127 fill: 0', '[CPU] estimating 593x669x96 disparity using 593x669x8u tiles, offset -41', 'timings: rectify: 0.01475 disparity: 0.225129 borders: 0.006456 filter: 0.01318 fill: 0', '[CPU] estimating 882x570x96 disparity using 882x570x8u tiles, offset -12', 'timings: rectify: 0.011332 disparity: 0.273757 borders: 0.008171 filter: 0.016625 fill: 0', '[CPU] estimating 735x1014x96 disparity using 735x1014x8u tiles, offset -90', 'timings: rectify: 0.016976 disparity: 0.437446 borders: 0.011901 filter: 0.026327 fill: 1e-06', '[CPU] estimating 837x1256x128 disparity using 837x1256x8u tiles, offset -107', 'timings: rectify: 0.036309 disparity: 0.757353 borders: 0.021504 filter: 0.036984 fill: 0', '[CPU] estimating 655x962x224 disparity using 655x962x8u tiles, offset -222', 'timings: rectify: 0.020299 disparity: 0.746667 borders: 0.010433 filter: 0.027359 fill: 0', '[CPU] estimating 756x980x256 disparity using 756x980x8u tiles, offset -144', 'timings: rectify: 0.022237 disparity: 0.980179 borders: 0.01155 filter: 0.024722 fill: 0', '[CPU] estimating 843x1191x576 disparity using 843x1191x8u tiles, offset -405', 'timings: rectify: 0.037758 disparity: 2.93448 borders: 0.010002 filter: 0.036925 fill: 0', '[CPU] estimating 957x888x480 disparity using 957x888x8u tiles, offset -415', 'timings: rectify: 0.02929 disparity: 2.08816 borders: 0.007637 filter: 0.023282 fill: 0', '[CPU] estimating 872x1140x768 disparity using 872x1140x8u tiles, offset -607', 'timings: rectify: 0.030088 disparity: 3.80663 borders: 0.007511 filter: 0.028845 fill: 0', '[CPU] estimating 871x1124x672 disparity using 871x1124x8u tiles, offset -467', 'timings: rectify: 0.02186 disparity: 3.25771 borders: 0.009013 filter: 0.028579 fill: 0', '[CPU] estimating 901x910x224 disparity using 901x910x8u tiles, offset -214', 'timings: rectify: 0.027145 disparity: 0.985006 borders: 0.016632 filter: 0.032791 fill: 0', '[CPU] estimating 1136x835x640 disparity using 1136x835x8u tiles, offset -449', 'timings: rectify: 0.020817 disparity: 3.00869 borders: 0.009171 filter: 0.029062 fill: 0', '[CPU] estimating 891x1112x672 disparity using 891x1112x8u tiles, offset -547', 'timings: rectify: 0.032111 disparity: 3.28882 borders: 0.010409 filter: 0.030686 fill: 0', '[CPU] estimating 746x1029x448 disparity using 746x1029x8u tiles, offset -414', 'timings: rectify: 0.022697 disparity: 1.75178 borders: 0.008298 filter: 0.023055 fill: 0', '[CPU] estimating 748x1036x256 disparity using 748x1036x8u tiles, offset -101', 'timings: rectify: 0.030153 disparity: 1.04279 borders: 0.012425 filter: 0.03009 fill: 0', '[CPU] estimating 627x795x128 disparity using 627x795x8u tiles, offset -121', 'timings: rectify: 0.011474 disparity: 0.347597 borders: 0.006582 filter: 0.014223 fill: 0', '[CPU] estimating 717x950x224 disparity using 717x950x8u tiles, offset -87', 'timings: rectify: 0.015365 disparity: 0.801825 borders: 0.009791 filter: 0.022617 fill: 0', '[CPU] estimating 584x964x224 disparity using 584x964x8u tiles, offset -57', 'timings: rectify: 0.02235 disparity: 0.643454 borders: 0.010098 filter: 0.022278 fill: 0', '[CPU] estimating 1044x1440x128 disparity using 1044x1440x8u tiles, offset -71', 'timings: rectify: 0.03451 disparity: 1.02304 borders: 0.028808 filter: 0.046138 fill: 0', '[CPU] estimating 876x1300x128 disparity using 876x1300x8u tiles, offset -62', 'timings: rectify: 0.044065 disparity: 0.815107 borders: 0.022611 filter: 0.037963 fill: 0', '[CPU] estimating 967x1227x160 disparity using 967x1227x8u tiles, offset -22', 'timings: rectify: 0.027431 disparity: 0.97448 borders: 0.019036 filter: 0.04521 fill: 0', '[CPU] estimating 780x863x192 disparity using 780x863x8u tiles, offset -72', 'timings: rectify: 0.018489 disparity: 0.691512 borders: 0.011372 filter: 0.023613 fill: 0', '[CPU] estimating 588x1232x128 disparity using 588x1232x8u tiles, offset -56', 'timings: rectify: 0.027899 disparity: 0.52746 borders: 0.012246 filter: 0.024288 fill: 0', '[CPU] estimating 844x1104x160 disparity using 844x1104x8u tiles, offset -101', 'timings: rectify: 0.026616 disparity: 0.793702 borders: 0.013355 filter: 0.031107 fill: 0', '[CPU] estimating 507x1435x160 disparity using 507x1435x8u tiles, offset -67', 'timings: rectify: 0.026903 disparity: 0.60637 borders: 0.01414 filter: 0.026149 fill: 0', '[CPU] estimating 688x1218x128 disparity using 688x1218x8u tiles, offset -35', 'timings: rectify: 0.035171 disparity: 0.610928 borders: 0.01365 filter: 0.028072 fill: 0', '[CPU] estimating 647x925x128 disparity using 647x925x8u tiles, offset -63', 'timings: rectify: 0.014414 disparity: 0.41614 borders: 0.009775 filter: 0.0231 fill: 0', '[CPU] estimating 746x956x192 disparity using 746x956x8u tiles, offset -89', 'timings: rectify: 0.024145 disparity: 0.7262 borders: 0.011534 filter: 0.029656 fill: 0', '[CPU] estimating 594x730x128 disparity using 594x730x8u tiles, offset -67', 'timings: rectify: 0.010608 disparity: 0.306731 borders: 0.008249 filter: 0.01632 fill: 0', '[CPU] estimating 826x1255x160 disparity using 826x1255x8u tiles, offset -98', 'timings: rectify: 0.02328 disparity: 0.856709 borders: 0.014537 filter: 0.03612 fill: 0', '[CPU] estimating 656x1124x160 disparity using 656x1124x8u tiles, offset -22', 'timings: rectify: 0.022753 disparity: 0.666896 borders: 0.011659 filter: 0.024455 fill: 0', '[CPU] estimating 745x608x128 disparity using 745x608x8u tiles, offset -50', 'timings: rectify: 0.010453 disparity: 0.321692 borders: 0.007759 filter: 0.013703 fill: 0', '[CPU] estimating 594x669x96 disparity using 594x669x8u tiles, offset -34', 'timings: rectify: 0.009224 disparity: 0.209719 borders: 0.007563 filter: 0.014594 fill: 0', '[CPU] estimating 538x472x96 disparity using 538x472x8u tiles, offset -42', 'timings: rectify: 0.005955 disparity: 0.137506 borders: 0.006079 filter: 0.009195 fill: 0', '[CPU] estimating 695x1098x128 disparity using 695x1098x8u tiles, offset -37', 'timings: rectify: 0.017745 disparity: 0.524702 borders: 0.01291 filter: 0.028408 fill: 0', '[CPU] estimating 730x1104x192 disparity using 730x1104x8u tiles, offset -83', 'timings: rectify: 0.019195 disparity: 0.793864 borders: 0.016793 filter: 0.03336 fill: 0', '[CPU] estimating 787x1092x192 disparity using 787x1092x8u tiles, offset -86', 'timings: rectify: 0.019936 disparity: 0.850384 borders: 0.013944 filter: 0.031555 fill: 0', '[CPU] estimating 777x974x160 disparity using 777x974x8u tiles, offset -69', 'timings: rectify: 0.017274 disparity: 0.625233 borders: 0.013178 filter: 0.031273 fill: 0', '[CPU] estimating 845x1277x160 disparity using 845x1277x8u tiles, offset -94', 'timings: rectify: 0.024626 disparity: 0.918702 borders: 0.018169 filter: 0.042816 fill: 0', '[CPU] estimating 887x1212x160 disparity using 887x1212x8u tiles, offset -129', 'timings: rectify: 0.024137 disparity: 0.893368 borders: 0.015342 filter: 0.039822 fill: 0', '[CPU] estimating 841x1162x160 disparity using 841x1162x8u tiles, offset 0', 'timings: rectify: 0.023042 disparity: 0.811141 borders: 0.013571 filter: 0.03893 fill: 0', '[CPU] estimating 781x949x160 disparity using 781x949x8u tiles, offset -13', 'timings: rectify: 0.027305 disparity: 0.62889 borders: 0.011083 filter: 0.023767 fill: 0', '[CPU] estimating 909x795x96 disparity using 909x795x8u tiles, offset -4', 'timings: rectify: 0.028915 disparity: 0.412818 borders: 0.014486 filter: 0.024931 fill: 0', '[CPU] estimating 958x842x160 disparity using 958x842x8u tiles, offset -138', 'timings: rectify: 0.01837 disparity: 0.665736 borders: 0.016418 filter: 0.030353 fill: 1e-06', '[CPU] estimating 1085x972x160 disparity using 1085x972x8u tiles, offset -70', 'timings: rectify: 0.040794 disparity: 0.886734 borders: 0.023013 filter: 0.035941 fill: 0', '[CPU] estimating 972x1020x128 disparity using 972x1020x8u tiles, offset -128', 'timings: rectify: 0.038325 disparity: 0.698789 borders: 0.022628 filter: 0.035175 fill: 0', '[CPU] estimating 1123x850x160 disparity using 1123x850x8u tiles, offset -160', 'timings: rectify: 0.021479 disparity: 0.822698 borders: 0.018634 filter: 0.037439 fill: 0', '[CPU] estimating 840x1059x160 disparity using 840x1059x8u tiles, offset -54', 'timings: rectify: 0.032078 disparity: 0.781658 borders: 0.013417 filter: 0.026801 fill: 0', '[CPU] estimating 879x1028x160 disparity using 879x1028x8u tiles, offset -53', 'timings: rectify: 0.032562 disparity: 0.773902 borders: 0.013071 filter: 0.031292 fill: 0', '[CPU] estimating 552x4332x160 disparity using 552x1083x8u tiles, offset -51', 'timings: rectify: 0.063647 disparity: 2.06784 borders: 0.044231 filter: 0.076363 fill: 0', '[CPU] estimating 617x4507x160 disparity using 617x1127x8u tiles, offset -11', 'timings: rectify: 0.097856 disparity: 2.45019 borders: 0.046672 filter: 0.08412 fill: 0', '[CPU] estimating 420x3532x128 disparity using 420x1178x8u tiles, offset -14', 'timings: rectify: 0.052115 disparity: 1.08299 borders: 0.026308 filter: 0.050396 fill: 0', '[CPU] estimating 537x3935x160 disparity using 537x984x8u tiles, offset -18', 'timings: rectify: 0.051964 disparity: 1.79944 borders: 0.037942 filter: 0.076157 fill: 0', '[CPU] estimating 446x4223x128 disparity using 446x1056x8u tiles, offset -36', 'timings: rectify: 0.047902 disparity: 1.35138 borders: 0.029469 filter: 0.0632 fill: 0', '[CPU] estimating 510x2292x160 disparity using 510x1146x8u tiles, offset -20', 'timings: rectify: 0.029356 disparity: 0.971162 borders: 0.018556 filter: 0.039032 fill: 0', '[CPU] estimating 387x1359x128 disparity using 387x1359x8u tiles, offset -17', 'timings: rectify: 0.019561 disparity: 0.379684 borders: 0.008796 filter: 0.018004 fill: 0', '[CPU] estimating 469x2084x160 disparity using 469x1042x8u tiles, offset -43', 'timings: rectify: 0.025734 disparity: 0.818861 borders: 0.01393 filter: 0.031021 fill: 0', '[CPU] estimating 484x1351x224 disparity using 484x1351x8u tiles, offset -98', 'timings: rectify: 0.02867 disparity: 0.794071 borders: 0.008114 filter: 0.01866 fill: 0', '[CPU] estimating 483x4071x128 disparity using 483x1018x8u tiles, offset -30', 'timings: rectify: 0.049431 disparity: 1.42383 borders: 0.039686 filter: 0.070538 fill: 0', '[CPU] estimating 720x5165x128 disparity using 720x1033x8u tiles, offset -10', 'timings: rectify: 0.089742 disparity: 2.59635 borders: 0.073106 filter: 0.11386 fill: 0', '[CPU] estimating 545x977x128 disparity using 545x977x8u tiles, offset -3', 'timings: rectify: 0.020399 disparity: 0.387548 borders: 0.009277 filter: 0.017074 fill: 0', '[CPU] estimating 470x1151x224 disparity using 470x1151x8u tiles, offset -168', 'timings: rectify: 0.012185 disparity: 0.626671 borders: 0.00629 filter: 0.017008 fill: 0', '[CPU] estimating 505x1001x256 disparity using 505x1001x8u tiles, offset -205', 'timings: rectify: 0.017943 disparity: 0.655905 borders: 0.004088 filter: 0.011501 fill: 0', '[CPU] estimating 539x1939x160 disparity using 539x970x8u tiles, offset -23', 'timings: rectify: 0.042737 disparity: 0.944778 borders: 0.015182 filter: 0.035654 fill: 0', '[CPU] estimating 417x4069x128 disparity using 417x1018x8u tiles, offset -32', 'timings: rectify: 0.06388 disparity: 1.22661 borders: 0.028857 filter: 0.060195 fill: 0', '[CPU] estimating 462x3966x128 disparity using 462x992x8u tiles, offset -16', 'timings: rectify: 0.06151 disparity: 1.31956 borders: 0.030239 filter: 0.06062 fill: 0', '[CPU] estimating 487x4256x128 disparity using 487x1064x8u tiles, offset -9', 'timings: rectify: 0.075083 disparity: 1.52314 borders: 0.033099 filter: 0.065511 fill: 0', '[CPU] estimating 482x3859x128 disparity using 482x965x8u tiles, offset -26', 'timings: rectify: 0.046669 disparity: 1.34026 borders: 0.034909 filter: 0.063207 fill: 0', '[CPU] estimating 989x925x128 disparity using 989x925x8u tiles, offset 0', 'timings: rectify: 0.021645 disparity: 0.630752 borders: 0.020258 filter: 0.035163 fill: 0', '[CPU] estimating 651x797x128 disparity using 651x797x8u tiles, offset -13', 'timings: rectify: 0.019999 disparity: 0.380827 borders: 0.010311 filter: 0.016966 fill: 1e-06', '[CPU] estimating 585x795x128 disparity using 585x795x8u tiles, offset -4', 'timings: rectify: 0.019595 disparity: 0.336232 borders: 0.009731 filter: 0.015793 fill: 0', '[CPU] estimating 904x722x128 disparity using 904x722x8u tiles, offset -78', 'timings: rectify: 0.021347 disparity: 0.474501 borders: 0.011673 filter: 0.026696 fill: 0', '[CPU] estimating 791x834x192 disparity using 791x834x8u tiles, offset -80', 'timings: rectify: 0.0229 disparity: 0.67381 borders: 0.008542 filter: 0.024418 fill: 1e-06', '[CPU] estimating 920x1134x192 disparity using 920x1134x8u tiles, offset -29', 'timings: rectify: 0.024089 disparity: 1.07315 borders: 0.015867 filter: 0.033553 fill: 1e-06', '[CPU] estimating 887x1212x160 disparity using 887x1212x8u tiles, offset -26', 'timings: rectify: 0.031159 disparity: 0.941297 borders: 0.015178 filter: 0.035172 fill: 0', '[CPU] estimating 795x875x160 disparity using 795x875x8u tiles, offset -48', 'timings: rectify: 0.031585 disparity: 0.630516 borders: 0.010787 filter: 0.033735 fill: 1e-06', '[CPU] estimating 831x881x192 disparity using 831x881x8u tiles, offset -59', 'timings: rectify: 0.027152 disparity: 0.765802 borders: 0.010396 filter: 0.023551 fill: 0', '[CPU] estimating 698x872x160 disparity using 698x872x8u tiles, offset -130', 'timings: rectify: 0.027264 disparity: 0.504 borders: 0.01018 filter: 0.025053 fill: 0', '[CPU] estimating 740x826x128 disparity using 740x826x8u tiles, offset -72', 'timings: rectify: 0.017977 disparity: 0.427169 borders: 0.010954 filter: 0.023498 fill: 0', '[CPU] estimating 604x903x160 disparity using 604x903x8u tiles, offset 0', 'timings: rectify: 0.017707 disparity: 0.461923 borders: 0.009193 filter: 0.02018 fill: 0', '[CPU] estimating 754x777x160 disparity using 754x777x8u tiles, offset -7', 'timings: rectify: 0.012991 disparity: 0.48548 borders: 0.010239 filter: 0.021232 fill: 0', '[CPU] estimating 1045x1076x160 disparity using 1045x1076x8u tiles, offset 0', 'timings: rectify: 0.024937 disparity: 0.932133 borders: 0.021673 filter: 0.042804 fill: 0', '[CPU] estimating 821x933x128 disparity using 821x933x8u tiles, offset 0', 'timings: rectify: 0.024484 disparity: 0.543719 borders: 0.022011 filter: 0.032107 fill: 0', '[CPU] estimating 1022x3850x128 disparity using 1022x963x8u tiles, offset -17', 'timings: rectify: 0.126895 disparity: 2.9538 borders: 0.073318 filter: 0.115327 fill: 0', '[CPU] estimating 1035x1378x128 disparity using 1035x1378x8u tiles, offset 0', 'timings: rectify: 0.032236 disparity: 1.0005 borders: 0.029934 filter: 0.048451 fill: 0', '[CPU] estimating 907x1047x160 disparity using 907x1047x8u tiles, offset -1', 'timings: rectify: 0.022017 disparity: 0.80485 borders: 0.019367 filter: 0.035832 fill: 0', '[CPU] estimating 687x1410x128 disparity using 687x1410x8u tiles, offset -21', 'timings: rectify: 0.022444 disparity: 0.668424 borders: 0.020664 filter: 0.037455 fill: 0', '[CPU] estimating 786x1032x128 disparity using 786x1032x8u tiles, offset 0', 'timings: rectify: 0.018426 disparity: 0.564464 borders: 0.015196 filter: 0.026705 fill: 0', '[CPU] estimating 949x938x128 disparity using 949x938x8u tiles, offset 0', 'timings: rectify: 0.019608 disparity: 0.6154 borders: 0.016426 filter: 0.029233 fill: 0', '[CPU] estimating 687x844x128 disparity using 687x844x8u tiles, offset 0', 'timings: rectify: 0.013107 disparity: 0.413999 borders: 0.011805 filter: 0.02038 fill: 0', '[CPU] estimating 738x901x160 disparity using 738x901x8u tiles, offset -11', 'timings: rectify: 0.020456 disparity: 0.549289 borders: 0.010341 filter: 0.024274 fill: 0', '[CPU] estimating 716x834x128 disparity using 716x834x8u tiles, offset -28', 'timings: rectify: 0.013366 disparity: 0.424846 borders: 0.011695 filter: 0.02582 fill: 0', '[CPU] estimating 983x1233x128 disparity using 983x1233x8u tiles, offset -36', 'timings: rectify: 0.027899 disparity: 0.838672 borders: 0.028038 filter: 0.0431 fill: 1e-06', '[CPU] estimating 809x1006x160 disparity using 809x1006x8u tiles, offset -20', 'timings: rectify: 0.018871 disparity: 0.718837 borders: 0.015225 filter: 0.033651 fill: 0', '[CPU] estimating 723x869x160 disparity using 723x869x8u tiles, offset -63', 'timings: rectify: 0.026368 disparity: 0.539848 borders: 0.012909 filter: 0.023966 fill: 0', '[CPU] estimating 348x723x160 disparity using 348x723x8u tiles, offset -40', 'timings: rectify: 0.009708 disparity: 0.223571 borders: 0.007218 filter: 0.010757 fill: 0', '[CPU] estimating 654x779x160 disparity using 654x779x8u tiles, offset -45', 'timings: rectify: 0.011275 disparity: 0.429913 borders: 0.008518 filter: 0.017839 fill: 0', '[CPU] estimating 559x3454x160 disparity using 559x1152x8u tiles, offset -30', 'timings: rectify: 0.05631 disparity: 1.68064 borders: 0.035738 filter: 0.063688 fill: 0', '[CPU] estimating 721x5165x128 disparity using 721x1033x8u tiles, offset -10', 'timings: rectify: 0.123521 disparity: 2.62125 borders: 0.070232 filter: 0.117881 fill: 0', '[CPU] estimating 710x2368x160 disparity using 710x1184x8u tiles, offset -19', 'timings: rectify: 0.057604 disparity: 1.34686 borders: 0.025598 filter: 0.05181 fill: 0', '[CPU] estimating 710x2653x160 disparity using 710x885x8u tiles, offset 0', 'timings: rectify: 0.067955 disparity: 1.60335 borders: 0.031076 filter: 0.056005 fill: 0', '[CPU] estimating 552x1127x128 disparity using 552x1127x8u tiles, offset -74', 'timings: rectify: 0.01435 disparity: 0.440871 borders: 0.011959 filter: 0.021887 fill: 0', '[CPU] estimating 869x935x160 disparity using 869x935x8u tiles, offset -105', 'timings: rectify: 0.029459 disparity: 0.68436 borders: 0.014487 filter: 0.026128 fill: 0', '[CPU] estimating 885x900x384 disparity using 885x900x8u tiles, offset -29', 'timings: rectify: 0.027394 disparity: 1.57638 borders: 0.011838 filter: 0.027295 fill: 0', '[CPU] estimating 892x736x384 disparity using 892x736x8u tiles, offset -26', 'timings: rectify: 0.025423 disparity: 1.32817 borders: 0.00903 filter: 0.020577 fill: 0', '[CPU] estimating 1136x835x640 disparity using 1136x835x8u tiles, offset -83', 'timings: rectify: 0.022426 disparity: 3.00079 borders: 0.012275 filter: 0.032607 fill: 0', '[CPU] estimating 768x942x160 disparity using 768x942x8u tiles, offset -67', 'timings: rectify: 0.022968 disparity: 0.590567 borders: 0.011411 filter: 0.022587 fill: 0', '[CPU] estimating 832x1221x160 disparity using 832x1221x8u tiles, offset -49', 'timings: rectify: 0.034451 disparity: 0.838357 borders: 0.018223 filter: 0.035335 fill: 0', '[CPU] estimating 657x1124x160 disparity using 657x1124x8u tiles, offset -68', 'timings: rectify: 0.016743 disparity: 0.656159 borders: 0.013491 filter: 0.029495 fill: 0', '[CPU] estimating 652x910x160 disparity using 652x910x8u tiles, offset -103', 'timings: rectify: 0.013555 disparity: 0.521253 borders: 0.009158 filter: 0.019806 fill: 0', '[CPU] estimating 840x1095x128 disparity using 840x1095x8u tiles, offset -7', 'timings: rectify: 0.031671 disparity: 0.635971 borders: 0.01379 filter: 0.027979 fill: 0', '[CPU] estimating 909x1002x160 disparity using 909x1002x8u tiles, offset -112', 'timings: rectify: 0.021123 disparity: 0.774612 borders: 0.016105 filter: 0.032954 fill: 0', '[CPU] estimating 907x913x128 disparity using 907x913x8u tiles, offset -71', 'timings: rectify: 0.018741 disparity: 0.564878 borders: 0.014641 filter: 0.0263 fill: 0', '[CPU] estimating 401x1315x192 disparity using 401x1315x8u tiles, offset -87', 'timings: rectify: 0.017058 disparity: 0.522403 borders: 0.011078 filter: 0.022506 fill: 0', '[CPU] estimating 691x1191x192 disparity using 691x1191x8u tiles, offset -7', 'timings: rectify: 0.033839 disparity: 0.874459 borders: 0.011883 filter: 0.027431 fill: 0', '[CPU] estimating 1091x1582x128 disparity using 1091x791x8u tiles, offset -2', 'timings: rectify: 0.040659 disparity: 1.21235 borders: 0.036573 filter: 0.059002 fill: 0', '[CPU] estimating 1012x1768x160 disparity using 1012x884x8u tiles, offset -78', 'timings: rectify: 0.059807 disparity: 1.53512 borders: 0.034988 filter: 0.059095 fill: 0', '[CPU] estimating 619x1104x128 disparity using 619x1104x8u tiles, offset 0', 'timings: rectify: 0.015853 disparity: 0.50018 borders: 0.013645 filter: 0.024749 fill: 0', '[CPU] estimating 353x1034x160 disparity using 353x1034x8u tiles, offset -48', 'timings: rectify: 0.014849 disparity: 0.312487 borders: 0.010733 filter: 0.014509 fill: 0', '[CPU] estimating 458x921x160 disparity using 458x921x8u tiles, offset -66', 'timings: rectify: 0.01533 disparity: 0.344243 borders: 0.007411 filter: 0.013531 fill: 0', '[CPU] estimating 484x863x128 disparity using 484x863x8u tiles, offset -9', 'timings: rectify: 0.014523 disparity: 0.302398 borders: 0.008019 filter: 0.011574 fill: 0', '[CPU] estimating 812x2065x128 disparity using 812x1033x8u tiles, offset -84', 'timings: rectify: 0.039811 disparity: 1.25466 borders: 0.03377 filter: 0.050483 fill: 0', '[CPU] estimating 1023x3850x128 disparity using 1023x963x8u tiles, offset -17', 'timings: rectify: 0.106903 disparity: 2.90973 borders: 0.0807 filter: 0.122046 fill: 0', '[CPU] estimating 549x1203x160 disparity using 549x1203x8u tiles, offset -16', 'timings: rectify: 0.015551 disparity: 0.55751 borders: 0.009876 filter: 0.021063 fill: 0', '[CPU] estimating 189x1031x128 disparity using 189x1031x8u tiles, offset -68', 'timings: rectify: 0.004402 disparity: 0.111694 borders: 0.004664 filter: 0.00634 fill: 0', '[CPU] estimating 390x884x128 disparity using 390x884x8u tiles, offset -38', 'timings: rectify: 0.007941 disparity: 0.23208 borders: 0.005075 filter: 0.009561 fill: 0', '[CPU] estimating 721x1148x160 disparity using 721x1148x8u tiles, offset -3', 'timings: rectify: 0.018963 disparity: 0.685541 borders: 0.015618 filter: 0.027175 fill: 0', '[CPU] estimating 571x1243x160 disparity using 571x1243x8u tiles, offset -48', 'timings: rectify: 0.018384 disparity: 0.617621 borders: 0.01291 filter: 0.0294 fill: 1e-06', '[CPU] estimating 812x1098x160 disparity using 812x1098x8u tiles, offset 0', 'timings: rectify: 0.020042 disparity: 0.744702 borders: 0.013847 filter: 0.031237 fill: 0', '[CPU] estimating 272x995x192 disparity using 272x995x8u tiles, offset -79', 'timings: rectify: 0.011014 disparity: 0.267094 borders: 0.006965 filter: 0.009768 fill: 0', '[CPU] estimating 599x1114x160 disparity using 599x1114x8u tiles, offset -29', 'timings: rectify: 0.015088 disparity: 0.569851 borders: 0.008758 filter: 0.021754 fill: 0', '[CPU] estimating 402x3904x128 disparity using 402x976x8u tiles, offset 0', 'timings: rectify: 0.062022 disparity: 1.14353 borders: 0.019835 filter: 0.043786 fill: 0', '[CPU] estimating 446x4223x128 disparity using 446x1056x8u tiles, offset -36', 'timings: rectify: 0.070643 disparity: 1.36014 borders: 0.026738 filter: 0.058614 fill: 0', '[CPU] estimating 469x2207x160 disparity using 469x1104x8u tiles, offset -16', 'timings: rectify: 0.036108 disparity: 0.922365 borders: 0.010909 filter: 0.029007 fill: 0', '[CPU] estimating 469x2270x160 disparity using 469x1135x8u tiles, offset -5', 'timings: rectify: 0.026748 disparity: 0.879305 borders: 0.012228 filter: 0.031642 fill: 0', '[CPU] estimating 543x1597x160 disparity using 543x799x8u tiles, offset -39', 'timings: rectify: 0.027273 disparity: 0.75615 borders: 0.011173 filter: 0.027879 fill: 0', '[CPU] estimating 808x1193x416 disparity using 808x1193x8u tiles, offset -16', 'timings: rectify: 0.02068 disparity: 2.08378 borders: 0.011477 filter: 0.036976 fill: 0', '[CPU] estimating 613x1181x352 disparity using 613x1181x8u tiles, offset -27', 'timings: rectify: 0.024662 disparity: 1.33815 borders: 0.009348 filter: 0.023804 fill: 0', '[CPU] estimating 659x1036x352 disparity using 659x1036x8u tiles, offset -39', 'timings: rectify: 0.027437 disparity: 1.27923 borders: 0.006513 filter: 0.020066 fill: 1e-06', '[CPU] estimating 872x1140x768 disparity using 872x1140x8u tiles, offset -99', 'timings: rectify: 0.021122 disparity: 3.81595 borders: 0.011625 filter: 0.033534 fill: 0', '[CPU] estimating 593x1280x160 disparity using 593x1280x8u tiles, offset -23', 'timings: rectify: 0.024702 disparity: 0.660109 borders: 0.010129 filter: 0.025719 fill: 0', '[CPU] estimating 850x1248x416 disparity using 850x1248x8u tiles, offset -23', 'timings: rectify: 0.039724 disparity: 2.31095 borders: 0.012542 filter: 0.035078 fill: 0', '[CPU] estimating 507x1435x160 disparity using 507x1435x8u tiles, offset -53', 'timings: rectify: 0.016999 disparity: 0.623824 borders: 0.012122 filter: 0.022989 fill: 0', '[CPU] estimating 510x1337x160 disparity using 510x1337x8u tiles, offset -43', 'timings: rectify: 0.026756 disparity: 0.596121 borders: 0.009814 filter: 0.022671 fill: 0', '[CPU] estimating 891x1141x448 disparity using 891x1141x8u tiles, offset -42', 'timings: rectify: 0.022105 disparity: 2.33042 borders: 0.014479 filter: 0.036801 fill: 0', '[CPU] estimating 853x1294x416 disparity using 853x1294x8u tiles, offset -31', 'timings: rectify: 0.024208 disparity: 2.34086 borders: 0.011137 filter: 0.039558 fill: 0', '[CPU] estimating 864x821x448 disparity using 864x821x8u tiles, offset -23', 'timings: rectify: 0.01605 disparity: 1.60527 borders: 0.006203 filter: 0.023352 fill: 0', '[CPU] estimating 594x1029x160 disparity using 594x1029x8u tiles, offset -77', 'timings: rectify: 0.019726 disparity: 0.530386 borders: 0.008776 filter: 0.020085 fill: 0', '[CPU] estimating 939x1247x384 disparity using 939x1247x8u tiles, offset -312', 'timings: rectify: 0.041473 disparity: 2.38683 borders: 0.010999 filter: 0.030648 fill: 0', '[CPU] estimating 850x1248x416 disparity using 850x1248x8u tiles, offset -330', 'timings: rectify: 0.024502 disparity: 2.22677 borders: 0.010591 filter: 0.035075 fill: 0', '[CPU] estimating 538x1275x128 disparity using 538x1275x8u tiles, offset -76', 'timings: rectify: 0.028644 disparity: 0.504475 borders: 0.012796 filter: 0.026752 fill: 0', '[CPU] estimating 563x1378x128 disparity using 563x1378x8u tiles, offset -43', 'timings: rectify: 0.017856 disparity: 0.546347 borders: 0.012565 filter: 0.023769 fill: 0', '[CPU] estimating 643x1168x192 disparity using 643x1168x8u tiles, offset -120', 'timings: rectify: 0.017491 disparity: 0.752296 borders: 0.0112 filter: 0.024095 fill: 0', '[CPU] estimating 534x1157x96 disparity using 534x1157x8u tiles, offset -25', 'timings: rectify: 0.02919 disparity: 0.354403 borders: 0.011734 filter: 0.023632 fill: 0', '[CPU] estimating 901x984x224 disparity using 901x984x8u tiles, offset -87', 'timings: rectify: 0.031204 disparity: 1.03254 borders: 0.011902 filter: 0.031465 fill: 0', '[CPU] estimating 832x1221x160 disparity using 832x1221x8u tiles, offset -101', 'timings: rectify: 0.023535 disparity: 0.886803 borders: 0.014665 filter: 0.036748 fill: 0', '[CPU] estimating 683x986x160 disparity using 683x986x8u tiles, offset -64', 'timings: rectify: 0.01547 disparity: 0.572083 borders: 0.010012 filter: 0.018593 fill: 0', '[CPU] estimating 677x1002x128 disparity using 677x1002x8u tiles, offset -61', 'timings: rectify: 0.026125 disparity: 0.503272 borders: 0.012071 filter: 0.025771 fill: 0', '[CPU] estimating 504x1076x96 disparity using 504x1076x8u tiles, offset -45', 'timings: rectify: 0.012436 disparity: 0.305017 borders: 0.008977 filter: 0.017273 fill: 0', '[CPU] estimating 593x1325x128 disparity using 593x1325x8u tiles, offset -85', 'timings: rectify: 0.018499 disparity: 0.558219 borders: 0.013699 filter: 0.024565 fill: 0', '[CPU] estimating 915x1139x160 disparity using 915x1139x8u tiles, offset -110', 'timings: rectify: 0.038078 disparity: 0.868068 borders: 0.017617 filter: 0.033001 fill: 0', '[CPU] estimating 919x1134x192 disparity using 919x1134x8u tiles, offset -92', 'timings: rectify: 0.023809 disparity: 1.03826 borders: 0.013108 filter: 0.033477 fill: 0', '[CPU] estimating 841x1299x160 disparity using 841x1299x8u tiles, offset -98', 'timings: rectify: 0.02516 disparity: 0.919108 borders: 0.017523 filter: 0.03619 fill: 0', '[CPU] estimating 832x1221x160 disparity using 832x1221x8u tiles, offset -106', 'timings: rectify: 0.023346 disparity: 0.841982 borders: 0.016872 filter: 0.035371 fill: 0', '[CPU] estimating 1022x961x160 disparity using 1022x961x8u tiles, offset -58', 'timings: rectify: 0.036483 disparity: 0.899616 borders: 0.015473 filter: 0.030051 fill: 0', '[CPU] estimating 996x1213x96 disparity using 996x1213x8u tiles, offset -96', 'timings: rectify: 0.027845 disparity: 0.673592 borders: 0.0215 filter: 0.037983 fill: 0', '[CPU] estimating 1084x972x160 disparity using 1084x972x8u tiles, offset 0', 'timings: rectify: 0.02313 disparity: 0.926093 borders: 0.022441 filter: 0.036297 fill: 1e-06', '[CPU] estimating 990x987x128 disparity using 990x987x8u tiles, offset -9', 'timings: rectify: 0.030669 disparity: 0.723634 borders: 0.020216 filter: 0.041902 fill: 0', '[CPU] estimating 1020x1127x96 disparity using 1020x1127x8u tiles, offset -96', 'timings: rectify: 0.040047 disparity: 0.637516 borders: 0.021053 filter: 0.03947 fill: 0', '[CPU] estimating 922x1053x192 disparity using 922x1053x8u tiles, offset -191', 'timings: rectify: 0.036458 disparity: 0.985294 borders: 0.012923 filter: 0.032451 fill: 0', '[CPU] estimating 922x1052x160 disparity using 922x1052x8u tiles, offset -159', 'timings: rectify: 0.036007 disparity: 0.844223 borders: 0.015379 filter: 0.032023 fill: 0', '[CPU] estimating 712x629x256 disparity using 712x629x8u tiles, offset 0', 'timings: rectify: 0.0152 disparity: 0.608121 borders: 0.006383 filter: 0.016855 fill: 0', '[CPU] estimating 645x1071x160 disparity using 645x1071x8u tiles, offset -155', 'timings: rectify: 0.028065 disparity: 0.577806 borders: 0.010329 filter: 0.021752 fill: 0', '[CPU] estimating 796x1019x192 disparity using 796x1019x8u tiles, offset -95', 'timings: rectify: 0.018523 disparity: 0.826717 borders: 0.011245 filter: 0.030081 fill: 0', '[CPU] estimating 593x1280x160 disparity using 593x1280x8u tiles, offset -49', 'timings: rectify: 0.017719 disparity: 0.646487 borders: 0.012095 filter: 0.025431 fill: 0', '[CPU] estimating 542x1154x128 disparity using 542x1154x8u tiles, offset -45', 'timings: rectify: 0.014429 disparity: 0.460934 borders: 0.009932 filter: 0.020954 fill: 0', '[CPU] estimating 902x1091x224 disparity using 902x1091x8u tiles, offset -123', 'timings: rectify: 0.035307 disparity: 1.1533 borders: 0.01541 filter: 0.036307 fill: 0', '[CPU] estimating 768x942x160 disparity using 768x942x8u tiles, offset -90', 'timings: rectify: 0.024681 disparity: 0.624267 borders: 0.011506 filter: 0.026389 fill: 0', '[CPU] estimating 568x466x128 disparity using 568x466x8u tiles, offset -46', 'timings: rectify: 0.008987 disparity: 0.184651 borders: 0.005305 filter: 0.007693 fill: 0', '[CPU] estimating 595x1230x128 disparity using 595x1230x8u tiles, offset -52', 'timings: rectify: 0.027589 disparity: 0.520541 borders: 0.01207 filter: 0.022822 fill: 0', '[CPU] estimating 734x771x256 disparity using 734x771x8u tiles, offset -52', 'timings: rectify: 0.012907 disparity: 0.726252 borders: 0.009018 filter: 0.021575 fill: 0', '[CPU] estimating 814x794x192 disparity using 814x794x8u tiles, offset -129', 'timings: rectify: 0.018423 disparity: 0.636674 borders: 0.009402 filter: 0.025067 fill: 0', '[CPU] estimating 791x834x192 disparity using 791x834x8u tiles, offset -132', 'timings: rectify: 0.014952 disparity: 0.64301 borders: 0.012924 filter: 0.026212 fill: 0', '[CPU] estimating 681x1011x128 disparity using 681x1011x8u tiles, offset -54', 'timings: rectify: 0.021781 disparity: 0.49903 borders: 0.011185 filter: 0.025166 fill: 0', '[CPU] estimating 570x880x128 disparity using 570x880x8u tiles, offset -66', 'timings: rectify: 0.011605 disparity: 0.361263 borders: 0.009608 filter: 0.018535 fill: 0', '[CPU] estimating 681x780x160 disparity using 681x780x8u tiles, offset -113', 'timings: rectify: 0.016496 disparity: 0.452222 borders: 0.008854 filter: 0.016041 fill: 0', '[CPU] estimating 996x1213x96 disparity using 996x1213x8u tiles, offset -60', 'timings: rectify: 0.033245 disparity: 0.702454 borders: 0.024414 filter: 0.041858 fill: 1e-06', '[CPU] estimating 958x842x160 disparity using 958x842x8u tiles, offset -59', 'timings: rectify: 0.029132 disparity: 0.695655 borders: 0.01615 filter: 0.034057 fill: 0', '[CPU] estimating 1155x1107x160 disparity using 1155x1107x8u tiles, offset -72', 'timings: rectify: 0.037314 disparity: 1.10794 borders: 0.02585 filter: 0.044223 fill: 0', '[CPU] estimating 1042x960x96 disparity using 1042x960x8u tiles, offset 0', 'timings: rectify: 0.024871 disparity: 0.59698 borders: 0.021815 filter: 0.037301 fill: 0', '[CPU] estimating 1096x885x224 disparity using 1096x885x8u tiles, offset -157', 'timings: rectify: 0.027646 disparity: 1.12762 borders: 0.015936 filter: 0.03564 fill: 0', '[CPU] estimating 1052x812x192 disparity using 1052x812x8u tiles, offset -105', 'timings: rectify: 0.031257 disparity: 0.875199 borders: 0.016154 filter: 0.031795 fill: 0', '[CPU] estimating 308x288x96 disparity using 308x288x8u tiles, offset -46', 'timings: rectify: 0.004922 disparity: 0.04423 borders: 0.001917 filter: 0.002837 fill: 0', '[CPU] estimating 682x1077x128 disparity using 682x1077x8u tiles, offset -69', 'timings: rectify: 0.028265 disparity: 0.54486 borders: 0.010682 filter: 0.025212 fill: 0', '[CPU] estimating 827x989x160 disparity using 827x989x8u tiles, offset -103', 'timings: rectify: 0.029469 disparity: 0.720411 borders: 0.011124 filter: 0.03066 fill: 0', '[CPU] estimating 544x1597x160 disparity using 544x799x8u tiles, offset -60', 'timings: rectify: 0.031989 disparity: 0.743198 borders: 0.011312 filter: 0.024038 fill: 0', '[CPU] estimating 534x1313x128 disparity using 534x1313x8u tiles, offset -74', 'timings: rectify: 0.016711 disparity: 0.481923 borders: 0.012393 filter: 0.028494 fill: 0', '[CPU] estimating 674x998x128 disparity using 674x998x8u tiles, offset -65', 'timings: rectify: 0.01647 disparity: 0.47945 borders: 0.011024 filter: 0.02272 fill: 0', '[CPU] estimating 656x1260x160 disparity using 656x1260x8u tiles, offset -81', 'timings: rectify: 0.030666 disparity: 0.711384 borders: 0.014025 filter: 0.026767 fill: 0', '[CPU] estimating 569x552x128 disparity using 569x552x8u tiles, offset -70', 'timings: rectify: 0.011897 disparity: 0.235222 borders: 0.006058 filter: 0.013656 fill: 0', '[CPU] estimating 721x708x128 disparity using 721x708x8u tiles, offset -105', 'timings: rectify: 0.017058 disparity: 0.376172 borders: 0.008228 filter: 0.018609 fill: 0', '[CPU] estimating 551x1127x128 disparity using 551x1127x8u tiles, offset -64', 'timings: rectify: 0.026582 disparity: 0.42386 borders: 0.011387 filter: 0.018913 fill: 0', '[CPU] estimating 795x994x224 disparity using 795x994x8u tiles, offset -153', 'timings: rectify: 0.017987 disparity: 0.911992 borders: 0.011492 filter: 0.028743 fill: 0', '[CPU] estimating 781x600x192 disparity using 781x600x8u tiles, offset -118', 'timings: rectify: 0.021226 disparity: 0.490866 borders: 0.006602 filter: 0.016163 fill: 0', '[CPU] estimating 470x473x96 disparity using 470x473x8u tiles, offset -38', 'timings: rectify: 0.008883 disparity: 0.117117 borders: 0.006352 filter: 0.007065 fill: 0', '[CPU] estimating 489x1058x128 disparity using 489x1058x8u tiles, offset -50', 'timings: rectify: 0.017485 disparity: 0.379851 borders: 0.009316 filter: 0.018386 fill: 1e-06', '[CPU] estimating 446x330x96 disparity using 446x330x8u tiles, offset -33', 'timings: rectify: 0.004987 disparity: 0.061006 borders: 0.003371 filter: 0.004966 fill: 0', '[CPU] estimating 316x213x96 disparity using 316x213x8u tiles, offset -47', 'timings: rectify: 0.002198 disparity: 0.026934 borders: 0.00149 filter: 0.002236 fill: 0', '[CPU] estimating 841x998x128 disparity using 841x998x8u tiles, offset -80', 'timings: rectify: 0.01876 disparity: 0.610162 borders: 0.014765 filter: 0.029715 fill: 0', '[CPU] estimating 905x722x128 disparity using 905x722x8u tiles, offset -105', 'timings: rectify: 0.021618 disparity: 0.488407 borders: 0.011492 filter: 0.023291 fill: 0', '[CPU] estimating 736x886x160 disparity using 736x886x8u tiles, offset -115', 'timings: rectify: 0.015107 disparity: 0.538998 borders: 0.010815 filter: 0.026019 fill: 0', '[CPU] estimating 720x808x160 disparity using 720x808x8u tiles, offset -126', 'timings: rectify: 0.013541 disparity: 0.477792 borders: 0.009719 filter: 0.019081 fill: 0', '[CPU] estimating 622x472x128 disparity using 622x472x8u tiles, offset -87', 'timings: rectify: 0.006748 disparity: 0.208109 borders: 0.005831 filter: 0.011555 fill: 0', '[CPU] estimating 536x448x96 disparity using 536x448x8u tiles, offset -65', 'timings: rectify: 0.005576 disparity: 0.127528 borders: 0.005529 filter: 0.008547 fill: 0', '[CPU] estimating 434x440x96 disparity using 434x440x8u tiles, offset -70', 'timings: rectify: 0.004341 disparity: 0.087688 borders: 0.005233 filter: 0.006465 fill: 0', '[CPU] estimating 680x780x160 disparity using 680x780x8u tiles, offset -88', 'timings: rectify: 0.014383 disparity: 0.449108 borders: 0.010315 filter: 0.019194 fill: 0', '[CPU] estimating 1023x961x160 disparity using 1023x961x8u tiles, offset -134', 'timings: rectify: 0.021913 disparity: 0.863655 borders: 0.017345 filter: 0.033637 fill: 0', '[CPU] estimating 909x795x96 disparity using 909x795x8u tiles, offset -60', 'timings: rectify: 0.01687 disparity: 0.415292 borders: 0.014596 filter: 0.0256 fill: 0', '[CPU] estimating 733x747x128 disparity using 733x747x8u tiles, offset -101', 'timings: rectify: 0.014532 disparity: 0.384092 borders: 0.010074 filter: 0.023374 fill: 0', '[CPU] estimating 852x882x160 disparity using 852x882x8u tiles, offset -106', 'timings: rectify: 0.022776 disparity: 0.625392 borders: 0.011108 filter: 0.02763 fill: 0', '[CPU] estimating 357x841x128 disparity using 357x841x8u tiles, offset -85', 'timings: rectify: 0.007081 disparity: 0.206637 borders: 0.004329 filter: 0.009523 fill: 0', '[CPU] estimating 419x764x128 disparity using 419x764x8u tiles, offset -68', 'timings: rectify: 0.01015 disparity: 0.219481 borders: 0.007018 filter: 0.011686 fill: 0', '[CPU] estimating 932x793x480 disparity using 932x793x8u tiles, offset -392', 'timings: rectify: 0.021215 disparity: 1.78909 borders: 0.006129 filter: 0.018325 fill: 0', '[CPU] estimating 645x998x192 disparity using 645x998x8u tiles, offset -45', 'timings: rectify: 0.030682 disparity: 0.651073 borders: 0.012925 filter: 0.02426 fill: 0', '[CPU] estimating 864x821x448 disparity using 864x821x8u tiles, offset -264', 'timings: rectify: 0.02494 disparity: 1.71576 borders: 0.008467 filter: 0.019542 fill: 0', '[CPU] estimating 705x1080x128 disparity using 705x1080x8u tiles, offset -87', 'timings: rectify: 0.02606 disparity: 0.55642 borders: 0.014016 filter: 0.029041 fill: 0', '[CPU] estimating 745x1383x128 disparity using 745x1383x8u tiles, offset -54', 'timings: rectify: 0.024196 disparity: 0.738874 borders: 0.020164 filter: 0.037603 fill: 0', '[CPU] estimating 639x1167x128 disparity using 639x1167x8u tiles, offset -11', 'timings: rectify: 0.017986 disparity: 0.523367 borders: 0.014376 filter: 0.024145 fill: 0', '[CPU] estimating 800x1333x128 disparity using 800x1333x8u tiles, offset -68', 'timings: rectify: 0.024822 disparity: 0.742291 borders: 0.019439 filter: 0.03713 fill: 0', '[CPU] estimating 905x945x224 disparity using 905x945x8u tiles, offset -27', 'timings: rectify: 0.029224 disparity: 1.01208 borders: 0.017239 filter: 0.037242 fill: 0', '[CPU] estimating 907x913x128 disparity using 907x913x8u tiles, offset -19', 'timings: rectify: 0.018547 disparity: 0.57564 borders: 0.01741 filter: 0.032711 fill: 0', '[CPU] estimating 806x818x96 disparity using 806x818x8u tiles, offset -84', 'timings: rectify: 0.026597 disparity: 0.395584 borders: 0.011357 filter: 0.021763 fill: 0', '[CPU] estimating 837x1256x128 disparity using 837x1256x8u tiles, offset -86', 'timings: rectify: 0.023762 disparity: 0.749897 borders: 0.018167 filter: 0.038518 fill: 0', '[CPU] estimating 905x1170x128 disparity using 905x1170x8u tiles, offset -52', 'timings: rectify: 0.037355 disparity: 0.733843 borders: 0.020582 filter: 0.0365 fill: 0', '[CPU] estimating 795x1220x160 disparity using 795x1220x8u tiles, offset -78', 'timings: rectify: 0.038466 disparity: 0.877398 borders: 0.01793 filter: 0.036613 fill: 0', '[CPU] estimating 739x1044x128 disparity using 739x1044x8u tiles, offset -106', 'timings: rectify: 0.017626 disparity: 0.549503 borders: 0.013188 filter: 0.030221 fill: 0', '[CPU] estimating 739x826x128 disparity using 739x826x8u tiles, offset -60', 'timings: rectify: 0.013869 disparity: 0.440527 borders: 0.009859 filter: 0.023647 fill: 0', '[CPU] estimating 567x1375x128 disparity using 567x1375x8u tiles, offset -58', 'timings: rectify: 0.017827 disparity: 0.559935 borders: 0.012694 filter: 0.027968 fill: 0', '[CPU] estimating 575x1400x128 disparity using 575x1400x8u tiles, offset -101', 'timings: rectify: 0.018334 disparity: 0.580468 borders: 0.012843 filter: 0.029436 fill: 0', '[CPU] estimating 419x764x128 disparity using 419x764x8u tiles, offset -87', 'timings: rectify: 0.011403 disparity: 0.228584 borders: 0.006494 filter: 0.011741 fill: 0', '[CPU] estimating 1051x812x192 disparity using 1051x812x8u tiles, offset -56', 'timings: rectify: 0.019427 disparity: 0.86705 borders: 0.015946 filter: 0.031938 fill: 0', '[CPU] estimating 921x1052x160 disparity using 921x1052x8u tiles, offset -85', 'timings: rectify: 0.033149 disparity: 0.79131 borders: 0.015895 filter: 0.033413 fill: 0', '[CPU] estimating 879x1028x160 disparity using 879x1028x8u tiles, offset -57', 'timings: rectify: 0.020525 disparity: 0.759097 borders: 0.014132 filter: 0.030197 fill: 0', '[CPU] estimating 896x746x192 disparity using 896x746x8u tiles, offset -56', 'timings: rectify: 0.025645 disparity: 0.6827 borders: 0.011031 filter: 0.023355 fill: 0', '[CPU] estimating 1102x937x160 disparity using 1102x937x8u tiles, offset -113', 'timings: rectify: 0.022699 disparity: 0.858407 borders: 0.018781 filter: 0.034909 fill: 0', '[CPU] estimating 965x4920x96 disparity using 965x984x8u tiles, offset -54', 'timings: rectify: 0.154018 disparity: 2.74439 borders: 0.089683 filter: 0.133721 fill: 0', '[CPU] estimating 647x947x160 disparity using 647x947x8u tiles, offset -90', 'timings: rectify: 0.022427 disparity: 0.557093 borders: 0.009673 filter: 0.023849 fill: 0', '[CPU] estimating 862x1233x192 disparity using 862x1233x8u tiles, offset -101', 'timings: rectify: 0.041061 disparity: 1.10355 borders: 0.011411 filter: 0.028312 fill: 1e-06', '[CPU] estimating 890x1141x448 disparity using 890x1141x8u tiles, offset -336', 'timings: rectify: 0.023082 disparity: 2.30154 borders: 0.008758 filter: 0.031222 fill: 0', '[CPU] estimating 588x1348x128 disparity using 588x1348x8u tiles, offset -60', 'timings: rectify: 0.030548 disparity: 0.561863 borders: 0.013 filter: 0.024661 fill: 0', '[CPU] estimating 590x1154x96 disparity using 590x1154x8u tiles, offset -39', 'timings: rectify: 0.027311 disparity: 0.38494 borders: 0.009001 filter: 0.020042 fill: 0', '[CPU] estimating 521x688x96 disparity using 521x688x8u tiles, offset -57', 'timings: rectify: 0.01335 disparity: 0.205 borders: 0.008995 filter: 0.014148 fill: 0', '[CPU] estimating 419x1212x96 disparity using 419x1212x8u tiles, offset -78', 'timings: rectify: 0.020397 disparity: 0.301392 borders: 0.009905 filter: 0.017169 fill: 0', '[CPU] estimating 993x1008x224 disparity using 993x1008x8u tiles, offset -150', 'timings: rectify: 0.034701 disparity: 1.1991 borders: 0.014283 filter: 0.031873 fill: 0', '[CPU] estimating 840x1095x128 disparity using 840x1095x8u tiles, offset -73', 'timings: rectify: 0.020875 disparity: 0.634762 borders: 0.012369 filter: 0.02918 fill: 0', '[CPU] estimating 628x625x128 disparity using 628x625x8u tiles, offset -47', 'timings: rectify: 0.011033 disparity: 0.273544 borders: 0.009159 filter: 0.015285 fill: 0', '[CPU] estimating 881x570x96 disparity using 881x570x8u tiles, offset -66', 'timings: rectify: 0.011251 disparity: 0.27219 borders: 0.01253 filter: 0.018082 fill: 0', '[CPU] estimating 579x1262x128 disparity using 579x1262x8u tiles, offset -88', 'timings: rectify: 0.016924 disparity: 0.508955 borders: 0.009275 filter: 0.021703 fill: 0', '[CPU] estimating 727x1353x128 disparity using 727x1353x8u tiles, offset -102', 'timings: rectify: 0.022721 disparity: 0.698693 borders: 0.014256 filter: 0.029638 fill: 0', '[CPU] estimating 829x899x192 disparity using 829x899x8u tiles, offset -135', 'timings: rectify: 0.028193 disparity: 0.743644 borders: 0.011286 filter: 0.027469 fill: 0', '[CPU] estimating 831x881x192 disparity using 831x881x8u tiles, offset -140', 'timings: rectify: 0.020549 disparity: 0.716578 borders: 0.009166 filter: 0.023378 fill: 0', '[CPU] estimating 806x1179x128 disparity using 806x1179x8u tiles, offset -68', 'timings: rectify: 0.021828 disparity: 0.655092 borders: 0.014715 filter: 0.033341 fill: 0', '[CPU] estimating 757x1037x128 disparity using 757x1037x8u tiles, offset -81', 'timings: rectify: 0.017959 disparity: 0.528473 borders: 0.011971 filter: 0.026799 fill: 1e-06', '[CPU] estimating 852x882x160 disparity using 852x882x8u tiles, offset -160', 'timings: rectify: 0.016858 disparity: 0.627196 borders: 0.009696 filter: 0.026335 fill: 0', '[CPU] estimating 1042x960x96 disparity using 1042x960x8u tiles, offset 0', 'timings: rectify: 0.035546 disparity: 0.585924 borders: 0.020448 filter: 0.033141 fill: 0', '[CPU] estimating 1020x1127x96 disparity using 1020x1127x8u tiles, offset -90', 'timings: rectify: 0.028804 disparity: 0.704654 borders: 0.022025 filter: 0.041539 fill: 0', '[CPU] estimating 1123x850x160 disparity using 1123x850x8u tiles, offset -51', 'timings: rectify: 0.035784 disparity: 0.798769 borders: 0.02005 filter: 0.035327 fill: 0', '[CPU] estimating 1180x1078x160 disparity using 1180x1078x8u tiles, offset -6', 'timings: rectify: 0.039667 disparity: 1.07014 borders: 0.025816 filter: 0.04363 fill: 0', '[CPU] estimating 1062x947x160 disparity using 1062x947x8u tiles, offset -129', 'timings: rectify: 0.030561 disparity: 0.841985 borders: 0.01826 filter: 0.034273 fill: 0', '[CPU] estimating 1103x937x160 disparity using 1103x937x8u tiles, offset -167', 'timings: rectify: 0.037593 disparity: 0.887325 borders: 0.018106 filter: 0.03442 fill: 0', '[CPU] estimating 941x804x416 disparity using 941x804x8u tiles, offset -350', 'timings: rectify: 0.022827 disparity: 1.62846 borders: 0.007574 filter: 0.02296 fill: 0', '[CPU] estimating 675x1076x160 disparity using 675x1076x8u tiles, offset -20', 'timings: rectify: 0.029383 disparity: 0.626912 borders: 0.010393 filter: 0.029479 fill: 0', '[CPU] estimating 854x1294x416 disparity using 854x1294x8u tiles, offset -286', 'timings: rectify: 0.024547 disparity: 2.32712 borders: 0.010819 filter: 0.035717 fill: 0', '[CPU] estimating 631x1133x128 disparity using 631x1133x8u tiles, offset -81', 'timings: rectify: 0.016905 disparity: 0.487433 borders: 0.013244 filter: 0.023816 fill: 0', '[CPU] estimating 688x1358x128 disparity using 688x1358x8u tiles, offset -56', 'timings: rectify: 0.038132 disparity: 0.647925 borders: 0.015819 filter: 0.028922 fill: 0', '[CPU] estimating 517x899x96 disparity using 517x899x8u tiles, offset -28', 'timings: rectify: 0.019358 disparity: 0.252773 borders: 0.009566 filter: 0.016609 fill: 0', '[CPU] estimating 735x1306x128 disparity using 735x1306x8u tiles, offset -28', 'timings: rectify: 0.022157 disparity: 0.664761 borders: 0.01572 filter: 0.033258 fill: 0', '[CPU] estimating 947x971x192 disparity using 947x971x8u tiles, offset -24', 'timings: rectify: 0.03064 disparity: 0.89449 borders: 0.017253 filter: 0.031843 fill: 0', '[CPU] estimating 908x1002x160 disparity using 908x1002x8u tiles, offset -55', 'timings: rectify: 0.029559 disparity: 0.788535 borders: 0.021344 filter: 0.033265 fill: 0', '[CPU] estimating 572x734x96 disparity using 572x734x8u tiles, offset -77', 'timings: rectify: 0.014495 disparity: 0.244101 borders: 0.007094 filter: 0.013957 fill: 0', '[CPU] estimating 735x1014x96 disparity using 735x1014x8u tiles, offset -48', 'timings: rectify: 0.016819 disparity: 0.407049 borders: 0.011474 filter: 0.020432 fill: 0', '[CPU] estimating 931x876x128 disparity using 931x876x8u tiles, offset -30', 'timings: rectify: 0.028379 disparity: 0.595907 borders: 0.013615 filter: 0.028259 fill: 0', '[CPU] estimating 756x1224x128 disparity using 756x1224x8u tiles, offset -67', 'timings: rectify: 0.021727 disparity: 0.650575 borders: 0.018466 filter: 0.032167 fill: 0', '[CPU] estimating 622x951x160 disparity using 622x951x8u tiles, offset -108', 'timings: rectify: 0.013444 disparity: 0.529573 borders: 0.010777 filter: 0.027084 fill: 0', '[CPU] estimating 697x872x160 disparity using 697x872x8u tiles, offset -67', 'timings: rectify: 0.026987 disparity: 0.517418 borders: 0.013438 filter: 0.026869 fill: 0', '[CPU] estimating 526x1336x128 disparity using 526x1336x8u tiles, offset -55', 'timings: rectify: 0.016183 disparity: 0.506077 borders: 0.010086 filter: 0.022571 fill: 0', '[CPU] estimating 467x1339x128 disparity using 467x1339x8u tiles, offset -53', 'timings: rectify: 0.027143 disparity: 0.454575 borders: 0.00962 filter: 0.021064 fill: 0', '[CPU] estimating 1095x885x224 disparity using 1095x885x8u tiles, offset -111', 'timings: rectify: 0.03183 disparity: 1.14142 borders: 0.01728 filter: 0.035374 fill: 0', '[CPU] estimating 921x1053x192 disparity using 921x1053x8u tiles, offset -80', 'timings: rectify: 0.021023 disparity: 0.965068 borders: 0.014511 filter: 0.034606 fill: 0', '[CPU] estimating 840x1059x160 disparity using 840x1059x8u tiles, offset -37', 'timings: rectify: 0.030721 disparity: 0.770802 borders: 0.01549 filter: 0.032683 fill: 0', '[CPU] estimating 984x937x224 disparity using 984x937x8u tiles, offset -74', 'timings: rectify: 0.027953 disparity: 1.06468 borders: 0.012496 filter: 0.030416 fill: 0', '[CPU] estimating 1061x947x160 disparity using 1061x947x8u tiles, offset -72', 'timings: rectify: 0.033243 disparity: 0.850642 borders: 0.019271 filter: 0.037921 fill: 0', '[CPU] estimating 966x4920x96 disparity using 966x984x8u tiles, offset -54', 'timings: rectify: 0.108016 disparity: 2.68026 borders: 0.092824 filter: 0.136427 fill: 0', '[CPU] estimating 221x946x224 disparity using 221x946x8u tiles, offset -71', 'timings: rectify: 0.00719 disparity: 0.245819 borders: 0.00514 filter: 0.007809 fill: 0', '[CPU] estimating 389x916x160 disparity using 389x916x8u tiles, offset -24', 'timings: rectify: 0.012234 disparity: 0.306088 borders: 0.006411 filter: 0.01104 fill: 0', '[CPU] estimating 627x1114x160 disparity using 627x1114x8u tiles, offset -38', 'timings: rectify: 0.015571 disparity: 0.580816 borders: 0.013102 filter: 0.020431 fill: 0', '[CPU] estimating 672x1047x160 disparity using 672x1047x8u tiles, offset -20', 'timings: rectify: 0.015932 disparity: 0.589621 borders: 0.012634 filter: 0.027228 fill: 0', '[CPU] estimating 720x1148x160 disparity using 720x1148x8u tiles, offset -17', 'timings: rectify: 0.02042 disparity: 0.693573 borders: 0.016559 filter: 0.032285 fill: 0', '[CPU] estimating 1234x1439x96 disparity using 1234x1439x8u tiles, offset -35', 'timings: rectify: 0.040206 disparity: 1.0299 borders: 0.038755 filter: 0.057491 fill: 0', '[CPU] estimating 633x1070x96 disparity using 633x1070x8u tiles, offset -1', 'timings: rectify: 0.017658 disparity: 0.393445 borders: 0.019659 filter: 0.026369 fill: 0', '[CPU] estimating 825x919x128 disparity using 825x919x8u tiles, offset -64', 'timings: rectify: 0.019824 disparity: 0.539089 borders: 0.014936 filter: 0.028608 fill: 0', '[CPU] estimating 976x1090x128 disparity using 976x1090x8u tiles, offset 0', 'timings: rectify: 0.023841 disparity: 0.749648 borders: 0.016051 filter: 0.034717 fill: 0', '[CPU] estimating 625x1054x160 disparity using 625x1054x8u tiles, offset -26', 'timings: rectify: 0.024062 disparity: 0.592123 borders: 0.013742 filter: 0.024438 fill: 0', '[CPU] estimating 982x1233x128 disparity using 982x1233x8u tiles, offset -29', 'timings: rectify: 0.028649 disparity: 0.843761 borders: 0.0276 filter: 0.043685 fill: 0', '[CPU] estimating 900x1293x128 disparity using 900x1293x8u tiles, offset 0', 'timings: rectify: 0.038427 disparity: 0.798047 borders: 0.020599 filter: 0.040625 fill: 0', '[CPU] estimating 476x1193x96 disparity using 476x1193x8u tiles, offset -7', 'timings: rectify: 0.020215 disparity: 0.326523 borders: 0.010469 filter: 0.019825 fill: 0', '[CPU] estimating 820x1058x128 disparity using 820x1058x8u tiles, offset -16', 'timings: rectify: 0.019411 disparity: 0.612423 borders: 0.014596 filter: 0.026511 fill: 0', '[CPU] estimating 266x1021x192 disparity using 266x1021x8u tiles, offset -39', 'timings: rectify: 0.006068 disparity: 0.263332 borders: 0.005662 filter: 0.0087 fill: 0', '[CPU] estimating 376x856x192 disparity using 376x856x8u tiles, offset -53', 'timings: rectify: 0.014993 disparity: 0.325738 borders: 0.006652 filter: 0.012869 fill: 0', '[CPU] estimating 428x3784x128 disparity using 428x946x8u tiles, offset -38', 'timings: rectify: 0.041865 disparity: 1.16345 borders: 0.026307 filter: 0.051535 fill: 0', '[CPU] estimating 539x1939x160 disparity using 539x970x8u tiles, offset -30', 'timings: rectify: 0.033845 disparity: 0.902844 borders: 0.012431 filter: 0.03043 fill: 0', '[CPU] estimating 414x3880x128 disparity using 414x970x8u tiles, offset -19', 'timings: rectify: 0.040218 disparity: 1.1237 borders: 0.021188 filter: 0.054207 fill: 0', '[CPU] estimating 398x3862x128 disparity using 398x966x8u tiles, offset -20', 'timings: rectify: 0.055214 disparity: 1.08524 borders: 0.021886 filter: 0.047071 fill: 0', '[CPU] estimating 489x1058x128 disparity using 489x1058x8u tiles, offset -61', 'timings: rectify: 0.013021 disparity: 0.363497 borders: 0.010235 filter: 0.020578 fill: 0', '[CPU] estimating 938x1171x512 disparity using 938x1171x8u tiles, offset -73', 'timings: rectify: 0.022927 disparity: 2.89649 borders: 0.013312 filter: 0.040717 fill: 0', '[CPU] estimating 877x1135x544 disparity using 877x1135x8u tiles, offset -111', 'timings: rectify: 0.020912 disparity: 2.76382 borders: 0.012007 filter: 0.034984 fill: 0', '[CPU] estimating 829x1142x512 disparity using 829x1142x8u tiles, offset -63', 'timings: rectify: 0.03401 disparity: 2.52574 borders: 0.009915 filter: 0.033157 fill: 0', '[CPU] estimating 891x1112x672 disparity using 891x1112x8u tiles, offset -112', 'timings: rectify: 0.021233 disparity: 3.27824 borders: 0.010774 filter: 0.031665 fill: 0', '[CPU] estimating 595x1230x128 disparity using 595x1230x8u tiles, offset -25', 'timings: rectify: 0.016958 disparity: 0.497982 borders: 0.011926 filter: 0.02494 fill: 0', '[CPU] estimating 593x1325x128 disparity using 593x1325x8u tiles, offset -22', 'timings: rectify: 0.018076 disparity: 0.59171 borders: 0.01424 filter: 0.030398 fill: 0', '[CPU] estimating 694x1098x128 disparity using 694x1098x8u tiles, offset -34', 'timings: rectify: 0.027185 disparity: 0.514121 borders: 0.0132 filter: 0.022746 fill: 0', '[CPU] estimating 669x1083x160 disparity using 669x1083x8u tiles, offset -36', 'timings: rectify: 0.01696 disparity: 0.598965 borders: 0.012209 filter: 0.027739 fill: 0', '[CPU] estimating 728x1353x128 disparity using 728x1353x8u tiles, offset -14', 'timings: rectify: 0.03793 disparity: 0.704242 borders: 0.015358 filter: 0.033012 fill: 0', '[CPU] estimating 756x1224x128 disparity using 756x1224x8u tiles, offset -73', 'timings: rectify: 0.035206 disparity: 0.677447 borders: 0.017546 filter: 0.030635 fill: 0', '[CPU] estimating 795x1220x160 disparity using 795x1220x8u tiles, offset -97', 'timings: rectify: 0.022758 disparity: 0.857566 borders: 0.015391 filter: 0.031863 fill: 0', 'finished depth reconstruction in 804.273 seconds', 'Device 1 performance: 189.556 million samples/sec (CPU)', 'Total performance: 189.556 million samples/sec', 'selected 35 cameras in 0.12156 sec', 'working volume: 2499x1897x937', 'tiles: 1x1x1', 'selected 35 cameras', 'preloading data... done in 0.140654 sec', 'filtering depth maps... done in 25.65 sec', 'preloading data... done in 0.481583 sec', 'accumulating data... done in 0.791401 sec', 'building point cloud... done in 0.378991 sec', '7246067 points extracted', 'SaveProject', 'saved project in 3.12762 sec', 'stop time:  1484288777.4055634', 'srun: error: n0009.savio1: task 0: Exited with exit code 1', 'srun: Terminating job step 1064920.0']\n"
     ]
    }
   ],
   "source": [
    "\n",
    "# GPUs\n",
    "#out = !srun  --time=01:30:00 -A ac_scsguest  \\\n",
    "#        --partition=savio2_gpu --cpus-per-task=2 --gres=gpu:1 \\\n",
    "#        singularity exec -B  /global/scratch/mmanning/actest/:/scratch  \\\n",
    "#        /global/scratch/mmanning/photoscan13.img   \\\n",
    "#        /global/home/users/mmanning/actest/execscript.sh\n",
    "\n",
    "# Normal\n",
    "#        --nodes=1 --cpus-per-task=1 --ntasks-per-node=20  \\\n",
    "out = !srun  --time=01:30:00 -A ac_scsguest  \\\n",
    "        --partition=savio --qos=savio_normal   \\\n",
    "        singularity exec -B  /global/scratch/mmanning/actest/:/scratch  \\\n",
    "        $singularityContainerPath  $execScript\n",
    "        \n",
    "\n",
    "# Debug\n",
    "#out = !srun  --time=00:30:00 -A ac_scsguest  \\\n",
    "#        --partition=savio --qos=savio_debug   \\\n",
    "#        singularity exec -B  /global/scratch/mmanning/actest/:/scratch  \\\n",
    "#        /global/scratch/mmanning/photoscan13.img /global/home/users/mmanning/actest/execscript.sh    \n",
    "    \n",
    "    \n",
    "#/opt/photoscan-pro/photoscan.sh -r /global/home/users/mmanning/actest/step_2.py\n",
    "        \n",
    "print (' step 2 output: ', out ) \n",
    "\n",
    "# clean up the script file\n",
    "#os.remove(step2script)"
   ]
  },
  {
   "cell_type": "markdown",
   "metadata": {},
   "source": [
    "#### Move the resulting psz back to Box. \n",
    "Large file this time."
   ]
  },
  {
   "cell_type": "code",
   "execution_count": 16,
   "metadata": {
    "collapsed": false,
    "scrolled": true
   },
   "outputs": [
    {
     "name": "stdout",
     "output_type": "stream",
     "text": [
      "find_folder_id folder_name:  actest2\n",
      "find_folder_id folderlist:  [<Box Folder - 16567270680 (actest2)>]\n",
      "project file list:  [<Box File - 122511901070 (actestproject.psz)>]\n",
      "project file id:  122511901070\n",
      "begin project file update.\n",
      "update psz result:  <Box File - 122511901070>\n"
     ]
    }
   ],
   "source": [
    "update_project_file_in_box()"
   ]
  },
  {
   "cell_type": "markdown",
   "metadata": {},
   "source": [
    "#### <span style=\"color:red\">OFFLINE STEP:</span> User cleans images in the project (psz) file locally using Photoscan on desktop."
   ]
  },
  {
   "cell_type": "markdown",
   "metadata": {},
   "source": [
    "### Build the mesh"
   ]
  },
  {
   "cell_type": "markdown",
   "metadata": {},
   "source": [
    "__Retrieve the project file (psz) from Box as it may have been updated.__"
   ]
  },
  {
   "cell_type": "code",
   "execution_count": 17,
   "metadata": {
    "collapsed": false,
    "scrolled": true
   },
   "outputs": [
    {
     "name": "stdout",
     "output_type": "stream",
     "text": [
      "current working directory:  /global/home/users/mmanning\n",
      "find_folder_id folder_name:  actest2\n",
      "find_folder_id folderlist:  [<Box Folder - 16567270680 (actest2)>]\n",
      "downloading:  actestproject.psz\n",
      "download complete.\n"
     ]
    }
   ],
   "source": [
    "retrieve_project_file()"
   ]
  },
  {
   "cell_type": "markdown",
   "metadata": {},
   "source": [
    "__build the mesh__\n",
    "\n",
    "Surface type in [Arbitrary, HeightField]\n",
    "\n",
    "Face count in [LowFaceCount, MediumFaceCount, HighFaceCount]\n",
    "\n",
    "Data source in [PointCloudData, DenseCloudData, ModelData, TiledModelData, ElevationData, OrthomosaicData]"
   ]
  },
  {
   "cell_type": "code",
   "execution_count": 18,
   "metadata": {
    "collapsed": true,
    "scrolled": true
   },
   "outputs": [],
   "source": [
    "template = '#!/usr/bin/env python3 \\n\\\n",
    "import PhotoScan \\n\\\n",
    "import time \\n\\\n",
    "print( \"start time: \", time.time()) \\n\\\n",
    "doc = PhotoScan.app.document \\n\\\n",
    "doc.open(\\\"{}\\\") \\n\\\n",
    "chunk = doc.chunk \\n\\\n",
    "chunk.buildModel(surface=PhotoScan.Arbitrary, source=PhotoScan.DenseCloudData, face_count=PhotoScan.HighFaceCount ) \\n\\\n",
    "doc.save() \\n\\\n",
    "chunk = doc.chunk \\n\\\n",
    "print( \"stop time: \", time.time()) \\n'\n",
    "\n",
    "output = template.format(projectFile)\n",
    "\n",
    "with open(commandScript, 'w') as f:  \n",
    "    f.write(output)\n"
   ]
  },
  {
   "cell_type": "markdown",
   "metadata": {},
   "source": [
    "#### Execute the mesh build"
   ]
  },
  {
   "cell_type": "code",
   "execution_count": 19,
   "metadata": {
    "collapsed": false,
    "scrolled": true
   },
   "outputs": [
    {
     "name": "stdout",
     "output_type": "stream",
     "text": [
      "  mesh build output:  ['Activation successful', 'start time:  1484291485.4682243', 'LoadProject', 'loaded project in 0.906071 sec', 'BuildModel: surface type = Arbitrary, source data = Dense cloud, face count = High, interpolation = Enabled', 'Grid size: 2499 x 1897 x 937', 'Tree depth: 12', 'Tree set in 30.0296s (4699733 points)', 'Leaves/Nodes: 31208815/35667217', 'Laplacian constraints set in 7.71011s', 'Depth[0/12]: 1', '\\tEvaluated / Got / Solved in: 0 / 5.48363e-05 / 9.60827e-05', 'Depth[1/12]: 8', '\\tEvaluated / Got / Solved in: 0 / 0.000277996 / 0.00965714', 'Depth[2/12]: 64', '\\tEvaluated / Got / Solved in: 0 / 0.000825882 / 0.00664783', 'Depth[3/12]: 512', '\\tEvaluated / Got / Solved in: 0 / 0.00103045 / 0.0110214', 'Depth[4/12]: 4096', '\\tEvaluated / Got / Solved in: 0 / 0.00433302 / 0.0291336', 'Depth[5/12]: 32768', '\\tEvaluated / Got / Solved in: 0 / 0.0403321 / 0.0508599', 'Depth[6/12]: 27080', '\\tEvaluated / Got / Solved in: 0 / 0.0296288 / 0.0833011', 'Depth[7/12]: 91632', '\\tEvaluated / Got / Solved in: 0 / 0.157775 / 0.18803', 'Depth[8/12]: 337128', '\\tEvaluated / Got / Solved in: 0 / 0.414109 / 0.417444', 'Depth[9/12]: 1263344', '\\tEvaluated / Got / Solved in: 0 / 1.28206 / 1.07277', 'Depth[10/12]: 4435048', '\\tEvaluated / Got / Solved in: 0 / 3.25981 / 2.67152', 'Depth[11/12]: 12230504', '\\tEvaluated / Got / Solved in: 0 / 5.17813 / 6.37068', 'Depth[12/12]: 17245032', '\\tEvaluated / Got / Solved in: 0 / 6.13996 / 9.16301', 'Linear system solved in 38.6675s', 'Got Iso-value in 1.53901s', 'Iso-Value -0.566944', '11309002 faces extracted in 40.0458s', 'decimating mesh (11256798 -> 939946)', 'processing nodes...  done in 0.057051 sec', 'calculating colors...  done in 10.1863 sec', 'SaveProject', 'saved project in 5.19348 sec', 'stop time:  1484291694.5272412', 'srun: error: n0058.savio1: task 0: Exited with exit code 1', 'srun: Terminating job step 1065121.0']\n"
     ]
    }
   ],
   "source": [
    "    \n",
    "out = !srun  --time=00:30:00 -A ac_scsguest --qos=savio_normal  --partition=savio  \\\n",
    "        singularity exec -B  /global/scratch/mmanning/actest/:/scratch  \\\n",
    "        $singularityContainerPath  $execScript   \n",
    "    \n",
    "print ('  mesh build output: ', out ) "
   ]
  },
  {
   "cell_type": "markdown",
   "metadata": {},
   "source": [
    "#### Move the resulting psz back to Box. "
   ]
  },
  {
   "cell_type": "code",
   "execution_count": 20,
   "metadata": {
    "collapsed": false,
    "scrolled": true
   },
   "outputs": [
    {
     "name": "stdout",
     "output_type": "stream",
     "text": [
      "find_folder_id folder_name:  actest2\n",
      "find_folder_id folderlist:  [<Box Folder - 16567270680 (actest2)>]\n",
      "project file list:  [<Box File - 122511901070 (actestproject.psz)>]\n",
      "project file id:  122511901070\n",
      "begin project file update.\n",
      "update psz result:  <Box File - 122511901070>\n"
     ]
    }
   ],
   "source": [
    "update_project_file_in_box()"
   ]
  },
  {
   "cell_type": "markdown",
   "metadata": {},
   "source": [
    "#### <span style=\"color:red\">OFFLINE STEP:</span> User adds marker points in the project (psz) file locally using Photoscan on desktop."
   ]
  },
  {
   "cell_type": "markdown",
   "metadata": {},
   "source": [
    "### Build the texture and the orthomosaic"
   ]
  },
  {
   "cell_type": "markdown",
   "metadata": {},
   "source": [
    "__Retrieve the project file (psz) from Box as it may have been updated.__"
   ]
  },
  {
   "cell_type": "code",
   "execution_count": 21,
   "metadata": {
    "collapsed": false,
    "scrolled": true
   },
   "outputs": [
    {
     "name": "stdout",
     "output_type": "stream",
     "text": [
      "current working directory:  /global/home/users/mmanning\n",
      "find_folder_id folder_name:  actest2\n",
      "find_folder_id folderlist:  [<Box Folder - 16567270680 (actest2)>]\n",
      "downloading:  actestproject.psz\n",
      "download complete.\n"
     ]
    }
   ],
   "source": [
    "retrieve_project_file()"
   ]
  },
  {
   "cell_type": "markdown",
   "metadata": {},
   "source": [
    "__build the texture and the orthomosaic__\n",
    "\n",
    "\n",
    "Data source in [PointCloudData, DenseCloudData, ModelData, TiledModelData, ElevationData, OrthomosaicData]\n",
    "\n",
    "To specify coordinate system add: \n",
    "chunk.crs = PhotoScan.CoordinateSystem(\"????\")  \\n\\"
   ]
  },
  {
   "cell_type": "code",
   "execution_count": 3,
   "metadata": {
    "collapsed": false,
    "scrolled": true
   },
   "outputs": [],
   "source": [
    "template = '#!/usr/bin/env python3 \\n\\\n",
    "import PhotoScan \\n\\\n",
    "import time \\n\\\n",
    "print( \"start time: \", time.time()) \\n\\\n",
    "doc = PhotoScan.app.document \\n\\\n",
    "doc.open(\\\"{}\\\") \\n\\\n",
    "chunk = doc.chunk \\n\\\n",
    "chunk.buildUV(mapping=PhotoScan.GenericMapping) \\n\\\n",
    "chunk.buildTexture( color_correction=True ) \\n\\\n",
    "doc.save(runFolder + realprojectFile) \\n\\\n",
    "doc.open(runFolder + realprojectFile) \\n\\\n",
    "chunk = doc.chunk \\n\\\n",
    "chunk.buildOrthomosaic( surface=PhotoScan.DataSource.ModelData ) \\n\\\n",
    "doc.save() \\n\\\n",
    "chunk = doc.chunk \\n\\\n",
    "print( \"stop time: \", time.time()) \\n'\n",
    "\n",
    "output = template.format(projectFile)\n",
    "\n",
    "with open(commandScript, 'w') as f:  \n",
    "    f.write(output)\n"
   ]
  },
  {
   "cell_type": "markdown",
   "metadata": {},
   "source": [
    "#### Execute the texture and orthomosaic build"
   ]
  },
  {
   "cell_type": "code",
   "execution_count": 4,
   "metadata": {
    "collapsed": false,
    "scrolled": true
   },
   "outputs": [
    {
     "name": "stdout",
     "output_type": "stream",
     "text": [
      "  texture and orthomosaic build output:  ['Activation successful', 'start time:  1484368464.711834', 'LoadProject', 'loaded project in 1.3401 sec', 'BuildUV: blending mode = Generic, texture count = 1', 'Packing 633 charts...', 'BuildTexture: blending mode = Mosaic, texture size = 2048, enable color correction', 'collecting control points... collected 613065 points in 3.65725 sec', 'analyzing 35 images... *********************************** done in 2.88697 sec', 'estimating corrections... ', 'disabled 97 out of 514216 points (rms error 0.12287)', 'adjusting: xxx- 0.130218 -> 0.0887124', 'adjusting: xxxxx 0.121434 -> 0.082126', 'adjusting: xxxxxxxxxxxxxxxxxxxxxxxx 0.116343 -> 0.0734604', 'disabled 3313 out of 514216 points (rms error 0.0799492)', 'adjusting: xxxxxxxx 0.0840403 -> 0.0834751', 'adjusting: xxxxxxxxx 0.0774679 -> 0.0768954', 'adjusting: xxxxxxxxxxxxxxxxxxxxxxxxxxxxxxxxxxx 0.0690445 -> 0.0683913', 'disabled 4954 out of 514216 points (rms error 0.0761234)', 'adjusting: xx 0.081705 -> 0.0816877', 'adjusting: xxxxxx 0.0751011 -> 0.0750723', 'adjusting: xxxxxxxxx 0.0668452 -> 0.0666981', 'finished RBA in 96.6732 seconds', 'blending textures... *********************************** frames quality estimated in 1.28838 sec', '*********************************** done in 13.7217 sec', 'postprocessing atlas... done in 0.022358 sec', 'Traceback (most recent call last):', '  File \"/global/home/users/mmanning/actest/commandscript.sh\", line 10, in <module>', '    doc.save(runFolder + realprojectFile) ', \"NameError: name 'runFolder' is not defined\", 'srun: error: n0047.savio1: task 0: Exited with exit code 1', 'srun: Terminating job step 1067498.0']\n"
     ]
    }
   ],
   "source": [
    "out = !srun  --time=00:50:00 -A ac_scsguest --qos=savio_normal  --partition=savio  \\\n",
    "        singularity exec -B  $scratchImageDataDirectory:$singularitymountfolder  \\\n",
    "        $singularityContainerPath  $execScript   \n",
    "    \n",
    "print ('  texture and orthomosaic build output: ', out ) "
   ]
  },
  {
   "cell_type": "markdown",
   "metadata": {},
   "source": [
    "#### Move the resulting psz back to Box. "
   ]
  },
  {
   "cell_type": "code",
   "execution_count": null,
   "metadata": {
    "collapsed": true,
    "scrolled": true
   },
   "outputs": [],
   "source": [
    "update_project_file_in_box()"
   ]
  },
  {
   "cell_type": "markdown",
   "metadata": {},
   "source": [
    "### Export results to Box"
   ]
  },
  {
   "cell_type": "markdown",
   "metadata": {},
   "source": [
    "#### Export the orthomosaic format"
   ]
  },
  {
   "cell_type": "code",
   "execution_count": 11,
   "metadata": {
    "collapsed": false,
    "scrolled": true
   },
   "outputs": [],
   "source": [
    "import os\n",
    "os.chdir(scratchImageDataDirectory)\n",
    "\n",
    "template = '#!/usr/bin/env python3 \\n\\\n",
    "import PhotoScan \\n\\\n",
    "doc = PhotoScan.app.document \\n\\\n",
    "doc.open(\\\"{}\\\") \\n\\\n",
    "chunk = doc.chunk \\n\\\n",
    "chunk.exportOrthomosaic(path=\\\"{}\\\", image_format=PhotoScan.ImageFormat.ImageFormatTIFF,)  \\n' \n",
    "\n",
    "output = template.format(projectFile, scratchImageDataDirectory + orthoFile)\n",
    "\n",
    "with open(commandScript, 'w') as f:\n",
    "    f.write(output)\n"
   ]
  },
  {
   "cell_type": "code",
   "execution_count": 22,
   "metadata": {
    "collapsed": false,
    "scrolled": true
   },
   "outputs": [
    {
     "name": "stdout",
     "output_type": "stream",
     "text": [
      " step 3 output:  ['Activation successful', 'LoadProject', 'loaded project in 0.644578 sec', 'ExportModel', 'srun: error: n0101.savio1: task 0: Exited with exit code 1', 'srun: Terminating job step 1015000.0']\n"
     ]
    }
   ],
   "source": [
    "out = !srun  --time=01:30:00 -A ac_scsguest  \\\n",
    "        --partition=savio --qos=savio_normal   \\\n",
    "        singularity exec -B  /global/scratch/mmanning/actest/:/scratch  \\\n",
    "        /global/scratch/mmanning/photoscan13.img /global/home/users/mmanning/actest/execscript.sh  \n",
    "        \n",
    "print (' Export the orthomosaic format output: ', out ) "
   ]
  },
  {
   "cell_type": "markdown",
   "metadata": {},
   "source": [
    "#### Move the resulting Orthomosaic file to Box. "
   ]
  },
  {
   "cell_type": "code",
   "execution_count": 10,
   "metadata": {
    "collapsed": false,
    "scrolled": true
   },
   "outputs": [
    {
     "name": "stdout",
     "output_type": "stream",
     "text": [
      "pdf file id:  118928041821\n"
     ]
    }
   ],
   "source": [
    "orthoUploaded = upload_folder.upload(scratchImageDataDirectory + orthoFile)  \n",
    "print (\"orthomosaic file id: \", orthoUploaded['id'] )"
   ]
  },
  {
   "cell_type": "markdown",
   "metadata": {},
   "source": [
    "#### Generate OBJ format and load to Box\n",
    "then download and view at: http://3dviewer.net/"
   ]
  },
  {
   "cell_type": "code",
   "execution_count": 74,
   "metadata": {
    "collapsed": true,
    "scrolled": true
   },
   "outputs": [],
   "source": [
    "import os\n",
    "os.chdir(scratchImageDataDirectory)\n",
    "\n",
    "template = '#!/usr/bin/env python3 \\n\\\n",
    "import PhotoScan \\n\\\n",
    "doc = PhotoScan.app.document \\n\\\n",
    "doc.open(\\\"{}\\\") \\n\\\n",
    "chunk = doc.chunk \\n\\\n",
    "chunk.exportModel(path=\\\"{}\\\", format=PhotoScan.ModelFormat.ModelFormatOBJ)  \\n' \n",
    "\n",
    "output = template.format(projectFile, scratchImageDataDirectory + objFile)\n",
    "\n",
    "with open(commandScript, 'w') as f:\n",
    "    f.write(output)\n"
   ]
  },
  {
   "cell_type": "code",
   "execution_count": 75,
   "metadata": {
    "collapsed": false,
    "scrolled": true
   },
   "outputs": [
    {
     "name": "stdout",
     "output_type": "stream",
     "text": [
      " Generate OBJ format output:  ['Activation successful', 'LoadProject', 'loaded project in 0.815927 sec', 'ExportModel', 'Traceback (most recent call last):', '  File \"/global/home/users/mmanning/actest/commandscript.sh\", line 6, in <module>', '    chunk.exportModel(path=\"/global/scratch/mmanning/actest/model.obj\", format=PhotoScan.ModelFormat.ModelFormatOBJ)  ', 'RuntimeError: Null model', 'srun: error: n0022.savio1: task 0: Exited with exit code 1', 'srun: Terminating job step 1064340.0']\n"
     ]
    }
   ],
   "source": [
    "out = !srun  --time=01:30:00 -A ac_scsguest  \\\n",
    "        --partition=savio --qos=savio_normal   \\\n",
    "        singularity exec -B  /global/scratch/mmanning/actest/:/scratch  \\\n",
    "        /global/scratch/mmanning/photoscan13.img /global/home/users/mmanning/actest/execscript.sh  \n",
    "        \n",
    "print (' Generate OBJ format output: ', out ) "
   ]
  },
  {
   "cell_type": "markdown",
   "metadata": {},
   "source": [
    "#### Move the resulting OBJ file to Box."
   ]
  },
  {
   "cell_type": "code",
   "execution_count": 17,
   "metadata": {
    "collapsed": false,
    "scrolled": true
   },
   "outputs": [
    {
     "name": "stdout",
     "output_type": "stream",
     "text": [
      "obj file id:  118928907887\n"
     ]
    }
   ],
   "source": [
    "objUploaded = upload_folder.upload(scratchImageDataDirectory + objFile)  \n",
    "print (\"obj file id: \", objUploaded['id'] )"
   ]
  }
 ],
 "metadata": {
  "kernelspec": {
   "display_name": "py35",
   "language": "python",
   "name": "py35"
  },
  "language_info": {
   "codemirror_mode": {
    "name": "ipython",
    "version": 3
   },
   "file_extension": ".py",
   "mimetype": "text/x-python",
   "name": "python",
   "nbconvert_exporter": "python",
   "pygments_lexer": "ipython3",
   "version": "3.5.2"
  }
 },
 "nbformat": 4,
 "nbformat_minor": 0
}
